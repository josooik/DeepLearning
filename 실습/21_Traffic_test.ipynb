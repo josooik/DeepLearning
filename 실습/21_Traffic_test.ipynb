{
  "nbformat": 4,
  "nbformat_minor": 0,
  "metadata": {
    "colab": {
      "name": "20_Traffic_test.ipynb",
      "provenance": [],
      "collapsed_sections": []
    },
    "kernelspec": {
      "name": "python3",
      "display_name": "Python 3"
    },
    "language_info": {
      "name": "python"
    }
  },
  "cells": [
    {
      "cell_type": "code",
      "source": [
        "import cv2\n",
        "from google.colab.patches import cv2_imshow\n",
        "import IPython\n",
        "import numpy as np"
      ],
      "metadata": {
        "id": "sW0b51Fzn0Ml"
      },
      "execution_count": 137,
      "outputs": []
    },
    {
      "cell_type": "markdown",
      "source": [
        "## Load Yolo\n",
        "\n",
        "1. 드라이브 마운트\n",
        "2. 개별 파일 업로드"
      ],
      "metadata": {
        "id": "SK_YEMm_l8WG"
      }
    },
    {
      "cell_type": "code",
      "source": [
        "from google.colab import drive\n",
        "drive.mount('/content/drive/')"
      ],
      "metadata": {
        "colab": {
          "base_uri": "https://localhost:8080/"
        },
        "id": "yYZ6k_2lmIz-",
        "outputId": "4608b8e3-c6bd-4ffb-ee46-994c62b75ff8"
      },
      "execution_count": 138,
      "outputs": [
        {
          "output_type": "stream",
          "name": "stdout",
          "text": [
            "Drive already mounted at /content/drive/; to attempt to forcibly remount, call drive.mount(\"/content/drive/\", force_remount=True).\n"
          ]
        }
      ]
    },
    {
      "cell_type": "code",
      "source": [
        "! ls '/content/drive/MyDrive/딥러닝/Lecture_deeplearning_basic-main/실습/dataset/yolo-traffic-sign/'"
      ],
      "metadata": {
        "colab": {
          "base_uri": "https://localhost:8080/"
        },
        "id": "CB3WQOxjmgBH",
        "outputId": "7662e4f8-32d0-4340-c659-72029e91bd0a"
      },
      "execution_count": 163,
      "outputs": [
        {
          "output_type": "stream",
          "name": "stdout",
          "text": [
            "darknet\t\t    traffic-train-yolo_1000.weights  Train.csv\n",
            "result\t\t    traffic-train-yolo_2000.weights  Train.zip\n",
            "Test\t\t    traffic-train-yolo.cfg\n",
            "Traffic_test.ipynb  traffic-train-yolo_last.weights\n"
          ]
        }
      ]
    },
    {
      "cell_type": "code",
      "execution_count": 181,
      "metadata": {
        "id": "ZXy52cPYlnZg"
      },
      "outputs": [],
      "source": [
        "cfg_file = '/content/drive/MyDrive/딥러닝/Lecture_deeplearning_basic-main/실습/dataset/yolo-traffic-sign/traffic-train-yolo.cfg'\n",
        "weight_file = '/content/drive/MyDrive/딥러닝/Lecture_deeplearning_basic-main/실습/dataset/yolo-traffic-sign/traffic-train-yolo_1000.weights'"
      ]
    },
    {
      "cell_type": "code",
      "source": [
        "net = cv2.dnn.readNet(weight_file, cfg_file)\n",
        "layer_names = net.getLayerNames()\n",
        "output_layers = [layer_names[i[0] - 1] for i in net.getUnconnectedOutLayers()]"
      ],
      "metadata": {
        "id": "zmpt3rTinsLt"
      },
      "execution_count": 176,
      "outputs": []
    },
    {
      "cell_type": "code",
      "source": [
        "img_path = '/content/drive/MyDrive/딥러닝/Lecture_deeplearning_basic-main/실습/dataset/yolo-traffic-sign/Test/00410.png'\n",
        "img = cv2.imread(img_path)\n",
        "cv2_imshow(img)"
      ],
      "metadata": {
        "colab": {
          "base_uri": "https://localhost:8080/",
          "height": 102
        },
        "id": "_-lmq7BgpzFG",
        "outputId": "e04b8526-949f-4240-cb52-a8da85446fa1"
      },
      "execution_count": 190,
      "outputs": [
        {
          "output_type": "display_data",
          "data": {
            "image/png": "[encoded data removed]",
            "text/plain": [
              "<PIL.Image.Image image mode=RGB size=99x85 at 0x7F3E11A8A2D0>"
            ]
          },
          "metadata": {}
        }
      ]
    },
    {
      "cell_type": "code",
      "source": [
        "class_names = [\"Prohibitory\", \"Danger\", \"Mandatory\", \"Other\"]"
      ],
      "metadata": {
        "id": "WhGVYVzhtgd5"
      },
      "execution_count": 191,
      "outputs": []
    },
    {
      "cell_type": "code",
      "source": [
        "img = cv2.imread(img_path)\n",
        "height, width, channels = img.shape\n",
        "print(height, width, channels)\n",
        "\n",
        "# Detecting objects\n",
        "# https://docs.opencv.org/master/d6/d0f/group__dnn.html\n",
        "blob = cv2.dnn.blobFromImage(img, 0.00392, (416, 416), (0, 0, 0), True, crop=False)\n",
        "\n",
        "net.setInput(blob)\n",
        "outs = net.forward(output_layers)\n",
        "\n",
        "class_ids = []\n",
        "confidences = []\n",
        "boxes = []\n",
        "min_confidence = 0.3\n",
        "for out in outs:\n",
        "    for detection in out:\n",
        "        scores = detection[5:]\n",
        "        class_id = np.argmax(scores)\n",
        "        confidence = scores[class_id]\n",
        "        if confidence > min_confidence:\n",
        "            print(scores, class_id)\n",
        "\n",
        "            center_x = int(detection[0] * width)\n",
        "            center_y = int(detection[1] * height)\n",
        "            w = int(detection[2] * width)\n",
        "            h = int(detection[3] * height)\n",
        "            x = int(center_x - w / 2)\n",
        "            y = int(center_y - h / 2)\n",
        "\n",
        "            boxes.append([x, y, w, h])\n",
        "            confidences.append(float(confidence))\n",
        "            class_ids.append(class_id)\n",
        "\n",
        "indexes = cv2.dnn.NMSBoxes(boxes, confidences, min_confidence, 0.4)\n",
        "font = cv2.FONT_HERSHEY_COMPLEX\n",
        "for i in range(len(boxes)):\n",
        "    if i in indexes:\n",
        "        x, y, w, h = boxes[i]\n",
        "        label = str(class_names[class_ids[i]])\n",
        "        print(class_ids[i], label)\n",
        "        cv2.rectangle(img, (x, y), (x + w, y + h), (0, 255, 0), 2)\n",
        "        cv2.putText(img, label, (x, y - 10), font, 0.5, (0, 255, 0), 1)\n",
        "cv2_imshow(img)"
      ],
      "metadata": {
        "colab": {
          "base_uri": "https://localhost:8080/",
          "height": 157
        },
        "id": "dO_FHNfPtxZG",
        "outputId": "2f1a75d9-a413-46a8-f688-cd59e4acd058"
      },
      "execution_count": 192,
      "outputs": [
        {
          "output_type": "stream",
          "name": "stdout",
          "text": [
            "85 99 3\n",
            "[0.         0.94574696 0.         0.        ] 1\n",
            "1 Danger\n"
          ]
        },
        {
          "output_type": "display_data",
          "data": {
            "image/png": "[encoded data removed]",
            "text/plain": [
              "<PIL.Image.Image image mode=RGB size=99x85 at 0x7F3E112077D0>"
            ]
          },
          "metadata": {}
        }
      ]
    }
  ]
}