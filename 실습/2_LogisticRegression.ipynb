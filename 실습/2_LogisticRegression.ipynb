{
  "nbformat": 4,
  "nbformat_minor": 0,
  "metadata": {
    "colab": {
      "name": "2_LogisticRegression.ipynb",
      "provenance": [],
      "collapsed_sections": [],
      "include_colab_link": true
    },
    "kernelspec": {
      "name": "python3",
      "display_name": "Python 3"
    },
    "language_info": {
      "name": "python"
    },
    "accelerator": "GPU"
  },
  "cells": [
    {
      "cell_type": "markdown",
      "metadata": {
        "id": "view-in-github",
        "colab_type": "text"
      },
      "source": [
        "<a href=\"https://colab.research.google.com/github/josooik/DeepLearning/blob/main/2_LogisticRegression.ipynb\" target=\"_parent\"><img src=\"https://colab.research.google.com/assets/colab-badge.svg\" alt=\"Open In Colab\"/></a>"
      ]
    },
    {
      "cell_type": "markdown",
      "metadata": {
        "id": "MhaiH8f2hSHN"
      },
      "source": [
        "# 로지스틱 회귀 ( Logistic Regression )\n",
        "\n",
        ">**목차**\n",
        "1. 개념정리\n",
        "2. 손실함수 : 크로스 엔트로피 (Cross Entropy)\n",
        "3. 실습\n"
      ]
    },
    {
      "cell_type": "code",
      "metadata": {
        "id": "2VW4g5_Ogrng"
      },
      "source": [
        "import numpy as np\n",
        "import matplotlib.pyplot as plt\n",
        "from tensorflow.keras.models import Sequential\n",
        "from tensorflow.keras.layers import Dense\n",
        "from tensorflow.keras import optimizers"
      ],
      "execution_count": 63,
      "outputs": []
    },
    {
      "cell_type": "markdown",
      "metadata": {
        "id": "Xspd1KqyT9ab"
      },
      "source": [
        "## 1. 개념정리\n",
        "---\n",
        "\n",
        "\n",
        "<br>\n",
        "\n",
        "###<center> < 가설 > </center>\n",
        "###  <center>$f(x)=\\sigma(xW+b)$</center>\n",
        "\n",
        "<br>\n",
        "\n",
        "### <center> < 목적 > </center>\n",
        "### <center>$(w^{*}, b^{*})=arg \\; min \\;J(y, \\hat{y})$</center>\n",
        "### <center> $ =arg \\; min \\;J(y, f(x))$</center>\n",
        "### <center> $ =arg \\; min \\;J(y, \\sigma(xW+b))$</center>"
      ]
    },
    {
      "cell_type": "markdown",
      "metadata": {
        "id": "wJvI8FdoNwM6"
      },
      "source": [
        "### **시그모이드 함수 ( Sigmoid funtion )**\n",
        "\n",
        "</br>\n",
        "\n",
        "### <center>$H(x) = \\frac{1}{1+e^{(-x)}} = \\sigma(x)$</center>\n",
        "\n",
        "**<center> e(e=2.718281..):**  자연 상수"
      ]
    },
    {
      "cell_type": "markdown",
      "metadata": {
        "id": "yVrRMqlSxD2L"
      },
      "source": [
        "* 구현"
      ]
    },
    {
      "cell_type": "code",
      "metadata": {
        "id": "l6vzKZkrNX5O"
      },
      "source": [
        "def sigmoid(x):\n",
        "  return 1/(1+np.exp(-x))"
      ],
      "execution_count": 64,
      "outputs": []
    },
    {
      "cell_type": "markdown",
      "metadata": {
        "id": "I8Lpa78pmWZT"
      },
      "source": [
        "* 시각화"
      ]
    },
    {
      "cell_type": "code",
      "metadata": {
        "id": "ZE925IHilr5L",
        "colab": {
          "base_uri": "https://localhost:8080/",
          "height": 282
        },
        "outputId": "77301c5b-0002-45b0-a967-093e9fc7f834"
      },
      "source": [
        "x = np.arange(-5, 5, 0.1)\n",
        "y = sigmoid(x)\n",
        "plt.plot([0,0], [0,1], linestyle='--')\n",
        "plt.plot(x, y)"
      ],
      "execution_count": 65,
      "outputs": [
        {
          "output_type": "execute_result",
          "data": {
            "text/plain": [
              "[<matplotlib.lines.Line2D at 0x7f1f1016bb50>]"
            ]
          },
          "metadata": {},
          "execution_count": 65
        },
        {
          "output_type": "display_data",
          "data": {
            "image/png": "[encoded data removed]",
            "text/plain": [
              "<Figure size 432x288 with 1 Axes>"
            ]
          },
          "metadata": {
            "needs_background": "light"
          }
        }
      ]
    },
    {
      "cell_type": "markdown",
      "metadata": {
        "id": "SzKxctP_YrtO"
      },
      "source": [
        "### **가설 구현**\n",
        "###<center>$f(x)=\\sigma(xW+b)$</center>"
      ]
    },
    {
      "cell_type": "code",
      "metadata": {
        "id": "itvJt9yRkZib"
      },
      "source": [
        "def hypothesis(x, W, b=0):\n",
        "  return sigmoid(np.dot(x, W) + b)"
      ],
      "execution_count": 66,
      "outputs": []
    },
    {
      "cell_type": "markdown",
      "metadata": {
        "id": "heC50xSfZ28d"
      },
      "source": [
        "### **예제**\n",
        "\n",
        "|라운드점수(X)|종합점수|결과(Y)\n",
        "|------|---|---|\n",
        "|-3|1|패배|\n",
        "|-2|1|패배|\n",
        "|-1|2|패배|\n",
        "|0|3|패배|\n",
        "|1|5|승리|\n",
        "|2|8|승리|\n",
        "|3|9|승리|\n"
      ]
    },
    {
      "cell_type": "markdown",
      "metadata": {
        "id": "31x3U7SB2ziD"
      },
      "source": [
        "* 데이터 정의\n",
        "\n"
      ]
    },
    {
      "cell_type": "code",
      "metadata": {
        "id": "IAi3_LvS1BYj"
      },
      "source": [
        "X = np.array([[-3],\n",
        "             [-2],\n",
        "             [-1],\n",
        "             [0],\n",
        "             [1],\n",
        "             [2],\n",
        "             [3]])\n",
        "Y = np.array([0,0,0,0,1,1,1])"
      ],
      "execution_count": 67,
      "outputs": []
    },
    {
      "cell_type": "markdown",
      "metadata": {
        "id": "RVfGUYHqZqNY"
      },
      "source": [
        "* 예측"
      ]
    },
    {
      "cell_type": "code",
      "metadata": {
        "id": "jFmDoJ3JZqH2",
        "colab": {
          "base_uri": "https://localhost:8080/"
        },
        "outputId": "7ee6d283-d2c4-4a00-9f36-a3f0dd0e6ad3"
      },
      "source": [
        "W = np.array([[1]])\n",
        "print(\"W shape:\", W.shape)\n",
        "\n",
        "for x in X:\n",
        "  y_pred = hypothesis(x, W)\n",
        "  print(x, y_pred)"
      ],
      "execution_count": 68,
      "outputs": [
        {
          "output_type": "stream",
          "name": "stdout",
          "text": [
            "W shape: (1, 1)\n",
            "[-3] [0.04742587]\n",
            "[-2] [0.11920292]\n",
            "[-1] [0.26894142]\n",
            "[0] [0.5]\n",
            "[1] [0.73105858]\n",
            "[2] [0.88079708]\n",
            "[3] [0.95257413]\n"
          ]
        }
      ]
    },
    {
      "cell_type": "markdown",
      "metadata": {
        "id": "umk0_qavR02D"
      },
      "source": [
        "* 시각화"
      ]
    },
    {
      "cell_type": "code",
      "metadata": {
        "id": "0l7xoCQu34Xs",
        "colab": {
          "base_uri": "https://localhost:8080/",
          "height": 265
        },
        "outputId": "4997e2df-7a65-4045-b3ef-454b25012de2"
      },
      "source": [
        "plt.plot(X,Y , marker='o', linestyle='', color='k')\n",
        "plt.plot(X, [hypothesis(x, W) for x in X], color='g')\n",
        "plt.show()"
      ],
      "execution_count": 69,
      "outputs": [
        {
          "output_type": "display_data",
          "data": {
            "image/png": "[encoded data removed]",
            "text/plain": [
              "<Figure size 432x288 with 1 Axes>"
            ]
          },
          "metadata": {
            "needs_background": "light"
          }
        }
      ]
    },
    {
      "cell_type": "markdown",
      "metadata": {
        "id": "RV3J6Y2ab_8W"
      },
      "source": [
        "### **학습 파라미터**"
      ]
    },
    {
      "cell_type": "markdown",
      "metadata": {
        "id": "KLLjZVusxLKz"
      },
      "source": [
        "* W 값에 따른 함수의 변화"
      ]
    },
    {
      "cell_type": "code",
      "metadata": {
        "id": "JKLMraWYOUuV",
        "colab": {
          "base_uri": "https://localhost:8080/",
          "height": 265
        },
        "outputId": "b2d0204c-5fde-4240-c264-953e774e44b3"
      },
      "source": [
        "plt.plot(X,Y, marker = 'o', linestyle='', color ='k')\n",
        "W = np.array([[0.5]])\n",
        "plt.plot(X,[hypothesis(x,W) for x in X], color='r')\n",
        "W = np.array([[1]])\n",
        "plt.plot(X,[hypothesis(x,W) for x in X], color='g')\n",
        "W = np.array([[2]])\n",
        "plt.plot(X,[hypothesis(x,W) for x in X], color='b')\n",
        "\n",
        "plt.legend(['data', 'w=0.5', 'w=1.0', 'w=2.0'])\n",
        "plt.show()"
      ],
      "execution_count": 71,
      "outputs": [
        {
          "output_type": "display_data",
          "data": {
            "image/png": "[encoded data removed]",
            "text/plain": [
              "<Figure size 432x288 with 1 Axes>"
            ]
          },
          "metadata": {
            "needs_background": "light"
          }
        }
      ]
    },
    {
      "cell_type": "markdown",
      "metadata": {
        "id": "EkTSQTbTxNwj"
      },
      "source": [
        "* b값에 따른 함수의 변화"
      ]
    },
    {
      "cell_type": "code",
      "metadata": {
        "id": "nE5H5bXbO-DK",
        "colab": {
          "base_uri": "https://localhost:8080/",
          "height": 265
        },
        "outputId": "6cd517cd-a934-4777-bf90-63264247e55b"
      },
      "source": [
        "plt.plot(X,Y, marker = 'o', linestyle='', color ='k')\n",
        "W = np.array([[2]])\n",
        "\n",
        "b = -1\n",
        "plt.plot(X, [hypothesis(x, W, b) for x in X], color='r', marker='.')\n",
        "\n",
        "b = 0\n",
        "plt.plot(X, [hypothesis(x, W, b) for x in X], color='g', marker='.')\n",
        "\n",
        "b = 1\n",
        "plt.plot(X, [hypothesis(x, W, b) for x in X], color='b', marker='.')\n",
        "\n",
        "plt.legend(['data', 'b=-1', 'b=0', 'b=1'])\n",
        "plt.show()"
      ],
      "execution_count": 74,
      "outputs": [
        {
          "output_type": "display_data",
          "data": {
            "image/png": "[encoded data removed]",
            "text/plain": [
              "<Figure size 432x288 with 1 Axes>"
            ]
          },
          "metadata": {
            "needs_background": "light"
          }
        }
      ]
    },
    {
      "cell_type": "markdown",
      "metadata": {
        "id": "OhHRBWI4p2ZV"
      },
      "source": [
        "## 2. 손실함수: 크로스 엔트로피 (Cross Entropy)\n",
        "---\n",
        "\n",
        "</br>\n",
        "\n",
        "## <center>$J(W) = -\\frac{1}{n}\\sum_{i=1}^{n}[y^{(i)}log(\\hat{y}^{(i)})+(1-y^{(i)})log(1-\\hat{y}^{(i)})]$</center>\n",
        "\n",
        "</br>\n",
        "\n",
        "<center> $y = 1 \\rightarrow cost(y, \\hat{y}) = -log(\\hat{y})$</center>\n",
        "<center> $y = 0 \\rightarrow cost(y, \\hat{y}) = -log(1-\\hat{y})$</center>\n"
      ]
    },
    {
      "cell_type": "markdown",
      "metadata": {
        "id": "NbYJ77nVptoc"
      },
      "source": [
        "* 구현"
      ]
    },
    {
      "cell_type": "code",
      "metadata": {
        "id": "5z7FDrN_pLfa"
      },
      "source": [
        "def J(y, y_pred):\n",
        "  if y == 1:\n",
        "    return -(np.log10(y_pred))\n",
        "\n",
        "  elif y == 0:\n",
        "    return -(np.log10(1-y_pred))\n",
        "\n",
        "  else:\n",
        "    return 0"
      ],
      "execution_count": 77,
      "outputs": []
    },
    {
      "cell_type": "markdown",
      "metadata": {
        "id": "s-eyWaHypvOE"
      },
      "source": [
        "* 시각화"
      ]
    },
    {
      "cell_type": "code",
      "metadata": {
        "id": "BUYYMkh4rRn7",
        "colab": {
          "base_uri": "https://localhost:8080/",
          "height": 280
        },
        "outputId": "41c06e1e-8127-4389-9405-3141520025c2"
      },
      "source": [
        "y_pred_arr = np.arange(0.1, 1, 0.1)\n",
        "for y_pred in y_pred_arr:\n",
        "  plt.plot(y_pred, J(1, y_pred), marker='o', color='b')\n",
        "  plt.plot(y_pred, J(0, y_pred), marker='o', color='r')\n",
        "\n",
        "plt.legend([\"y=1\", \"y=0\"]) \n",
        "plt.xlabel(\"y_pred\")\n",
        "plt.ylabel(\"Loss = J(y, y_pred)\")\n",
        "plt.show()"
      ],
      "execution_count": 78,
      "outputs": [
        {
          "output_type": "display_data",
          "data": {
            "image/png": "[encoded data removed]",
            "text/plain": [
              "<Figure size 432x288 with 1 Axes>"
            ]
          },
          "metadata": {
            "needs_background": "light"
          }
        }
      ]
    },
    {
      "cell_type": "markdown",
      "metadata": {
        "id": "dcvlzGY7w7_N"
      },
      "source": [
        "\n",
        "## 3. 실습\n",
        "---"
      ]
    },
    {
      "cell_type": "markdown",
      "metadata": {
        "id": "lERyWr69x0hT"
      },
      "source": [
        "### **데이터**\n",
        "|공부시간|집중도|수면시간|종합성적|합격여부|\n",
        "|------|---|---|---|---|\n",
        "|0|1|9|0|불합격|\n",
        "|1|1|8.5|1.1|불합격|\n",
        "|2|2|8|2.3|불합격|\n",
        "|3|4|8|3.0|불합격|\n",
        "|4|3|7|4.4|불합격|\n",
        "|5|5|7.5|5.5|합격|\n",
        "|6|6|7|6.1|합격|\n",
        "|7|6|6|7.3|합격|\n",
        "|8|7|7|8.4|합격|\n",
        "|9|6|6.5|9.8|합격|"
      ]
    },
    {
      "cell_type": "markdown",
      "metadata": {
        "id": "W05K5U6jr4hF"
      },
      "source": [
        "* 데이터 정의"
      ]
    },
    {
      "cell_type": "code",
      "metadata": {
        "id": "O8Azp_7AhYc3",
        "colab": {
          "base_uri": "https://localhost:8080/"
        },
        "outputId": "4a78365e-28c4-4ef1-be15-b8fdbb67faed"
      },
      "source": [
        "X = np.array([[0,1,9,0],\n",
        "             [1,1,8.5,1.1],\n",
        "             [2,2,8,2.3],\n",
        "             [3,4,8,3.0],\n",
        "             [4,3,7,4.4],\n",
        "             [5,5,7.5,5.5],\n",
        "             [6,6,7,6.1],\n",
        "             [7,6,6,7.3],\n",
        "             [8,7,7,8.4],\n",
        "             [9,6,6.5,9.8]])\n",
        "\n",
        "Y = np.array([0, 0, 0 ,0 ,0, 1, 1, 1, 1, 1])\n",
        "\n",
        "X.shape, Y.shape"
      ],
      "execution_count": 79,
      "outputs": [
        {
          "output_type": "execute_result",
          "data": {
            "text/plain": [
              "((10, 4), (10,))"
            ]
          },
          "metadata": {},
          "execution_count": 79
        }
      ]
    },
    {
      "cell_type": "markdown",
      "metadata": {
        "id": "vKgnvyq0NIio"
      },
      "source": [
        "* 시각화 "
      ]
    },
    {
      "cell_type": "code",
      "metadata": {
        "id": "XE61QbZViBcv",
        "colab": {
          "base_uri": "https://localhost:8080/",
          "height": 265
        },
        "outputId": "6d3d6f98-7e4f-4081-e1a1-9d7e9073f729"
      },
      "source": [
        "plt.plot(Y, marker='o', linestyle='')\n",
        "plt.show()"
      ],
      "execution_count": 80,
      "outputs": [
        {
          "output_type": "display_data",
          "data": {
            "image/png": "[encoded data removed]",
            "text/plain": [
              "<Figure size 432x288 with 1 Axes>"
            ]
          },
          "metadata": {
            "needs_background": "light"
          }
        }
      ]
    },
    {
      "cell_type": "markdown",
      "metadata": {
        "id": "sjzd0-TyxwDM"
      },
      "source": [
        "###  **모델 생성**"
      ]
    },
    {
      "cell_type": "markdown",
      "metadata": {
        "id": "w341U_IMr_Ay"
      },
      "source": [
        "* 케라스를 이용한 모델 구현"
      ]
    },
    {
      "cell_type": "code",
      "metadata": {
        "id": "_U2vEe_sN-Hd",
        "colab": {
          "base_uri": "https://localhost:8080/"
        },
        "outputId": "ffa8d92c-3afc-486f-f1cb-4a404a085066"
      },
      "source": [
        "model = Sequential()\n",
        "model.add(Dense(1, input_dim=4, activation='sigmoid'))\n",
        "model.summary()\n"
      ],
      "execution_count": 81,
      "outputs": [
        {
          "output_type": "stream",
          "name": "stdout",
          "text": [
            "Model: \"sequential_1\"\n",
            "_________________________________________________________________\n",
            "Layer (type)                 Output Shape              Param #   \n",
            "=================================================================\n",
            "dense_1 (Dense)              (None, 1)                 5         \n",
            "=================================================================\n",
            "Total params: 5\n",
            "Trainable params: 5\n",
            "Non-trainable params: 0\n",
            "_________________________________________________________________\n"
          ]
        }
      ]
    },
    {
      "cell_type": "markdown",
      "metadata": {
        "id": "OBKpPVHFyTsb"
      },
      "source": [
        "* 학습 파라미터 확인"
      ]
    },
    {
      "cell_type": "code",
      "metadata": {
        "id": "9hHOMXhkyPXa",
        "colab": {
          "base_uri": "https://localhost:8080/"
        },
        "outputId": "b0e59974-4479-4ffa-def1-f01b8e27419d"
      },
      "source": [
        "W = model.get_weights()[0]\n",
        "b = model.get_weights()[1]\n",
        "print(W)\n",
        "print(b)"
      ],
      "execution_count": 82,
      "outputs": [
        {
          "output_type": "stream",
          "name": "stdout",
          "text": [
            "[[ 0.28002262]\n",
            " [ 0.37487888]\n",
            " [-1.0436281 ]\n",
            " [-0.313371  ]]\n",
            "[0.]\n"
          ]
        }
      ]
    },
    {
      "cell_type": "markdown",
      "metadata": {
        "id": "wfC7jd1tsKgr"
      },
      "source": [
        "* 시각화"
      ]
    },
    {
      "cell_type": "code",
      "metadata": {
        "id": "vKTNcPF3zaPk",
        "colab": {
          "base_uri": "https://localhost:8080/",
          "height": 282
        },
        "outputId": "5a41b412-58b4-4d14-8122-70ba58f710cb"
      },
      "source": [
        "y_pred = model.predict(X)\n",
        "print(Y.shape, y_pred.shape)\n",
        "\n",
        "plt.plot(Y, marker='o', linestyle='')\n",
        "plt.plot(y_pred, marker='.', linestyle='--')\n",
        "plt.show()"
      ],
      "execution_count": 83,
      "outputs": [
        {
          "output_type": "stream",
          "name": "stdout",
          "text": [
            "(10,) (10, 1)\n"
          ]
        },
        {
          "output_type": "display_data",
          "data": {
            "image/png": "[encoded data removed]",
            "text/plain": [
              "<Figure size 432x288 with 1 Axes>"
            ]
          },
          "metadata": {
            "needs_background": "light"
          }
        }
      ]
    },
    {
      "cell_type": "markdown",
      "metadata": {
        "id": "GpvKk6lsymbd"
      },
      "source": [
        "### **모델 학습**"
      ]
    },
    {
      "cell_type": "markdown",
      "metadata": {
        "id": "VaLNy_3atLZ8"
      },
      "source": [
        "* 모델 컴파일"
      ]
    },
    {
      "cell_type": "code",
      "metadata": {
        "id": "j6zS1DtnyTOT"
      },
      "source": [
        "model.compile(optimizer=optimizers.SGD(learning_rate=0.01),\n",
        "              loss = 'binary_crossentropy',\n",
        "              metrics=['acc']\n",
        "              )"
      ],
      "execution_count": 84,
      "outputs": []
    },
    {
      "cell_type": "markdown",
      "metadata": {
        "id": "ZxywaIertNp0"
      },
      "source": [
        "* 학습 진행"
      ]
    },
    {
      "cell_type": "code",
      "metadata": {
        "id": "JSW0c3Lzypip",
        "colab": {
          "base_uri": "https://localhost:8080/"
        },
        "outputId": "840aef3c-ed45-40ca-bb38-1b3a9a1f7042"
      },
      "source": [
        "model.fit(X, Y, epochs=1)"
      ],
      "execution_count": 88,
      "outputs": [
        {
          "output_type": "stream",
          "name": "stdout",
          "text": [
            "1/1 [==============================] - 0s 6ms/step - loss: 0.0873 - acc: 1.0000\n"
          ]
        },
        {
          "output_type": "execute_result",
          "data": {
            "text/plain": [
              "<keras.callbacks.History at 0x7f1e999f4210>"
            ]
          },
          "metadata": {},
          "execution_count": 88
        }
      ]
    },
    {
      "cell_type": "markdown",
      "metadata": {
        "id": "e0215hW8tTj0"
      },
      "source": [
        "### **결과**"
      ]
    },
    {
      "cell_type": "markdown",
      "metadata": {
        "id": "W168xYmMtVij"
      },
      "source": [
        "* 학습 파라미터 확인"
      ]
    },
    {
      "cell_type": "code",
      "metadata": {
        "id": "Aj42y5watYT7",
        "colab": {
          "base_uri": "https://localhost:8080/"
        },
        "outputId": "ab8a5b21-e308-4489-8502-919ffe2836d8"
      },
      "source": [
        "W = model.get_weights()[0]\n",
        "b = model.get_weights()[1]\n",
        "print(W)\n",
        "print(b)"
      ],
      "execution_count": 86,
      "outputs": [
        {
          "output_type": "stream",
          "name": "stdout",
          "text": [
            "[[ 0.68246496]\n",
            " [ 0.77383006]\n",
            " [-0.932167  ]\n",
            " [ 0.11853945]]\n",
            "[0.01858481]\n"
          ]
        }
      ]
    },
    {
      "cell_type": "markdown",
      "metadata": {
        "id": "WZP0UAgGtbXD"
      },
      "source": [
        "* 시각화"
      ]
    },
    {
      "cell_type": "code",
      "metadata": {
        "id": "pXDWEWIDtbXD",
        "colab": {
          "base_uri": "https://localhost:8080/",
          "height": 282
        },
        "outputId": "3f95a5b3-cc7f-4528-cd96-6c322f0a627a"
      },
      "source": [
        "y_pred = model.predict(X)\n",
        "print(Y.shape, y_pred.shape)\n",
        "\n",
        "plt.plot(Y, marker='o', linestyle='')\n",
        "plt.plot(y_pred, marker='.', linestyle='--')\n",
        "plt.show()"
      ],
      "execution_count": 87,
      "outputs": [
        {
          "output_type": "stream",
          "name": "stdout",
          "text": [
            "(10,) (10, 1)\n"
          ]
        },
        {
          "output_type": "display_data",
          "data": {
            "image/png": "[encoded data removed]",
            "text/plain": [
              "<Figure size 432x288 with 1 Axes>"
            ]
          },
          "metadata": {
            "needs_background": "light"
          }
        }
      ]
    }
  ]
}