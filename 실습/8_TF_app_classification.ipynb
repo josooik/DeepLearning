{
  "nbformat": 4,
  "nbformat_minor": 0,
  "metadata": {
    "colab": {
      "name": "8_TF_app_classification.ipynb",
      "provenance": [],
      "collapsed_sections": [],
      "include_colab_link": true
    },
    "kernelspec": {
      "name": "python3",
      "display_name": "Python 3"
    },
    "language_info": {
      "name": "python"
    },
    "accelerator": "GPU"
  },
  "cells": [
    {
      "cell_type": "markdown",
      "metadata": {
        "id": "view-in-github",
        "colab_type": "text"
      },
      "source": [
        "<a href=\"https://colab.research.google.com/github/josooik/DeepLearning/blob/main/8_TF_app_classification.ipynb\" target=\"_parent\"><img src=\"https://colab.research.google.com/assets/colab-badge.svg\" alt=\"Open In Colab\"/></a>"
      ]
    },
    {
      "cell_type": "markdown",
      "metadata": {
        "id": "OsKAZfbZRbNa"
      },
      "source": [
        "# 전이학습"
      ]
    },
    {
      "cell_type": "markdown",
      "metadata": {
        "id": "53g0bWh0Rdnr"
      },
      "source": [
        "## 텐서플로우 applications를 이용한 전이학습\n",
        "\n",
        "[https://www.tensorflow.org/api_docs/python/tf/keras/applications](https://www.tensorflow.org/api_docs/python/tf/keras/applications)"
      ]
    },
    {
      "cell_type": "code",
      "metadata": {
        "id": "F6RxzS5i5M2N"
      },
      "source": [
        "import tensorflow_datasets as tfds\n",
        "import tensorflow as tf\n",
        "from tensorflow.keras import applications\n",
        "from tensorflow.keras import layers, Model"
      ],
      "execution_count": 1,
      "outputs": []
    },
    {
      "cell_type": "markdown",
      "metadata": {
        "id": "bOuDDfPKRvLa"
      },
      "source": [
        "### 데이터"
      ]
    },
    {
      "cell_type": "code",
      "metadata": {
        "id": "TKNvNIPZAJ-g",
        "colab": {
          "base_uri": "https://localhost:8080/"
        },
        "outputId": "71194c1f-ec33-46ae-dcbe-25e0cb90c175"
      },
      "source": [
        "from tensorflow.keras import datasets, utils\n",
        "\n",
        "(x_train, y_train), (x_test, y_test) = datasets.cifar10.load_data()\n",
        "\n",
        "# 데이터 전처리 x : minmax min0,  max255 -> x / 255\n",
        "x_train, x_test = x_train / 255, x_test / 255\n",
        "\n",
        "# 데이터 전처리 y : categorical\n",
        "y_train = utils.to_categorical(y_train, num_classes=10)\n",
        "y_test = utils.to_categorical(y_test, num_classes=10)\n",
        "\n",
        "x_train.shape, y_train.shape, x_test.shape, y_test.shape"
      ],
      "execution_count": 2,
      "outputs": [
        {
          "output_type": "stream",
          "name": "stdout",
          "text": [
            "Downloading data from https://www.cs.toronto.edu/~kriz/cifar-10-python.tar.gz\n",
            "170500096/170498071 [==============================] - 6s 0us/step\n",
            "170508288/170498071 [==============================] - 6s 0us/step\n"
          ]
        },
        {
          "output_type": "execute_result",
          "data": {
            "text/plain": [
              "((50000, 32, 32, 3), (50000, 10), (10000, 32, 32, 3), (10000, 10))"
            ]
          },
          "metadata": {},
          "execution_count": 2
        }
      ]
    },
    {
      "cell_type": "markdown",
      "metadata": {
        "id": "uYZl8KAGRx6e"
      },
      "source": [
        "### 모델 구현"
      ]
    },
    {
      "cell_type": "markdown",
      "metadata": {
        "id": "FUlnXIP4RolP"
      },
      "source": [
        "* 모델 불러오기"
      ]
    },
    {
      "cell_type": "code",
      "metadata": {
        "id": "fyAbYkOv8xqd",
        "colab": {
          "base_uri": "https://localhost:8080/"
        },
        "outputId": "28da3ce4-0ba6-475b-d2d9-6e23ead93fdb"
      },
      "source": [
        "base_model = applications.vgg16.VGG16(weights='imagenet',\n",
        "                                      include_top=False, # 마지막 레이어\n",
        "                                      input_shape=[32, 32, 3])\n",
        "base_model.summary()"
      ],
      "execution_count": 3,
      "outputs": [
        {
          "output_type": "stream",
          "name": "stdout",
          "text": [
            "Downloading data from https://storage.googleapis.com/tensorflow/keras-applications/vgg16/vgg16_weights_tf_dim_ordering_tf_kernels_notop.h5\n",
            "58892288/58889256 [==============================] - 1s 0us/step\n",
            "58900480/58889256 [==============================] - 1s 0us/step\n",
            "Model: \"vgg16\"\n",
            "_________________________________________________________________\n",
            "Layer (type)                 Output Shape              Param #   \n",
            "=================================================================\n",
            "input_1 (InputLayer)         [(None, 32, 32, 3)]       0         \n",
            "_________________________________________________________________\n",
            "block1_conv1 (Conv2D)        (None, 32, 32, 64)        1792      \n",
            "_________________________________________________________________\n",
            "block1_conv2 (Conv2D)        (None, 32, 32, 64)        36928     \n",
            "_________________________________________________________________\n",
            "block1_pool (MaxPooling2D)   (None, 16, 16, 64)        0         \n",
            "_________________________________________________________________\n",
            "block2_conv1 (Conv2D)        (None, 16, 16, 128)       73856     \n",
            "_________________________________________________________________\n",
            "block2_conv2 (Conv2D)        (None, 16, 16, 128)       147584    \n",
            "_________________________________________________________________\n",
            "block2_pool (MaxPooling2D)   (None, 8, 8, 128)         0         \n",
            "_________________________________________________________________\n",
            "block3_conv1 (Conv2D)        (None, 8, 8, 256)         295168    \n",
            "_________________________________________________________________\n",
            "block3_conv2 (Conv2D)        (None, 8, 8, 256)         590080    \n",
            "_________________________________________________________________\n",
            "block3_conv3 (Conv2D)        (None, 8, 8, 256)         590080    \n",
            "_________________________________________________________________\n",
            "block3_pool (MaxPooling2D)   (None, 4, 4, 256)         0         \n",
            "_________________________________________________________________\n",
            "block4_conv1 (Conv2D)        (None, 4, 4, 512)         1180160   \n",
            "_________________________________________________________________\n",
            "block4_conv2 (Conv2D)        (None, 4, 4, 512)         2359808   \n",
            "_________________________________________________________________\n",
            "block4_conv3 (Conv2D)        (None, 4, 4, 512)         2359808   \n",
            "_________________________________________________________________\n",
            "block4_pool (MaxPooling2D)   (None, 2, 2, 512)         0         \n",
            "_________________________________________________________________\n",
            "block5_conv1 (Conv2D)        (None, 2, 2, 512)         2359808   \n",
            "_________________________________________________________________\n",
            "block5_conv2 (Conv2D)        (None, 2, 2, 512)         2359808   \n",
            "_________________________________________________________________\n",
            "block5_conv3 (Conv2D)        (None, 2, 2, 512)         2359808   \n",
            "_________________________________________________________________\n",
            "block5_pool (MaxPooling2D)   (None, 1, 1, 512)         0         \n",
            "=================================================================\n",
            "Total params: 14,714,688\n",
            "Trainable params: 14,714,688\n",
            "Non-trainable params: 0\n",
            "_________________________________________________________________\n"
          ]
        }
      ]
    },
    {
      "cell_type": "markdown",
      "metadata": {
        "id": "_qsn3SujRp7L"
      },
      "source": [
        "* 모델 조합하기"
      ]
    },
    {
      "cell_type": "code",
      "metadata": {
        "id": "KT9OKXhZ9jIR",
        "colab": {
          "base_uri": "https://localhost:8080/"
        },
        "outputId": "d2779207-76e3-4f87-bbb2-d1b2fa0258c7"
      },
      "source": [
        "from tensorflow.keras import layers, models\n",
        "\n",
        "x = base_model.output\n",
        "y = layers.Flatten(name='Add_flatten')(x)\n",
        "#y = layers.Dense(128, activation='relu')(y)\n",
        "y = layers.Dense(10, activation='softmax', name='Add_dense')(y)\n",
        "\n",
        "model = models.Model(inputs=base_model.input, outputs = y)\n",
        "model.summary()"
      ],
      "execution_count": 4,
      "outputs": [
        {
          "output_type": "stream",
          "name": "stdout",
          "text": [
            "Model: \"model\"\n",
            "_________________________________________________________________\n",
            "Layer (type)                 Output Shape              Param #   \n",
            "=================================================================\n",
            "input_1 (InputLayer)         [(None, 32, 32, 3)]       0         \n",
            "_________________________________________________________________\n",
            "block1_conv1 (Conv2D)        (None, 32, 32, 64)        1792      \n",
            "_________________________________________________________________\n",
            "block1_conv2 (Conv2D)        (None, 32, 32, 64)        36928     \n",
            "_________________________________________________________________\n",
            "block1_pool (MaxPooling2D)   (None, 16, 16, 64)        0         \n",
            "_________________________________________________________________\n",
            "block2_conv1 (Conv2D)        (None, 16, 16, 128)       73856     \n",
            "_________________________________________________________________\n",
            "block2_conv2 (Conv2D)        (None, 16, 16, 128)       147584    \n",
            "_________________________________________________________________\n",
            "block2_pool (MaxPooling2D)   (None, 8, 8, 128)         0         \n",
            "_________________________________________________________________\n",
            "block3_conv1 (Conv2D)        (None, 8, 8, 256)         295168    \n",
            "_________________________________________________________________\n",
            "block3_conv2 (Conv2D)        (None, 8, 8, 256)         590080    \n",
            "_________________________________________________________________\n",
            "block3_conv3 (Conv2D)        (None, 8, 8, 256)         590080    \n",
            "_________________________________________________________________\n",
            "block3_pool (MaxPooling2D)   (None, 4, 4, 256)         0         \n",
            "_________________________________________________________________\n",
            "block4_conv1 (Conv2D)        (None, 4, 4, 512)         1180160   \n",
            "_________________________________________________________________\n",
            "block4_conv2 (Conv2D)        (None, 4, 4, 512)         2359808   \n",
            "_________________________________________________________________\n",
            "block4_conv3 (Conv2D)        (None, 4, 4, 512)         2359808   \n",
            "_________________________________________________________________\n",
            "block4_pool (MaxPooling2D)   (None, 2, 2, 512)         0         \n",
            "_________________________________________________________________\n",
            "block5_conv1 (Conv2D)        (None, 2, 2, 512)         2359808   \n",
            "_________________________________________________________________\n",
            "block5_conv2 (Conv2D)        (None, 2, 2, 512)         2359808   \n",
            "_________________________________________________________________\n",
            "block5_conv3 (Conv2D)        (None, 2, 2, 512)         2359808   \n",
            "_________________________________________________________________\n",
            "block5_pool (MaxPooling2D)   (None, 1, 1, 512)         0         \n",
            "_________________________________________________________________\n",
            "Add_flatten (Flatten)        (None, 512)               0         \n",
            "_________________________________________________________________\n",
            "Add_dense (Dense)            (None, 10)                5130      \n",
            "=================================================================\n",
            "Total params: 14,719,818\n",
            "Trainable params: 14,719,818\n",
            "Non-trainable params: 0\n",
            "_________________________________________________________________\n"
          ]
        }
      ]
    },
    {
      "cell_type": "markdown",
      "metadata": {
        "id": "wWqfO6VeRt7T"
      },
      "source": [
        "* 컴파일"
      ]
    },
    {
      "cell_type": "code",
      "metadata": {
        "id": "XltEmuYt-X5J",
        "colab": {
          "base_uri": "https://localhost:8080/"
        },
        "outputId": "79c5b9d7-a030-46ff-8484-e9dbe5c8bca0"
      },
      "source": [
        "# base model의 weight들은 학습을 안하고싶다!\n",
        "\n",
        "for i in range(19):\n",
        "  print(i, model.layers[i])\n",
        "  model.layers[i].trainable = False"
      ],
      "execution_count": 5,
      "outputs": [
        {
          "output_type": "stream",
          "name": "stdout",
          "text": [
            "0 <keras.engine.input_layer.InputLayer object at 0x7f551d62b950>\n",
            "1 <keras.layers.convolutional.Conv2D object at 0x7f551df92590>\n",
            "2 <keras.layers.convolutional.Conv2D object at 0x7f551ce23d50>\n",
            "3 <keras.layers.pooling.MaxPooling2D object at 0x7f551c23df90>\n",
            "4 <keras.layers.convolutional.Conv2D object at 0x7f551c26e7d0>\n",
            "5 <keras.layers.convolutional.Conv2D object at 0x7f55104c3d90>\n",
            "6 <keras.layers.pooling.MaxPooling2D object at 0x7f55104c9790>\n",
            "7 <keras.layers.convolutional.Conv2D object at 0x7f55104cdf10>\n",
            "8 <keras.layers.convolutional.Conv2D object at 0x7f55104d6690>\n",
            "9 <keras.layers.convolutional.Conv2D object at 0x7f55104cdd50>\n",
            "10 <keras.layers.pooling.MaxPooling2D object at 0x7f55104e2110>\n",
            "11 <keras.layers.convolutional.Conv2D object at 0x7f55104e6890>\n",
            "12 <keras.layers.convolutional.Conv2D object at 0x7f551ddb8690>\n",
            "13 <keras.layers.convolutional.Conv2D object at 0x7f551c2f3d50>\n",
            "14 <keras.layers.pooling.MaxPooling2D object at 0x7f55104c9b50>\n",
            "15 <keras.layers.convolutional.Conv2D object at 0x7f551047fa90>\n",
            "16 <keras.layers.convolutional.Conv2D object at 0x7f55104f92d0>\n",
            "17 <keras.layers.convolutional.Conv2D object at 0x7f55104838d0>\n",
            "18 <keras.layers.pooling.MaxPooling2D object at 0x7f5510490310>\n"
          ]
        }
      ]
    },
    {
      "cell_type": "code",
      "metadata": {
        "id": "PGYLErTY_zU4"
      },
      "source": [
        "model.compile(loss='categorical_crossentropy',\n",
        "              optimizer='adam',\n",
        "              metrics=['acc'])"
      ],
      "execution_count": 6,
      "outputs": []
    },
    {
      "cell_type": "markdown",
      "metadata": {
        "id": "eK2N0tacR1mZ"
      },
      "source": [
        "### 학습"
      ]
    },
    {
      "cell_type": "code",
      "metadata": {
        "id": "THSlGz_WAg8R",
        "colab": {
          "base_uri": "https://localhost:8080/"
        },
        "outputId": "83dc33cf-b95b-4083-d5bc-f9cc9f9b9ce9"
      },
      "source": [
        "history = model.fit(x_train, y_train, batch_size=16, epochs=20)"
      ],
      "execution_count": 7,
      "outputs": [
        {
          "output_type": "stream",
          "name": "stdout",
          "text": [
            "Epoch 1/20\n",
            "3125/3125 [==============================] - 75s 15ms/step - loss: 1.4776 - acc: 0.4963\n",
            "Epoch 2/20\n",
            "3125/3125 [==============================] - 46s 15ms/step - loss: 1.2748 - acc: 0.5628\n",
            "Epoch 3/20\n",
            "3125/3125 [==============================] - 46s 15ms/step - loss: 1.2231 - acc: 0.5806\n",
            "Epoch 4/20\n",
            "3125/3125 [==============================] - 46s 15ms/step - loss: 1.1944 - acc: 0.5892\n",
            "Epoch 5/20\n",
            "3125/3125 [==============================] - 46s 15ms/step - loss: 1.1766 - acc: 0.5955\n",
            "Epoch 6/20\n",
            "3125/3125 [==============================] - 46s 15ms/step - loss: 1.1630 - acc: 0.5995\n",
            "Epoch 7/20\n",
            "3125/3125 [==============================] - 46s 15ms/step - loss: 1.1538 - acc: 0.6031\n",
            "Epoch 8/20\n",
            "3125/3125 [==============================] - 46s 15ms/step - loss: 1.1462 - acc: 0.6037\n",
            "Epoch 9/20\n",
            "3125/3125 [==============================] - 46s 15ms/step - loss: 1.1399 - acc: 0.6064\n",
            "Epoch 10/20\n",
            "3125/3125 [==============================] - 46s 15ms/step - loss: 1.1354 - acc: 0.6066\n",
            "Epoch 11/20\n",
            "3125/3125 [==============================] - 46s 15ms/step - loss: 1.1309 - acc: 0.6093\n",
            "Epoch 12/20\n",
            "3125/3125 [==============================] - 46s 15ms/step - loss: 1.1281 - acc: 0.6114\n",
            "Epoch 13/20\n",
            "3125/3125 [==============================] - 46s 15ms/step - loss: 1.1252 - acc: 0.6125\n",
            "Epoch 14/20\n",
            "3125/3125 [==============================] - 45s 15ms/step - loss: 1.1230 - acc: 0.6135\n",
            "Epoch 15/20\n",
            "3125/3125 [==============================] - 46s 15ms/step - loss: 1.1201 - acc: 0.6140\n",
            "Epoch 16/20\n",
            "3125/3125 [==============================] - 45s 15ms/step - loss: 1.1188 - acc: 0.6142\n",
            "Epoch 17/20\n",
            "3125/3125 [==============================] - 45s 15ms/step - loss: 1.1169 - acc: 0.6147\n",
            "Epoch 18/20\n",
            "3125/3125 [==============================] - 45s 15ms/step - loss: 1.1152 - acc: 0.6140\n",
            "Epoch 19/20\n",
            "3125/3125 [==============================] - 45s 15ms/step - loss: 1.1137 - acc: 0.6170\n",
            "Epoch 20/20\n",
            "3125/3125 [==============================] - 46s 15ms/step - loss: 1.1117 - acc: 0.6156\n"
          ]
        }
      ]
    },
    {
      "cell_type": "markdown",
      "metadata": {
        "id": "gm3EmDnuR_1l"
      },
      "source": [
        "### 평가"
      ]
    },
    {
      "cell_type": "code",
      "metadata": {
        "id": "rqQlCNKfD0_l",
        "colab": {
          "base_uri": "https://localhost:8080/"
        },
        "outputId": "750af3fa-9547-45b9-99a7-b1c0d9c9f986"
      },
      "source": [
        "# eavluate : 성능 평가 test셋을 평가할때, test의 y(label이 있으면)\n",
        "# predict : label 없을때 / 값 예측하고싶을때\n",
        "\n",
        "model.evaluate(x_test, y_test)"
      ],
      "execution_count": 8,
      "outputs": [
        {
          "output_type": "stream",
          "name": "stdout",
          "text": [
            "313/313 [==============================] - 6s 18ms/step - loss: 1.1999 - acc: 0.5826\n"
          ]
        },
        {
          "output_type": "execute_result",
          "data": {
            "text/plain": [
              "[1.1998920440673828, 0.5825999975204468]"
            ]
          },
          "metadata": {},
          "execution_count": 8
        }
      ]
    },
    {
      "cell_type": "markdown",
      "metadata": {
        "id": "yz4-Jh-FX1p5"
      },
      "source": [
        "* 시각화"
      ]
    },
    {
      "cell_type": "code",
      "metadata": {
        "id": "LlW5-XveNDl1",
        "colab": {
          "base_uri": "https://localhost:8080/",
          "height": 545
        },
        "outputId": "042554da-e836-4dd6-a2de-65b37e8be3bc"
      },
      "source": [
        "import matplotlib.pyplot as plt\n",
        "# loss : 훈련 손실값\n",
        "# acc : 훈련 정확도\n",
        "# val_loss : 검증 손실값\n",
        "# val_acc : 검증 정확도\n",
        "\n",
        "plt.plot(history.history['acc'])\n",
        "#plt.plot(history.history['val_acc'])\n",
        "plt.title('Accuracy')\n",
        "plt.legend(['train'], loc='upper left')\n",
        "plt.show()\n",
        "\n",
        "plt.plot(history.history['loss'])\n",
        "#plt.plot(history.history['val_loss'])\n",
        "plt.title('Loss')\n",
        "plt.legend(['loss'], loc='upper left')\n",
        "plt.show()"
      ],
      "execution_count": 10,
      "outputs": [
        {
          "output_type": "display_data",
          "data": {
            "image/png": "[encoded data removed]",
            "text/plain": [
              "<Figure size 432x288 with 1 Axes>"
            ]
          },
          "metadata": {
            "needs_background": "light"
          }
        },
        {
          "output_type": "display_data",
          "data": {
            "image/png": "[encoded data removed]",
            "text/plain": [
              "<Figure size 432x288 with 1 Axes>"
            ]
          },
          "metadata": {
            "needs_background": "light"
          }
        }
      ]
    }
  ]
}