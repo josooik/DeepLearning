{
  "nbformat": 4,
  "nbformat_minor": 0,
  "metadata": {
    "colab": {
      "name": "3_SoftmaxRegression.ipynb",
      "provenance": [],
      "collapsed_sections": [],
      "include_colab_link": true
    },
    "kernelspec": {
      "name": "python3",
      "display_name": "Python 3"
    },
    "language_info": {
      "name": "python"
    }
  },
  "cells": [
    {
      "cell_type": "markdown",
      "metadata": {
        "id": "view-in-github",
        "colab_type": "text"
      },
      "source": [
        "<a href=\"https://colab.research.google.com/github/josooik/DeepLearning/blob/main/3_SoftmaxRegression.ipynb\" target=\"_parent\"><img src=\"https://colab.research.google.com/assets/colab-badge.svg\" alt=\"Open In Colab\"/></a>"
      ]
    },
    {
      "cell_type": "markdown",
      "metadata": {
        "id": "MhaiH8f2hSHN"
      },
      "source": [
        "# 소프트맥스 회귀 ( Softmax Regression )\n",
        "\n",
        ">**목차**\n",
        "1. 개념정리\n",
        "3. 원-핫 벡터\n",
        "3. 실습\n"
      ]
    },
    {
      "cell_type": "code",
      "metadata": {
        "id": "2VW4g5_Ogrng"
      },
      "source": [
        "import numpy as np\n",
        "import matplotlib.pyplot as plt\n",
        "from tensorflow.keras.models import Sequential\n",
        "from tensorflow.keras.layers import Dense\n",
        "from tensorflow.keras import optimizers"
      ],
      "execution_count": 153,
      "outputs": []
    },
    {
      "cell_type": "markdown",
      "metadata": {
        "id": "Xspd1KqyT9ab"
      },
      "source": [
        "## 1. 개념정리\n",
        "---\n",
        "\n",
        "\n",
        "<br>\n",
        "\n",
        "###<center> < 가설 > </center>\n",
        "###  <center>$f(x)=softmax(xW+b)$</center>\n",
        "\n",
        "<br>\n",
        "\n",
        "### <center> < 목적 > </center>\n",
        "### <center>$(w^{*}, b^{*})=arg \\; min \\;J(y, \\hat{y})$</center>\n",
        "### <center> $ =arg \\; min \\;J(y, f(x))$</center>\n",
        "### <center> $ =arg \\; min \\;J(y, softmax(xW+b))$</center>"
      ]
    },
    {
      "cell_type": "markdown",
      "metadata": {
        "id": "wJvI8FdoNwM6"
      },
      "source": [
        "### **소프트맥스 함수 ( Softmax funtion )**\n",
        "\n",
        "<br>\n",
        "\n",
        "### <center> $softmax(x)_k = \\frac{1}{\\sum_{j=1}^{d}e^{(x_j)}}e(x_k)$\n",
        "\n",
        "<br>\n",
        "\n",
        "### <center> $softmax(x) = [\\frac{e(x_1)}{\\sum_{j=1}^{d}e^{(x_j)}}, \\frac{e(x_2)}{\\sum_{j=1}^{d}e^{(x_j)}} ... \\frac{e(x_d)}{\\sum_{j=1}^{d}e^{(x_j)}}]$"
      ]
    },
    {
      "cell_type": "markdown",
      "metadata": {
        "id": "yVrRMqlSxD2L"
      },
      "source": [
        "* 구현"
      ]
    },
    {
      "cell_type": "code",
      "metadata": {
        "id": "l6vzKZkrNX5O",
        "colab": {
          "base_uri": "https://localhost:8080/"
        },
        "outputId": "c1333c5c-b6ba-4bc8-d5f3-ee0b0c076de8"
      },
      "source": [
        "def softmax(x):\n",
        "  y1 = np.array([np.exp(xi) for xi in x])\n",
        "  y2 = y1 / np.sum(y1)\n",
        "  return y2\n",
        "\n",
        "softmax([1, 2, 3])"
      ],
      "execution_count": 154,
      "outputs": [
        {
          "output_type": "execute_result",
          "data": {
            "text/plain": [
              "array([0.09003057, 0.24472847, 0.66524096])"
            ]
          },
          "metadata": {},
          "execution_count": 154
        }
      ]
    },
    {
      "cell_type": "markdown",
      "metadata": {
        "id": "TKJ93MeglS7s"
      },
      "source": [
        "* 예제\n",
        "  * $ x_1 = (2,1,1)$\n",
        "  * $ x_2 = (2,5,3)$\n",
        "  * $ x_3 = (-1,2,5)$"
      ]
    },
    {
      "cell_type": "code",
      "metadata": {
        "id": "xp0BcsXTlX4b",
        "colab": {
          "base_uri": "https://localhost:8080/"
        },
        "outputId": "bde70cc5-cd68-4634-f988-fbb6a95cb7cf"
      },
      "source": [
        "x1 = np.array([2, 1, 1])\n",
        "print(\"x1 : \", softmax(x1))\n",
        "\n",
        "x2 = np.array([2, 5, 3])\n",
        "print(\"x2 : \", softmax(x2))\n",
        "\n",
        "x3 = np.array([-1, 2, 5])\n",
        "print(\"x3 : \", softmax(x3))"
      ],
      "execution_count": 155,
      "outputs": [
        {
          "output_type": "stream",
          "name": "stdout",
          "text": [
            "x1 :  [0.57611688 0.21194156 0.21194156]\n",
            "x2 :  [0.04201007 0.84379473 0.1141952 ]\n",
            "x3 :  [0.00235563 0.04731416 0.95033021]\n"
          ]
        }
      ]
    },
    {
      "cell_type": "markdown",
      "metadata": {
        "id": "SzKxctP_YrtO"
      },
      "source": [
        "### **가설 구현**\n",
        "###<center>$f(x)=softmax(xW+b)$</center>"
      ]
    },
    {
      "cell_type": "code",
      "metadata": {
        "id": "itvJt9yRkZib"
      },
      "source": [
        "def hypothesis(x, W, b=0):\n",
        "  return softmax(np.dot(x, W) + b)"
      ],
      "execution_count": 156,
      "outputs": []
    },
    {
      "cell_type": "markdown",
      "metadata": {
        "id": "heC50xSfZ28d"
      },
      "source": [
        "### **예제**\n",
        "\n",
        "|X|\n",
        "|------|\n",
        "|-3|\n",
        "|-2|\n",
        "|-1|\n",
        "|0|\n",
        "|1|\n",
        "|2|\n",
        "|3|\n"
      ]
    },
    {
      "cell_type": "markdown",
      "metadata": {
        "id": "31x3U7SB2ziD"
      },
      "source": [
        "* 데이터 정의\n",
        "\n"
      ]
    },
    {
      "cell_type": "code",
      "metadata": {
        "id": "IAi3_LvS1BYj",
        "colab": {
          "base_uri": "https://localhost:8080/"
        },
        "outputId": "d6ff39c2-963d-40e8-a26e-d51ef2093ef2"
      },
      "source": [
        "X = np.array([[-3],\n",
        "             [-2],\n",
        "             [-1],\n",
        "             [0],\n",
        "             [1],\n",
        "             [2],\n",
        "             [3]])\n",
        "\n",
        "X.shape"
      ],
      "execution_count": 157,
      "outputs": [
        {
          "output_type": "execute_result",
          "data": {
            "text/plain": [
              "(7, 1)"
            ]
          },
          "metadata": {},
          "execution_count": 157
        }
      ]
    },
    {
      "cell_type": "markdown",
      "metadata": {
        "id": "RVfGUYHqZqNY"
      },
      "source": [
        "* 예측"
      ]
    },
    {
      "cell_type": "code",
      "metadata": {
        "id": "jFmDoJ3JZqH2",
        "colab": {
          "base_uri": "https://localhost:8080/"
        },
        "outputId": "71f2b5e1-b25c-4197-efbe-84685a06cd95"
      },
      "source": [
        "W = np.array([[2, 3, 4]])\n",
        "print(W, W.shape)\n",
        "\n",
        "for x in X:\n",
        "  y_pred = hypothesis(x, W)\n",
        "  print(x, y_pred)"
      ],
      "execution_count": 158,
      "outputs": [
        {
          "output_type": "stream",
          "name": "stdout",
          "text": [
            "[[2 3 4]] (1, 3)\n",
            "[-3] [0.95033021 0.04731416 0.00235563]\n",
            "[-2] [0.86681333 0.11731043 0.01587624]\n",
            "[-1] [0.66524096 0.24472847 0.09003057]\n",
            "[0] [0.33333333 0.33333333 0.33333333]\n",
            "[1] [0.09003057 0.24472847 0.66524096]\n",
            "[2] [0.01587624 0.11731043 0.86681333]\n",
            "[3] [0.00235563 0.04731416 0.95033021]\n"
          ]
        }
      ]
    },
    {
      "cell_type": "markdown",
      "metadata": {
        "id": "OhHRBWI4p2ZV"
      },
      "source": [
        "## 2. 원-핫 벡터 (Cross Entropy)\n",
        "---\n",
        "\n",
        "|X|Y|\n",
        "|---|--|\n",
        "|-3|패배|\n",
        "|-2|패배|\n",
        "|-1|패배|\n",
        "|0|무승부|\n",
        "|1|무승부|\n",
        "|2|승리|\n",
        "|3|승리|\n"
      ]
    },
    {
      "cell_type": "code",
      "metadata": {
        "id": "o1lXeVQWOGtK"
      },
      "source": [
        "from tensorflow.keras.utils import to_categorical"
      ],
      "execution_count": 159,
      "outputs": []
    },
    {
      "cell_type": "markdown",
      "metadata": {
        "id": "5hdReH-XssPl"
      },
      "source": [
        "* 데이터 정의\n",
        "\n"
      ]
    },
    {
      "cell_type": "code",
      "metadata": {
        "id": "Dhozk5KpssPm",
        "colab": {
          "base_uri": "https://localhost:8080/"
        },
        "outputId": "33d6aaeb-ded9-4f87-dcc3-37757edaf13b"
      },
      "source": [
        "Y = np.array([0, 0, 0, 1, 1, 2, 2, 2])\n",
        "\n",
        "Y_onehot = to_categorical(Y, num_classes=3)\n",
        "\n",
        "print(Y_onehot)"
      ],
      "execution_count": 160,
      "outputs": [
        {
          "output_type": "stream",
          "name": "stdout",
          "text": [
            "[[1. 0. 0.]\n",
            " [1. 0. 0.]\n",
            " [1. 0. 0.]\n",
            " [0. 1. 0.]\n",
            " [0. 1. 0.]\n",
            " [0. 0. 1.]\n",
            " [0. 0. 1.]\n",
            " [0. 0. 1.]]\n"
          ]
        }
      ]
    },
    {
      "cell_type": "markdown",
      "metadata": {
        "id": "dcvlzGY7w7_N"
      },
      "source": [
        "\n",
        "## 3. 실습\n",
        "---"
      ]
    },
    {
      "cell_type": "markdown",
      "metadata": {
        "id": "lERyWr69x0hT"
      },
      "source": [
        "### **데이터**\n",
        "|공부시간|집중도|수면시간|종합성적|합격여부|\n",
        "|------|---|---|---|---|\n",
        "|0|1|9|0|불합격|\n",
        "|1|1|8.5|1.1|불합격|\n",
        "|2|2|8|2.3|불합격|\n",
        "|3|4|8|3.0|유예|\n",
        "|4|3|7|4.4|유예|\n",
        "|5|5|7.5|5.5|유예|\n",
        "|6|6|7|6.1|유예|\n",
        "|7|6|6|7.3|합격|\n",
        "|8|7|7|8.4|합격|\n",
        "|9|6|6.5|9.8|합격|"
      ]
    },
    {
      "cell_type": "markdown",
      "metadata": {
        "id": "W05K5U6jr4hF"
      },
      "source": [
        "* 데이터 정의"
      ]
    },
    {
      "cell_type": "code",
      "metadata": {
        "id": "O8Azp_7AhYc3",
        "colab": {
          "base_uri": "https://localhost:8080/"
        },
        "outputId": "a854eb84-3298-4f48-dfa8-5251948c4491"
      },
      "source": [
        "X = np.array([[0,1,9,0],\n",
        "            [1,1,8.5,1.1],\n",
        "            [2,2,8,2.3],\n",
        "            [3,4,8,3.0],\n",
        "            [4,3,7,4.4],\n",
        "            [5,5,7.5,5.5],\n",
        "            [6,6,7,6.5],\n",
        "            [7,6,6,7.3],\n",
        "            [8,7,7,8.4],\n",
        "            [9,6,6.5,9.8]])\n",
        "'''\n",
        "Y = np.array([[1,0,0],\n",
        "              [1,0,0],\n",
        "              [1,0,0],\n",
        "              [0,1,0],\n",
        "              [0,1,0],\n",
        "              [0,1,0],\n",
        "              [0,1,0],\n",
        "              [0,0,1],\n",
        "              [0,0,1],\n",
        "              [0,0,1]])\n",
        "'''\n",
        "\n",
        "Y = np.array([0,0,0,1,1,1,1,2,2,2])\n",
        "y_onehot = to_categorical(Y, num_classes=3)\n",
        "\n",
        "print(y_onehot)\n",
        "\n",
        "X.shape, Y.shape"
      ],
      "execution_count": 161,
      "outputs": [
        {
          "output_type": "stream",
          "name": "stdout",
          "text": [
            "[[1. 0. 0.]\n",
            " [1. 0. 0.]\n",
            " [1. 0. 0.]\n",
            " [0. 1. 0.]\n",
            " [0. 1. 0.]\n",
            " [0. 1. 0.]\n",
            " [0. 1. 0.]\n",
            " [0. 0. 1.]\n",
            " [0. 0. 1.]\n",
            " [0. 0. 1.]]\n"
          ]
        },
        {
          "output_type": "execute_result",
          "data": {
            "text/plain": [
              "((10, 4), (10,))"
            ]
          },
          "metadata": {},
          "execution_count": 161
        }
      ]
    },
    {
      "cell_type": "markdown",
      "metadata": {
        "id": "vKgnvyq0NIio"
      },
      "source": [
        "* 시각화 "
      ]
    },
    {
      "cell_type": "code",
      "metadata": {
        "id": "XE61QbZViBcv",
        "colab": {
          "base_uri": "https://localhost:8080/",
          "height": 265
        },
        "outputId": "b6bdb1ae-6736-46d0-ec22-53280c2db7e2"
      },
      "source": [
        "plt.plot(Y, marker='o', linestyle='')\n",
        "plt.show()"
      ],
      "execution_count": 162,
      "outputs": [
        {
          "output_type": "display_data",
          "data": {
            "image/png": "[encoded data removed]",
            "text/plain": [
              "<Figure size 432x288 with 1 Axes>"
            ]
          },
          "metadata": {
            "needs_background": "light"
          }
        }
      ]
    },
    {
      "cell_type": "markdown",
      "metadata": {
        "id": "sjzd0-TyxwDM"
      },
      "source": [
        "###  **모델 생성**"
      ]
    },
    {
      "cell_type": "markdown",
      "metadata": {
        "id": "w341U_IMr_Ay"
      },
      "source": [
        "* 케라스를 이용한 모델 구현"
      ]
    },
    {
      "cell_type": "code",
      "metadata": {
        "id": "_U2vEe_sN-Hd",
        "colab": {
          "base_uri": "https://localhost:8080/"
        },
        "outputId": "639f4e0a-e279-44f6-ccf4-d1a1e65bc7c7"
      },
      "source": [
        "model = Sequential()\n",
        "model.add(Dense(3, input_dim=4, activation='softmax'))\n",
        "model.summary()"
      ],
      "execution_count": 163,
      "outputs": [
        {
          "output_type": "stream",
          "name": "stdout",
          "text": [
            "Model: \"sequential_14\"\n",
            "_________________________________________________________________\n",
            "Layer (type)                 Output Shape              Param #   \n",
            "=================================================================\n",
            "dense_12 (Dense)             (None, 3)                 15        \n",
            "=================================================================\n",
            "Total params: 15\n",
            "Trainable params: 15\n",
            "Non-trainable params: 0\n",
            "_________________________________________________________________\n"
          ]
        }
      ]
    },
    {
      "cell_type": "markdown",
      "metadata": {
        "id": "OBKpPVHFyTsb"
      },
      "source": [
        "* 학습 파라미터 확인"
      ]
    },
    {
      "cell_type": "code",
      "metadata": {
        "id": "9hHOMXhkyPXa",
        "colab": {
          "base_uri": "https://localhost:8080/"
        },
        "outputId": "65fa4ee6-ce6f-423d-a086-8d6b484477d4"
      },
      "source": [
        "W = model.get_weights()[0]\n",
        "b = model.get_weights()[1]\n",
        "print(\"W : \", W)\n",
        "print(\"b : \", b)"
      ],
      "execution_count": 164,
      "outputs": [
        {
          "output_type": "stream",
          "name": "stdout",
          "text": [
            "W :  [[ 0.40137088 -0.14931422  0.1597526 ]\n",
            " [ 0.60296535 -0.7731091  -0.4011532 ]\n",
            " [ 0.519168    0.8214606  -0.68639773]\n",
            " [-0.22539854  0.0850203  -0.7297344 ]]\n",
            "b :  [0. 0. 0.]\n"
          ]
        }
      ]
    },
    {
      "cell_type": "markdown",
      "metadata": {
        "id": "wfC7jd1tsKgr"
      },
      "source": [
        "* 시각화"
      ]
    },
    {
      "cell_type": "code",
      "metadata": {
        "id": "vKTNcPF3zaPk",
        "colab": {
          "base_uri": "https://localhost:8080/",
          "height": 458
        },
        "outputId": "ed3bdcec-6aef-491e-9a5f-8c66903bf6bf"
      },
      "source": [
        "Y_pred_onehot = model.predict(X)\n",
        "print(Y_pred_onehot)\n",
        "\n",
        "y_pred = [np.argmax(y_pred_onehot) for y_pred_onehot in Y_pred_onehot]\n",
        "print(y_pred)\n",
        "\n",
        "plt.plot(Y, marker='o', linestyle='')\n",
        "plt.plot(y_pred, marker='.', linestyle='--')\n",
        "\n",
        "plt.show()"
      ],
      "execution_count": 165,
      "outputs": [
        {
          "output_type": "stream",
          "name": "stdout",
          "text": [
            "[[2.0676099e-01 7.9323751e-01 1.4697750e-06]\n",
            " [2.7206114e-01 7.2793728e-01 1.5935541e-06]\n",
            " [6.7287380e-01 3.2712504e-01 1.1312693e-06]\n",
            " [9.7826278e-01 2.1737145e-02 1.2180557e-07]\n",
            " [9.4527036e-01 5.4729234e-02 4.1576243e-07]\n",
            " [9.9652714e-01 3.4728532e-03 1.4519804e-08]\n",
            " [9.9940526e-01 5.9474265e-04 4.6232893e-09]\n",
            " [9.9967504e-01 3.2497759e-04 8.0999376e-09]\n",
            " [9.9990988e-01 9.0105794e-05 4.0092465e-10]\n",
            " [9.9972695e-01 2.7304349e-04 7.7495327e-10]]\n",
            "[1, 1, 0, 0, 0, 0, 0, 0, 0, 0]\n"
          ]
        },
        {
          "output_type": "display_data",
          "data": {
            "image/png": "[encoded data removed]",
            "text/plain": [
              "<Figure size 432x288 with 1 Axes>"
            ]
          },
          "metadata": {
            "needs_background": "light"
          }
        }
      ]
    },
    {
      "cell_type": "markdown",
      "metadata": {
        "id": "GpvKk6lsymbd"
      },
      "source": [
        "### **모델 학습**"
      ]
    },
    {
      "cell_type": "markdown",
      "metadata": {
        "id": "VaLNy_3atLZ8"
      },
      "source": [
        "* 모델 컴파일"
      ]
    },
    {
      "cell_type": "code",
      "metadata": {
        "id": "j6zS1DtnyTOT"
      },
      "source": [
        "model.compile(loss = 'categorical_crossentropy',\n",
        "              optimizer=optimizers.SGD(learning_rate=0.01),\n",
        "              metrics=['acc'])"
      ],
      "execution_count": 166,
      "outputs": []
    },
    {
      "cell_type": "markdown",
      "metadata": {
        "id": "ZxywaIertNp0"
      },
      "source": [
        "* 학습 진행"
      ]
    },
    {
      "cell_type": "code",
      "metadata": {
        "id": "JSW0c3Lzypip",
        "colab": {
          "base_uri": "https://localhost:8080/"
        },
        "outputId": "e5c5e6e7-a69f-45a4-fcd1-5a6c027f67de"
      },
      "source": [
        "model.fit(X, y_onehot, epochs=300)"
      ],
      "execution_count": 167,
      "outputs": [
        {
          "output_type": "stream",
          "name": "stdout",
          "text": [
            "Epoch 1/300\n",
            "1/1 [==============================] - 0s 277ms/step - loss: 8.4345 - acc: 0.1000\n",
            "Epoch 2/300\n",
            "1/1 [==============================] - 0s 5ms/step - loss: 7.5792 - acc: 0.0000e+00\n",
            "Epoch 3/300\n",
            "1/1 [==============================] - 0s 4ms/step - loss: 6.7887 - acc: 0.0000e+00\n",
            "Epoch 4/300\n",
            "1/1 [==============================] - 0s 11ms/step - loss: 6.0726 - acc: 0.0000e+00\n",
            "Epoch 5/300\n",
            "1/1 [==============================] - 0s 12ms/step - loss: 5.4448 - acc: 0.1000\n",
            "Epoch 6/300\n",
            "1/1 [==============================] - 0s 4ms/step - loss: 4.9187 - acc: 0.1000\n",
            "Epoch 7/300\n",
            "1/1 [==============================] - 0s 15ms/step - loss: 4.4873 - acc: 0.2000\n",
            "Epoch 8/300\n",
            "1/1 [==============================] - 0s 8ms/step - loss: 4.1139 - acc: 0.3000\n",
            "Epoch 9/300\n",
            "1/1 [==============================] - 0s 9ms/step - loss: 3.7639 - acc: 0.3000\n",
            "Epoch 10/300\n",
            "1/1 [==============================] - 0s 6ms/step - loss: 3.4224 - acc: 0.3000\n",
            "Epoch 11/300\n",
            "1/1 [==============================] - 0s 5ms/step - loss: 3.0850 - acc: 0.3000\n",
            "Epoch 12/300\n",
            "1/1 [==============================] - 0s 9ms/step - loss: 2.7508 - acc: 0.3000\n",
            "Epoch 13/300\n",
            "1/1 [==============================] - 0s 10ms/step - loss: 2.4204 - acc: 0.3000\n",
            "Epoch 14/300\n",
            "1/1 [==============================] - 0s 8ms/step - loss: 2.0960 - acc: 0.3000\n",
            "Epoch 15/300\n",
            "1/1 [==============================] - 0s 10ms/step - loss: 1.7831 - acc: 0.2000\n",
            "Epoch 16/300\n",
            "1/1 [==============================] - 0s 10ms/step - loss: 1.4935 - acc: 0.2000\n",
            "Epoch 17/300\n",
            "1/1 [==============================] - 0s 7ms/step - loss: 1.2483 - acc: 0.2000\n",
            "Epoch 18/300\n",
            "1/1 [==============================] - 0s 16ms/step - loss: 1.0681 - acc: 0.2000\n",
            "Epoch 19/300\n",
            "1/1 [==============================] - 0s 7ms/step - loss: 0.9524 - acc: 0.5000\n",
            "Epoch 20/300\n",
            "1/1 [==============================] - 0s 5ms/step - loss: 0.8807 - acc: 0.5000\n",
            "Epoch 21/300\n",
            "1/1 [==============================] - 0s 7ms/step - loss: 0.8333 - acc: 0.5000\n",
            "Epoch 22/300\n",
            "1/1 [==============================] - 0s 13ms/step - loss: 0.7986 - acc: 0.5000\n",
            "Epoch 23/300\n",
            "1/1 [==============================] - 0s 11ms/step - loss: 0.7709 - acc: 0.6000\n",
            "Epoch 24/300\n",
            "1/1 [==============================] - 0s 4ms/step - loss: 0.7474 - acc: 0.5000\n",
            "Epoch 25/300\n",
            "1/1 [==============================] - 0s 11ms/step - loss: 0.7267 - acc: 0.5000\n",
            "Epoch 26/300\n",
            "1/1 [==============================] - 0s 5ms/step - loss: 0.7081 - acc: 0.5000\n",
            "Epoch 27/300\n",
            "1/1 [==============================] - 0s 4ms/step - loss: 0.6910 - acc: 0.5000\n",
            "Epoch 28/300\n",
            "1/1 [==============================] - 0s 5ms/step - loss: 0.6753 - acc: 0.5000\n",
            "Epoch 29/300\n",
            "1/1 [==============================] - 0s 6ms/step - loss: 0.6608 - acc: 0.6000\n",
            "Epoch 30/300\n",
            "1/1 [==============================] - 0s 8ms/step - loss: 0.6472 - acc: 0.6000\n",
            "Epoch 31/300\n",
            "1/1 [==============================] - 0s 6ms/step - loss: 0.6346 - acc: 0.6000\n",
            "Epoch 32/300\n",
            "1/1 [==============================] - 0s 4ms/step - loss: 0.6229 - acc: 0.6000\n",
            "Epoch 33/300\n",
            "1/1 [==============================] - 0s 5ms/step - loss: 0.6119 - acc: 0.6000\n",
            "Epoch 34/300\n",
            "1/1 [==============================] - 0s 6ms/step - loss: 0.6015 - acc: 0.6000\n",
            "Epoch 35/300\n",
            "1/1 [==============================] - 0s 5ms/step - loss: 0.5919 - acc: 0.6000\n",
            "Epoch 36/300\n",
            "1/1 [==============================] - 0s 5ms/step - loss: 0.5828 - acc: 0.6000\n",
            "Epoch 37/300\n",
            "1/1 [==============================] - 0s 7ms/step - loss: 0.5743 - acc: 0.6000\n",
            "Epoch 38/300\n",
            "1/1 [==============================] - 0s 5ms/step - loss: 0.5662 - acc: 0.6000\n",
            "Epoch 39/300\n",
            "1/1 [==============================] - 0s 7ms/step - loss: 0.5586 - acc: 0.6000\n",
            "Epoch 40/300\n",
            "1/1 [==============================] - 0s 5ms/step - loss: 0.5515 - acc: 0.6000\n",
            "Epoch 41/300\n",
            "1/1 [==============================] - 0s 5ms/step - loss: 0.5447 - acc: 0.6000\n",
            "Epoch 42/300\n",
            "1/1 [==============================] - 0s 7ms/step - loss: 0.5382 - acc: 0.6000\n",
            "Epoch 43/300\n",
            "1/1 [==============================] - 0s 7ms/step - loss: 0.5321 - acc: 0.6000\n",
            "Epoch 44/300\n",
            "1/1 [==============================] - 0s 4ms/step - loss: 0.5263 - acc: 0.6000\n",
            "Epoch 45/300\n",
            "1/1 [==============================] - 0s 6ms/step - loss: 0.5208 - acc: 0.6000\n",
            "Epoch 46/300\n",
            "1/1 [==============================] - 0s 5ms/step - loss: 0.5155 - acc: 0.6000\n",
            "Epoch 47/300\n",
            "1/1 [==============================] - 0s 6ms/step - loss: 0.5104 - acc: 0.6000\n",
            "Epoch 48/300\n",
            "1/1 [==============================] - 0s 5ms/step - loss: 0.5056 - acc: 0.7000\n",
            "Epoch 49/300\n",
            "1/1 [==============================] - 0s 7ms/step - loss: 0.5010 - acc: 0.7000\n",
            "Epoch 50/300\n",
            "1/1 [==============================] - 0s 4ms/step - loss: 0.4966 - acc: 0.7000\n",
            "Epoch 51/300\n",
            "1/1 [==============================] - 0s 6ms/step - loss: 0.4923 - acc: 0.7000\n",
            "Epoch 52/300\n",
            "1/1 [==============================] - 0s 5ms/step - loss: 0.4882 - acc: 0.7000\n",
            "Epoch 53/300\n",
            "1/1 [==============================] - 0s 8ms/step - loss: 0.4843 - acc: 0.8000\n",
            "Epoch 54/300\n",
            "1/1 [==============================] - 0s 4ms/step - loss: 0.4805 - acc: 0.8000\n",
            "Epoch 55/300\n",
            "1/1 [==============================] - 0s 6ms/step - loss: 0.4768 - acc: 0.8000\n",
            "Epoch 56/300\n",
            "1/1 [==============================] - 0s 5ms/step - loss: 0.4733 - acc: 0.8000\n",
            "Epoch 57/300\n",
            "1/1 [==============================] - 0s 5ms/step - loss: 0.4699 - acc: 0.8000\n",
            "Epoch 58/300\n",
            "1/1 [==============================] - 0s 7ms/step - loss: 0.4666 - acc: 0.8000\n",
            "Epoch 59/300\n",
            "1/1 [==============================] - 0s 4ms/step - loss: 0.4634 - acc: 0.8000\n",
            "Epoch 60/300\n",
            "1/1 [==============================] - 0s 4ms/step - loss: 0.4603 - acc: 0.8000\n",
            "Epoch 61/300\n",
            "1/1 [==============================] - 0s 7ms/step - loss: 0.4573 - acc: 0.8000\n",
            "Epoch 62/300\n",
            "1/1 [==============================] - 0s 6ms/step - loss: 0.4544 - acc: 0.8000\n",
            "Epoch 63/300\n",
            "1/1 [==============================] - 0s 9ms/step - loss: 0.4516 - acc: 0.8000\n",
            "Epoch 64/300\n",
            "1/1 [==============================] - 0s 5ms/step - loss: 0.4489 - acc: 0.8000\n",
            "Epoch 65/300\n",
            "1/1 [==============================] - 0s 8ms/step - loss: 0.4462 - acc: 0.8000\n",
            "Epoch 66/300\n",
            "1/1 [==============================] - 0s 5ms/step - loss: 0.4436 - acc: 0.8000\n",
            "Epoch 67/300\n",
            "1/1 [==============================] - 0s 7ms/step - loss: 0.4411 - acc: 0.8000\n",
            "Epoch 68/300\n",
            "1/1 [==============================] - 0s 4ms/step - loss: 0.4386 - acc: 0.8000\n",
            "Epoch 69/300\n",
            "1/1 [==============================] - 0s 5ms/step - loss: 0.4362 - acc: 0.8000\n",
            "Epoch 70/300\n",
            "1/1 [==============================] - 0s 5ms/step - loss: 0.4338 - acc: 0.8000\n",
            "Epoch 71/300\n",
            "1/1 [==============================] - 0s 6ms/step - loss: 0.4315 - acc: 0.8000\n",
            "Epoch 72/300\n",
            "1/1 [==============================] - 0s 4ms/step - loss: 0.4293 - acc: 0.8000\n",
            "Epoch 73/300\n",
            "1/1 [==============================] - 0s 6ms/step - loss: 0.4271 - acc: 0.8000\n",
            "Epoch 74/300\n",
            "1/1 [==============================] - 0s 4ms/step - loss: 0.4249 - acc: 0.8000\n",
            "Epoch 75/300\n",
            "1/1 [==============================] - 0s 5ms/step - loss: 0.4228 - acc: 0.8000\n",
            "Epoch 76/300\n",
            "1/1 [==============================] - 0s 8ms/step - loss: 0.4208 - acc: 0.8000\n",
            "Epoch 77/300\n",
            "1/1 [==============================] - 0s 4ms/step - loss: 0.4188 - acc: 0.8000\n",
            "Epoch 78/300\n",
            "1/1 [==============================] - 0s 4ms/step - loss: 0.4168 - acc: 0.8000\n",
            "Epoch 79/300\n",
            "1/1 [==============================] - 0s 7ms/step - loss: 0.4148 - acc: 0.8000\n",
            "Epoch 80/300\n",
            "1/1 [==============================] - 0s 4ms/step - loss: 0.4129 - acc: 0.8000\n",
            "Epoch 81/300\n",
            "1/1 [==============================] - 0s 6ms/step - loss: 0.4111 - acc: 0.8000\n",
            "Epoch 82/300\n",
            "1/1 [==============================] - 0s 4ms/step - loss: 0.4092 - acc: 0.8000\n",
            "Epoch 83/300\n",
            "1/1 [==============================] - 0s 9ms/step - loss: 0.4074 - acc: 0.8000\n",
            "Epoch 84/300\n",
            "1/1 [==============================] - 0s 4ms/step - loss: 0.4057 - acc: 0.8000\n",
            "Epoch 85/300\n",
            "1/1 [==============================] - 0s 5ms/step - loss: 0.4039 - acc: 0.8000\n",
            "Epoch 86/300\n",
            "1/1 [==============================] - 0s 4ms/step - loss: 0.4022 - acc: 0.8000\n",
            "Epoch 87/300\n",
            "1/1 [==============================] - 0s 4ms/step - loss: 0.4005 - acc: 0.8000\n",
            "Epoch 88/300\n",
            "1/1 [==============================] - 0s 4ms/step - loss: 0.3989 - acc: 0.8000\n",
            "Epoch 89/300\n",
            "1/1 [==============================] - 0s 5ms/step - loss: 0.3973 - acc: 0.8000\n",
            "Epoch 90/300\n",
            "1/1 [==============================] - 0s 4ms/step - loss: 0.3957 - acc: 0.8000\n",
            "Epoch 91/300\n",
            "1/1 [==============================] - 0s 5ms/step - loss: 0.3941 - acc: 0.8000\n",
            "Epoch 92/300\n",
            "1/1 [==============================] - 0s 7ms/step - loss: 0.3925 - acc: 0.8000\n",
            "Epoch 93/300\n",
            "1/1 [==============================] - 0s 4ms/step - loss: 0.3910 - acc: 0.8000\n",
            "Epoch 94/300\n",
            "1/1 [==============================] - 0s 4ms/step - loss: 0.3895 - acc: 0.8000\n",
            "Epoch 95/300\n",
            "1/1 [==============================] - 0s 7ms/step - loss: 0.3880 - acc: 0.8000\n",
            "Epoch 96/300\n",
            "1/1 [==============================] - 0s 5ms/step - loss: 0.3865 - acc: 0.8000\n",
            "Epoch 97/300\n",
            "1/1 [==============================] - 0s 4ms/step - loss: 0.3851 - acc: 0.8000\n",
            "Epoch 98/300\n",
            "1/1 [==============================] - 0s 8ms/step - loss: 0.3837 - acc: 0.8000\n",
            "Epoch 99/300\n",
            "1/1 [==============================] - 0s 4ms/step - loss: 0.3822 - acc: 0.8000\n",
            "Epoch 100/300\n",
            "1/1 [==============================] - 0s 11ms/step - loss: 0.3809 - acc: 0.8000\n",
            "Epoch 101/300\n",
            "1/1 [==============================] - 0s 4ms/step - loss: 0.3795 - acc: 0.8000\n",
            "Epoch 102/300\n",
            "1/1 [==============================] - 0s 4ms/step - loss: 0.3781 - acc: 0.8000\n",
            "Epoch 103/300\n",
            "1/1 [==============================] - 0s 6ms/step - loss: 0.3768 - acc: 0.8000\n",
            "Epoch 104/300\n",
            "1/1 [==============================] - 0s 5ms/step - loss: 0.3755 - acc: 0.8000\n",
            "Epoch 105/300\n",
            "1/1 [==============================] - 0s 4ms/step - loss: 0.3742 - acc: 0.8000\n",
            "Epoch 106/300\n",
            "1/1 [==============================] - 0s 6ms/step - loss: 0.3729 - acc: 0.8000\n",
            "Epoch 107/300\n",
            "1/1 [==============================] - 0s 4ms/step - loss: 0.3716 - acc: 0.8000\n",
            "Epoch 108/300\n",
            "1/1 [==============================] - 0s 4ms/step - loss: 0.3703 - acc: 0.8000\n",
            "Epoch 109/300\n",
            "1/1 [==============================] - 0s 5ms/step - loss: 0.3691 - acc: 0.8000\n",
            "Epoch 110/300\n",
            "1/1 [==============================] - 0s 6ms/step - loss: 0.3679 - acc: 0.9000\n",
            "Epoch 111/300\n",
            "1/1 [==============================] - 0s 7ms/step - loss: 0.3666 - acc: 0.9000\n",
            "Epoch 112/300\n",
            "1/1 [==============================] - 0s 8ms/step - loss: 0.3654 - acc: 0.9000\n",
            "Epoch 113/300\n",
            "1/1 [==============================] - 0s 18ms/step - loss: 0.3642 - acc: 0.9000\n",
            "Epoch 114/300\n",
            "1/1 [==============================] - 0s 8ms/step - loss: 0.3631 - acc: 0.9000\n",
            "Epoch 115/300\n",
            "1/1 [==============================] - 0s 11ms/step - loss: 0.3619 - acc: 0.9000\n",
            "Epoch 116/300\n",
            "1/1 [==============================] - 0s 17ms/step - loss: 0.3608 - acc: 0.9000\n",
            "Epoch 117/300\n",
            "1/1 [==============================] - 0s 14ms/step - loss: 0.3596 - acc: 0.9000\n",
            "Epoch 118/300\n",
            "1/1 [==============================] - 0s 4ms/step - loss: 0.3585 - acc: 0.9000\n",
            "Epoch 119/300\n",
            "1/1 [==============================] - 0s 10ms/step - loss: 0.3574 - acc: 0.9000\n",
            "Epoch 120/300\n",
            "1/1 [==============================] - 0s 4ms/step - loss: 0.3563 - acc: 0.9000\n",
            "Epoch 121/300\n",
            "1/1 [==============================] - 0s 5ms/step - loss: 0.3552 - acc: 0.9000\n",
            "Epoch 122/300\n",
            "1/1 [==============================] - 0s 10ms/step - loss: 0.3541 - acc: 0.9000\n",
            "Epoch 123/300\n",
            "1/1 [==============================] - 0s 15ms/step - loss: 0.3530 - acc: 0.9000\n",
            "Epoch 124/300\n",
            "1/1 [==============================] - 0s 9ms/step - loss: 0.3519 - acc: 0.9000\n",
            "Epoch 125/300\n",
            "1/1 [==============================] - 0s 12ms/step - loss: 0.3509 - acc: 0.9000\n",
            "Epoch 126/300\n",
            "1/1 [==============================] - 0s 8ms/step - loss: 0.3498 - acc: 0.9000\n",
            "Epoch 127/300\n",
            "1/1 [==============================] - 0s 6ms/step - loss: 0.3488 - acc: 0.9000\n",
            "Epoch 128/300\n",
            "1/1 [==============================] - 0s 6ms/step - loss: 0.3478 - acc: 0.9000\n",
            "Epoch 129/300\n",
            "1/1 [==============================] - 0s 6ms/step - loss: 0.3467 - acc: 0.9000\n",
            "Epoch 130/300\n",
            "1/1 [==============================] - 0s 9ms/step - loss: 0.3457 - acc: 0.9000\n",
            "Epoch 131/300\n",
            "1/1 [==============================] - 0s 9ms/step - loss: 0.3447 - acc: 0.9000\n",
            "Epoch 132/300\n",
            "1/1 [==============================] - 0s 9ms/step - loss: 0.3437 - acc: 0.9000\n",
            "Epoch 133/300\n",
            "1/1 [==============================] - 0s 18ms/step - loss: 0.3428 - acc: 0.9000\n",
            "Epoch 134/300\n",
            "1/1 [==============================] - 0s 10ms/step - loss: 0.3418 - acc: 0.9000\n",
            "Epoch 135/300\n",
            "1/1 [==============================] - 0s 7ms/step - loss: 0.3408 - acc: 0.9000\n",
            "Epoch 136/300\n",
            "1/1 [==============================] - 0s 9ms/step - loss: 0.3399 - acc: 0.9000\n",
            "Epoch 137/300\n",
            "1/1 [==============================] - 0s 11ms/step - loss: 0.3389 - acc: 0.9000\n",
            "Epoch 138/300\n",
            "1/1 [==============================] - 0s 20ms/step - loss: 0.3380 - acc: 0.9000\n",
            "Epoch 139/300\n",
            "1/1 [==============================] - 0s 7ms/step - loss: 0.3370 - acc: 0.9000\n",
            "Epoch 140/300\n",
            "1/1 [==============================] - 0s 11ms/step - loss: 0.3361 - acc: 0.9000\n",
            "Epoch 141/300\n",
            "1/1 [==============================] - 0s 15ms/step - loss: 0.3352 - acc: 0.9000\n",
            "Epoch 142/300\n",
            "1/1 [==============================] - 0s 7ms/step - loss: 0.3343 - acc: 0.9000\n",
            "Epoch 143/300\n",
            "1/1 [==============================] - 0s 4ms/step - loss: 0.3334 - acc: 0.9000\n",
            "Epoch 144/300\n",
            "1/1 [==============================] - 0s 5ms/step - loss: 0.3325 - acc: 0.9000\n",
            "Epoch 145/300\n",
            "1/1 [==============================] - 0s 9ms/step - loss: 0.3316 - acc: 0.9000\n",
            "Epoch 146/300\n",
            "1/1 [==============================] - 0s 8ms/step - loss: 0.3307 - acc: 0.9000\n",
            "Epoch 147/300\n",
            "1/1 [==============================] - 0s 5ms/step - loss: 0.3298 - acc: 0.9000\n",
            "Epoch 148/300\n",
            "1/1 [==============================] - 0s 9ms/step - loss: 0.3290 - acc: 0.9000\n",
            "Epoch 149/300\n",
            "1/1 [==============================] - 0s 4ms/step - loss: 0.3281 - acc: 1.0000\n",
            "Epoch 150/300\n",
            "1/1 [==============================] - 0s 8ms/step - loss: 0.3272 - acc: 1.0000\n",
            "Epoch 151/300\n",
            "1/1 [==============================] - 0s 12ms/step - loss: 0.3264 - acc: 1.0000\n",
            "Epoch 152/300\n",
            "1/1 [==============================] - 0s 8ms/step - loss: 0.3255 - acc: 1.0000\n",
            "Epoch 153/300\n",
            "1/1 [==============================] - 0s 7ms/step - loss: 0.3247 - acc: 1.0000\n",
            "Epoch 154/300\n",
            "1/1 [==============================] - 0s 5ms/step - loss: 0.3239 - acc: 1.0000\n",
            "Epoch 155/300\n",
            "1/1 [==============================] - 0s 9ms/step - loss: 0.3230 - acc: 1.0000\n",
            "Epoch 156/300\n",
            "1/1 [==============================] - 0s 9ms/step - loss: 0.3222 - acc: 1.0000\n",
            "Epoch 157/300\n",
            "1/1 [==============================] - 0s 7ms/step - loss: 0.3214 - acc: 1.0000\n",
            "Epoch 158/300\n",
            "1/1 [==============================] - 0s 9ms/step - loss: 0.3206 - acc: 1.0000\n",
            "Epoch 159/300\n",
            "1/1 [==============================] - 0s 4ms/step - loss: 0.3198 - acc: 1.0000\n",
            "Epoch 160/300\n",
            "1/1 [==============================] - 0s 8ms/step - loss: 0.3190 - acc: 1.0000\n",
            "Epoch 161/300\n",
            "1/1 [==============================] - 0s 11ms/step - loss: 0.3182 - acc: 1.0000\n",
            "Epoch 162/300\n",
            "1/1 [==============================] - 0s 4ms/step - loss: 0.3174 - acc: 1.0000\n",
            "Epoch 163/300\n",
            "1/1 [==============================] - 0s 5ms/step - loss: 0.3166 - acc: 1.0000\n",
            "Epoch 164/300\n",
            "1/1 [==============================] - 0s 6ms/step - loss: 0.3159 - acc: 1.0000\n",
            "Epoch 165/300\n",
            "1/1 [==============================] - 0s 6ms/step - loss: 0.3151 - acc: 1.0000\n",
            "Epoch 166/300\n",
            "1/1 [==============================] - 0s 6ms/step - loss: 0.3143 - acc: 1.0000\n",
            "Epoch 167/300\n",
            "1/1 [==============================] - 0s 4ms/step - loss: 0.3136 - acc: 1.0000\n",
            "Epoch 168/300\n",
            "1/1 [==============================] - 0s 8ms/step - loss: 0.3128 - acc: 1.0000\n",
            "Epoch 169/300\n",
            "1/1 [==============================] - 0s 11ms/step - loss: 0.3121 - acc: 1.0000\n",
            "Epoch 170/300\n",
            "1/1 [==============================] - 0s 10ms/step - loss: 0.3113 - acc: 1.0000\n",
            "Epoch 171/300\n",
            "1/1 [==============================] - 0s 5ms/step - loss: 0.3106 - acc: 1.0000\n",
            "Epoch 172/300\n",
            "1/1 [==============================] - 0s 10ms/step - loss: 0.3098 - acc: 1.0000\n",
            "Epoch 173/300\n",
            "1/1 [==============================] - 0s 14ms/step - loss: 0.3091 - acc: 1.0000\n",
            "Epoch 174/300\n",
            "1/1 [==============================] - 0s 8ms/step - loss: 0.3084 - acc: 1.0000\n",
            "Epoch 175/300\n",
            "1/1 [==============================] - 0s 9ms/step - loss: 0.3076 - acc: 1.0000\n",
            "Epoch 176/300\n",
            "1/1 [==============================] - 0s 5ms/step - loss: 0.3069 - acc: 1.0000\n",
            "Epoch 177/300\n",
            "1/1 [==============================] - 0s 8ms/step - loss: 0.3062 - acc: 1.0000\n",
            "Epoch 178/300\n",
            "1/1 [==============================] - 0s 13ms/step - loss: 0.3055 - acc: 1.0000\n",
            "Epoch 179/300\n",
            "1/1 [==============================] - 0s 11ms/step - loss: 0.3048 - acc: 1.0000\n",
            "Epoch 180/300\n",
            "1/1 [==============================] - 0s 19ms/step - loss: 0.3041 - acc: 1.0000\n",
            "Epoch 181/300\n",
            "1/1 [==============================] - 0s 27ms/step - loss: 0.3034 - acc: 1.0000\n",
            "Epoch 182/300\n",
            "1/1 [==============================] - 0s 13ms/step - loss: 0.3027 - acc: 1.0000\n",
            "Epoch 183/300\n",
            "1/1 [==============================] - 0s 6ms/step - loss: 0.3020 - acc: 1.0000\n",
            "Epoch 184/300\n",
            "1/1 [==============================] - 0s 16ms/step - loss: 0.3013 - acc: 1.0000\n",
            "Epoch 185/300\n",
            "1/1 [==============================] - 0s 5ms/step - loss: 0.3007 - acc: 1.0000\n",
            "Epoch 186/300\n",
            "1/1 [==============================] - 0s 5ms/step - loss: 0.3000 - acc: 1.0000\n",
            "Epoch 187/300\n",
            "1/1 [==============================] - 0s 13ms/step - loss: 0.2993 - acc: 1.0000\n",
            "Epoch 188/300\n",
            "1/1 [==============================] - 0s 4ms/step - loss: 0.2987 - acc: 1.0000\n",
            "Epoch 189/300\n",
            "1/1 [==============================] - 0s 14ms/step - loss: 0.2980 - acc: 1.0000\n",
            "Epoch 190/300\n",
            "1/1 [==============================] - 0s 6ms/step - loss: 0.2973 - acc: 1.0000\n",
            "Epoch 191/300\n",
            "1/1 [==============================] - 0s 14ms/step - loss: 0.2967 - acc: 1.0000\n",
            "Epoch 192/300\n",
            "1/1 [==============================] - 0s 5ms/step - loss: 0.2960 - acc: 1.0000\n",
            "Epoch 193/300\n",
            "1/1 [==============================] - 0s 14ms/step - loss: 0.2954 - acc: 1.0000\n",
            "Epoch 194/300\n",
            "1/1 [==============================] - 0s 7ms/step - loss: 0.2947 - acc: 1.0000\n",
            "Epoch 195/300\n",
            "1/1 [==============================] - 0s 6ms/step - loss: 0.2941 - acc: 1.0000\n",
            "Epoch 196/300\n",
            "1/1 [==============================] - 0s 9ms/step - loss: 0.2935 - acc: 1.0000\n",
            "Epoch 197/300\n",
            "1/1 [==============================] - 0s 7ms/step - loss: 0.2928 - acc: 1.0000\n",
            "Epoch 198/300\n",
            "1/1 [==============================] - 0s 8ms/step - loss: 0.2922 - acc: 1.0000\n",
            "Epoch 199/300\n",
            "1/1 [==============================] - 0s 5ms/step - loss: 0.2916 - acc: 1.0000\n",
            "Epoch 200/300\n",
            "1/1 [==============================] - 0s 18ms/step - loss: 0.2909 - acc: 1.0000\n",
            "Epoch 201/300\n",
            "1/1 [==============================] - 0s 7ms/step - loss: 0.2903 - acc: 1.0000\n",
            "Epoch 202/300\n",
            "1/1 [==============================] - 0s 5ms/step - loss: 0.2897 - acc: 1.0000\n",
            "Epoch 203/300\n",
            "1/1 [==============================] - 0s 13ms/step - loss: 0.2891 - acc: 1.0000\n",
            "Epoch 204/300\n",
            "1/1 [==============================] - 0s 15ms/step - loss: 0.2885 - acc: 1.0000\n",
            "Epoch 205/300\n",
            "1/1 [==============================] - 0s 19ms/step - loss: 0.2879 - acc: 1.0000\n",
            "Epoch 206/300\n",
            "1/1 [==============================] - 0s 3ms/step - loss: 0.2873 - acc: 1.0000\n",
            "Epoch 207/300\n",
            "1/1 [==============================] - 0s 4ms/step - loss: 0.2867 - acc: 1.0000\n",
            "Epoch 208/300\n",
            "1/1 [==============================] - 0s 4ms/step - loss: 0.2861 - acc: 1.0000\n",
            "Epoch 209/300\n",
            "1/1 [==============================] - 0s 5ms/step - loss: 0.2855 - acc: 1.0000\n",
            "Epoch 210/300\n",
            "1/1 [==============================] - 0s 11ms/step - loss: 0.2849 - acc: 1.0000\n",
            "Epoch 211/300\n",
            "1/1 [==============================] - 0s 4ms/step - loss: 0.2843 - acc: 1.0000\n",
            "Epoch 212/300\n",
            "1/1 [==============================] - 0s 4ms/step - loss: 0.2837 - acc: 1.0000\n",
            "Epoch 213/300\n",
            "1/1 [==============================] - 0s 4ms/step - loss: 0.2831 - acc: 1.0000\n",
            "Epoch 214/300\n",
            "1/1 [==============================] - 0s 4ms/step - loss: 0.2826 - acc: 1.0000\n",
            "Epoch 215/300\n",
            "1/1 [==============================] - 0s 6ms/step - loss: 0.2820 - acc: 1.0000\n",
            "Epoch 216/300\n",
            "1/1 [==============================] - 0s 8ms/step - loss: 0.2814 - acc: 1.0000\n",
            "Epoch 217/300\n",
            "1/1 [==============================] - 0s 4ms/step - loss: 0.2809 - acc: 1.0000\n",
            "Epoch 218/300\n",
            "1/1 [==============================] - 0s 4ms/step - loss: 0.2803 - acc: 1.0000\n",
            "Epoch 219/300\n",
            "1/1 [==============================] - 0s 11ms/step - loss: 0.2797 - acc: 1.0000\n",
            "Epoch 220/300\n",
            "1/1 [==============================] - 0s 4ms/step - loss: 0.2792 - acc: 1.0000\n",
            "Epoch 221/300\n",
            "1/1 [==============================] - 0s 4ms/step - loss: 0.2786 - acc: 1.0000\n",
            "Epoch 222/300\n",
            "1/1 [==============================] - 0s 4ms/step - loss: 0.2781 - acc: 1.0000\n",
            "Epoch 223/300\n",
            "1/1 [==============================] - 0s 4ms/step - loss: 0.2775 - acc: 1.0000\n",
            "Epoch 224/300\n",
            "1/1 [==============================] - 0s 8ms/step - loss: 0.2770 - acc: 1.0000\n",
            "Epoch 225/300\n",
            "1/1 [==============================] - 0s 5ms/step - loss: 0.2764 - acc: 1.0000\n",
            "Epoch 226/300\n",
            "1/1 [==============================] - 0s 5ms/step - loss: 0.2759 - acc: 1.0000\n",
            "Epoch 227/300\n",
            "1/1 [==============================] - 0s 11ms/step - loss: 0.2753 - acc: 1.0000\n",
            "Epoch 228/300\n",
            "1/1 [==============================] - 0s 4ms/step - loss: 0.2748 - acc: 1.0000\n",
            "Epoch 229/300\n",
            "1/1 [==============================] - 0s 4ms/step - loss: 0.2743 - acc: 1.0000\n",
            "Epoch 230/300\n",
            "1/1 [==============================] - 0s 4ms/step - loss: 0.2737 - acc: 1.0000\n",
            "Epoch 231/300\n",
            "1/1 [==============================] - 0s 5ms/step - loss: 0.2732 - acc: 1.0000\n",
            "Epoch 232/300\n",
            "1/1 [==============================] - 0s 7ms/step - loss: 0.2727 - acc: 1.0000\n",
            "Epoch 233/300\n",
            "1/1 [==============================] - 0s 9ms/step - loss: 0.2721 - acc: 1.0000\n",
            "Epoch 234/300\n",
            "1/1 [==============================] - 0s 5ms/step - loss: 0.2716 - acc: 1.0000\n",
            "Epoch 235/300\n",
            "1/1 [==============================] - 0s 4ms/step - loss: 0.2711 - acc: 1.0000\n",
            "Epoch 236/300\n",
            "1/1 [==============================] - 0s 9ms/step - loss: 0.2706 - acc: 1.0000\n",
            "Epoch 237/300\n",
            "1/1 [==============================] - 0s 4ms/step - loss: 0.2701 - acc: 1.0000\n",
            "Epoch 238/300\n",
            "1/1 [==============================] - 0s 4ms/step - loss: 0.2696 - acc: 1.0000\n",
            "Epoch 239/300\n",
            "1/1 [==============================] - 0s 8ms/step - loss: 0.2690 - acc: 1.0000\n",
            "Epoch 240/300\n",
            "1/1 [==============================] - 0s 5ms/step - loss: 0.2685 - acc: 1.0000\n",
            "Epoch 241/300\n",
            "1/1 [==============================] - 0s 5ms/step - loss: 0.2680 - acc: 1.0000\n",
            "Epoch 242/300\n",
            "1/1 [==============================] - 0s 8ms/step - loss: 0.2675 - acc: 1.0000\n",
            "Epoch 243/300\n",
            "1/1 [==============================] - 0s 4ms/step - loss: 0.2670 - acc: 1.0000\n",
            "Epoch 244/300\n",
            "1/1 [==============================] - 0s 5ms/step - loss: 0.2665 - acc: 1.0000\n",
            "Epoch 245/300\n",
            "1/1 [==============================] - 0s 21ms/step - loss: 0.2660 - acc: 1.0000\n",
            "Epoch 246/300\n",
            "1/1 [==============================] - 0s 16ms/step - loss: 0.2655 - acc: 1.0000\n",
            "Epoch 247/300\n",
            "1/1 [==============================] - 0s 9ms/step - loss: 0.2651 - acc: 1.0000\n",
            "Epoch 248/300\n",
            "1/1 [==============================] - 0s 4ms/step - loss: 0.2646 - acc: 1.0000\n",
            "Epoch 249/300\n",
            "1/1 [==============================] - 0s 5ms/step - loss: 0.2641 - acc: 1.0000\n",
            "Epoch 250/300\n",
            "1/1 [==============================] - 0s 9ms/step - loss: 0.2636 - acc: 1.0000\n",
            "Epoch 251/300\n",
            "1/1 [==============================] - 0s 4ms/step - loss: 0.2631 - acc: 1.0000\n",
            "Epoch 252/300\n",
            "1/1 [==============================] - 0s 4ms/step - loss: 0.2626 - acc: 1.0000\n",
            "Epoch 253/300\n",
            "1/1 [==============================] - 0s 6ms/step - loss: 0.2622 - acc: 1.0000\n",
            "Epoch 254/300\n",
            "1/1 [==============================] - 0s 10ms/step - loss: 0.2617 - acc: 1.0000\n",
            "Epoch 255/300\n",
            "1/1 [==============================] - 0s 20ms/step - loss: 0.2612 - acc: 1.0000\n",
            "Epoch 256/300\n",
            "1/1 [==============================] - 0s 26ms/step - loss: 0.2607 - acc: 1.0000\n",
            "Epoch 257/300\n",
            "1/1 [==============================] - 0s 9ms/step - loss: 0.2603 - acc: 1.0000\n",
            "Epoch 258/300\n",
            "1/1 [==============================] - 0s 4ms/step - loss: 0.2598 - acc: 1.0000\n",
            "Epoch 259/300\n",
            "1/1 [==============================] - 0s 6ms/step - loss: 0.2593 - acc: 1.0000\n",
            "Epoch 260/300\n",
            "1/1 [==============================] - 0s 11ms/step - loss: 0.2589 - acc: 1.0000\n",
            "Epoch 261/300\n",
            "1/1 [==============================] - 0s 5ms/step - loss: 0.2584 - acc: 1.0000\n",
            "Epoch 262/300\n",
            "1/1 [==============================] - 0s 5ms/step - loss: 0.2580 - acc: 1.0000\n",
            "Epoch 263/300\n",
            "1/1 [==============================] - 0s 8ms/step - loss: 0.2575 - acc: 1.0000\n",
            "Epoch 264/300\n",
            "1/1 [==============================] - 0s 9ms/step - loss: 0.2570 - acc: 1.0000\n",
            "Epoch 265/300\n",
            "1/1 [==============================] - 0s 9ms/step - loss: 0.2566 - acc: 1.0000\n",
            "Epoch 266/300\n",
            "1/1 [==============================] - 0s 6ms/step - loss: 0.2561 - acc: 1.0000\n",
            "Epoch 267/300\n",
            "1/1 [==============================] - 0s 7ms/step - loss: 0.2557 - acc: 1.0000\n",
            "Epoch 268/300\n",
            "1/1 [==============================] - 0s 6ms/step - loss: 0.2552 - acc: 1.0000\n",
            "Epoch 269/300\n",
            "1/1 [==============================] - 0s 5ms/step - loss: 0.2548 - acc: 1.0000\n",
            "Epoch 270/300\n",
            "1/1 [==============================] - 0s 8ms/step - loss: 0.2544 - acc: 1.0000\n",
            "Epoch 271/300\n",
            "1/1 [==============================] - 0s 9ms/step - loss: 0.2539 - acc: 1.0000\n",
            "Epoch 272/300\n",
            "1/1 [==============================] - 0s 5ms/step - loss: 0.2535 - acc: 1.0000\n",
            "Epoch 273/300\n",
            "1/1 [==============================] - 0s 4ms/step - loss: 0.2530 - acc: 1.0000\n",
            "Epoch 274/300\n",
            "1/1 [==============================] - 0s 8ms/step - loss: 0.2526 - acc: 1.0000\n",
            "Epoch 275/300\n",
            "1/1 [==============================] - 0s 12ms/step - loss: 0.2522 - acc: 1.0000\n",
            "Epoch 276/300\n",
            "1/1 [==============================] - 0s 6ms/step - loss: 0.2517 - acc: 1.0000\n",
            "Epoch 277/300\n",
            "1/1 [==============================] - 0s 12ms/step - loss: 0.2513 - acc: 1.0000\n",
            "Epoch 278/300\n",
            "1/1 [==============================] - 0s 9ms/step - loss: 0.2509 - acc: 1.0000\n",
            "Epoch 279/300\n",
            "1/1 [==============================] - 0s 12ms/step - loss: 0.2504 - acc: 1.0000\n",
            "Epoch 280/300\n",
            "1/1 [==============================] - 0s 5ms/step - loss: 0.2500 - acc: 1.0000\n",
            "Epoch 281/300\n",
            "1/1 [==============================] - 0s 7ms/step - loss: 0.2496 - acc: 1.0000\n",
            "Epoch 282/300\n",
            "1/1 [==============================] - 0s 7ms/step - loss: 0.2492 - acc: 1.0000\n",
            "Epoch 283/300\n",
            "1/1 [==============================] - 0s 13ms/step - loss: 0.2488 - acc: 1.0000\n",
            "Epoch 284/300\n",
            "1/1 [==============================] - 0s 5ms/step - loss: 0.2483 - acc: 1.0000\n",
            "Epoch 285/300\n",
            "1/1 [==============================] - 0s 21ms/step - loss: 0.2479 - acc: 1.0000\n",
            "Epoch 286/300\n",
            "1/1 [==============================] - 0s 28ms/step - loss: 0.2475 - acc: 1.0000\n",
            "Epoch 287/300\n",
            "1/1 [==============================] - 0s 11ms/step - loss: 0.2471 - acc: 1.0000\n",
            "Epoch 288/300\n",
            "1/1 [==============================] - 0s 9ms/step - loss: 0.2467 - acc: 1.0000\n",
            "Epoch 289/300\n",
            "1/1 [==============================] - 0s 6ms/step - loss: 0.2463 - acc: 1.0000\n",
            "Epoch 290/300\n",
            "1/1 [==============================] - 0s 5ms/step - loss: 0.2459 - acc: 1.0000\n",
            "Epoch 291/300\n",
            "1/1 [==============================] - 0s 5ms/step - loss: 0.2455 - acc: 1.0000\n",
            "Epoch 292/300\n",
            "1/1 [==============================] - 0s 12ms/step - loss: 0.2451 - acc: 1.0000\n",
            "Epoch 293/300\n",
            "1/1 [==============================] - 0s 6ms/step - loss: 0.2447 - acc: 1.0000\n",
            "Epoch 294/300\n",
            "1/1 [==============================] - 0s 14ms/step - loss: 0.2443 - acc: 1.0000\n",
            "Epoch 295/300\n",
            "1/1 [==============================] - 0s 8ms/step - loss: 0.2439 - acc: 1.0000\n",
            "Epoch 296/300\n",
            "1/1 [==============================] - 0s 22ms/step - loss: 0.2435 - acc: 1.0000\n",
            "Epoch 297/300\n",
            "1/1 [==============================] - 0s 9ms/step - loss: 0.2431 - acc: 1.0000\n",
            "Epoch 298/300\n",
            "1/1 [==============================] - 0s 6ms/step - loss: 0.2427 - acc: 1.0000\n",
            "Epoch 299/300\n",
            "1/1 [==============================] - 0s 12ms/step - loss: 0.2423 - acc: 1.0000\n",
            "Epoch 300/300\n",
            "1/1 [==============================] - 0s 4ms/step - loss: 0.2419 - acc: 1.0000\n"
          ]
        },
        {
          "output_type": "execute_result",
          "data": {
            "text/plain": [
              "<keras.callbacks.History at 0x7fed33a620d0>"
            ]
          },
          "metadata": {},
          "execution_count": 167
        }
      ]
    },
    {
      "cell_type": "markdown",
      "metadata": {
        "id": "e0215hW8tTj0"
      },
      "source": [
        "### **결과**"
      ]
    },
    {
      "cell_type": "markdown",
      "metadata": {
        "id": "W168xYmMtVij"
      },
      "source": [
        "* 학습 파라미터 확인"
      ]
    },
    {
      "cell_type": "code",
      "metadata": {
        "id": "Aj42y5watYT7",
        "colab": {
          "base_uri": "https://localhost:8080/"
        },
        "outputId": "1cf862ab-282c-4851-ad32-cc046a47f31f"
      },
      "source": [
        "W = model.get_weights()[0]\n",
        "b = model.get_weights()[1]\n",
        "print(\"W : \", W)\n",
        "print(\"b : \", b)"
      ],
      "execution_count": 168,
      "outputs": [
        {
          "output_type": "stream",
          "name": "stdout",
          "text": [
            "W :  [[-0.38457888 -0.06909333  0.8654808 ]\n",
            " [-0.20056699 -0.3497114  -0.02101868]\n",
            " [ 0.831694    0.41457883 -0.59204215]\n",
            " [-1.0141256   0.1533159  -0.00930309]]\n",
            "b :  [ 0.01187931 -0.04500439  0.03312505]\n"
          ]
        }
      ]
    },
    {
      "cell_type": "markdown",
      "metadata": {
        "id": "Z8T5AAV2TolY"
      },
      "source": [
        "* 예측"
      ]
    },
    {
      "cell_type": "code",
      "metadata": {
        "id": "8wVuvg_5TqKR",
        "colab": {
          "base_uri": "https://localhost:8080/"
        },
        "outputId": "8cef709c-1805-4dab-b580-f1e1058a0cc7"
      },
      "source": [
        "Y_pred_onehot = model.predict(X)\n",
        "print(Y_pred_onehot)"
      ],
      "execution_count": 169,
      "outputs": [
        {
          "output_type": "stream",
          "name": "stdout",
          "text": [
            "[[9.81291413e-01 1.87052526e-02 3.26674376e-06]\n",
            " [8.95782888e-01 1.04153074e-01 6.40621947e-05]\n",
            " [5.92195988e-01 4.06600147e-01 1.20382255e-03]\n",
            " [3.84309351e-01 6.07800245e-01 7.89037999e-03]\n",
            " [4.63041179e-02 9.06682730e-01 4.70130891e-02]\n",
            " [1.49419270e-02 8.72669876e-01 1.12388223e-01]\n",
            " [2.22743279e-03 6.08244300e-01 3.89528245e-01]\n",
            " [1.40651318e-04 2.03325763e-01 7.96533644e-01]\n",
            " [4.70180967e-05 1.91037431e-01 8.08915555e-01]\n",
            " [2.18178639e-06 8.90935883e-02 9.10904229e-01]]\n"
          ]
        }
      ]
    },
    {
      "cell_type": "markdown",
      "metadata": {
        "id": "WZP0UAgGtbXD"
      },
      "source": [
        "* 시각화"
      ]
    },
    {
      "cell_type": "code",
      "metadata": {
        "id": "pXDWEWIDtbXD",
        "colab": {
          "base_uri": "https://localhost:8080/",
          "height": 282
        },
        "outputId": "a4769eb0-0fa2-426c-a02e-8d16ec33be18"
      },
      "source": [
        "y_pred = [np.argmax(y_pred_onehot) for y_pred_onehot in Y_pred_onehot]\n",
        "print(y_pred)\n",
        "\n",
        "plt.plot(Y, marker='o', linestyle='')\n",
        "plt.plot(y_pred, marker='.', linestyle='--')\n",
        "\n",
        "plt.show()"
      ],
      "execution_count": 170,
      "outputs": [
        {
          "output_type": "stream",
          "name": "stdout",
          "text": [
            "[0, 0, 0, 1, 1, 1, 1, 2, 2, 2]\n"
          ]
        },
        {
          "output_type": "display_data",
          "data": {
            "image/png": "[encoded data removed]",
            "text/plain": [
              "<Figure size 432x288 with 1 Axes>"
            ]
          },
          "metadata": {
            "needs_background": "light"
          }
        }
      ]
    }
  ]
}