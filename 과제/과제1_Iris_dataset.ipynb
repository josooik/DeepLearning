{
  "nbformat": 4,
  "nbformat_minor": 0,
  "metadata": {
    "colab": {
      "name": "과제1_Iris_dataset.ipynb",
      "provenance": [],
      "collapsed_sections": [],
      "authorship_tag": "ABX9TyMJDCGtUVKuYHQQxTHFevhF",
      "include_colab_link": true
    },
    "kernelspec": {
      "name": "python3",
      "display_name": "Python 3"
    },
    "language_info": {
      "name": "python"
    }
  },
  "cells": [
    {
      "cell_type": "markdown",
      "metadata": {
        "id": "view-in-github",
        "colab_type": "text"
      },
      "source": [
        "<a href=\"https://colab.research.google.com/github/yebiny/Lecture_deeplearning_basic/blob/main/%EA%B3%BC%EC%A0%9C1_Iris_dataset.ipynb\" target=\"_parent\"><img src=\"https://colab.research.google.com/assets/colab-badge.svg\" alt=\"Open In Colab\"/></a>"
      ]
    },
    {
      "cell_type": "markdown",
      "metadata": {
        "id": "A7TEIhK3cF8K"
      },
      "source": [
        "## 1. 데이터 정의\n",
        "---\n",
        "\n",
        "* sklearn 으로 부터 iris 데이터셋을 불러옵니다.\n",
        "* x_data와 y_data를 정의합니다."
      ]
    },
    {
      "cell_type": "code",
      "metadata": {
        "id": "O9IxgqZMqA4i"
      },
      "source": [
        ""
      ],
      "execution_count": null,
      "outputs": []
    },
    {
      "cell_type": "markdown",
      "metadata": {
        "id": "bbnXcAyTcJTR"
      },
      "source": [
        "## 2. 데이터 시각화\n",
        "---\n",
        "\n",
        "* 데이터를 matplotlib.pyplot 라이브러리를 이용항 시각화 합니다.\n",
        "  * (예시)\n",
        "\n",
        "![](https://github.com/yebiny/Lecture_deeplearning_basic/blob/main/imgs/iris_datapresent.png?raw=true)"
      ]
    },
    {
      "cell_type": "markdown",
      "metadata": {
        "id": "JZNwzR3zgTiG"
      },
      "source": [
        "## 3. 데이터 전처리\n",
        "---\n",
        "\n",
        "* y 데이터 값을 원-핫 벡터로 코딩합니다.\n",
        "* 학습데이터와 테스트데이터를 분리합니다. \n",
        "  * sklearn.model_selection에서 제공하는 train_test_split 를 사용합니다.\n"
      ]
    },
    {
      "cell_type": "markdown",
      "metadata": {
        "id": "FVpCDcwufozw"
      },
      "source": [
        "### **One-hot 코딩**\n"
      ]
    },
    {
      "cell_type": "code",
      "metadata": {
        "id": "_p5DO0Bafr07"
      },
      "source": [
        ""
      ],
      "execution_count": null,
      "outputs": []
    },
    {
      "cell_type": "markdown",
      "metadata": {
        "id": "4I9IpJEfc9T-"
      },
      "source": [
        "### **train-test split**"
      ]
    },
    {
      "cell_type": "code",
      "metadata": {
        "id": "79IICX4rdABg"
      },
      "source": [
        ""
      ],
      "execution_count": null,
      "outputs": []
    },
    {
      "cell_type": "markdown",
      "metadata": {
        "id": "U-C2tdRFe4By"
      },
      "source": [
        "## 4. 모델학습\n",
        "---\n",
        "\n",
        "* softmax regression을 사용하여 훈련하고, 테스트셋을 이용해 성능을 평가합니다.\n",
        "* decision tree를 사용하여 훈련하고, 테스트셋을 이용해 성능을 평가합니다.\n",
        "* 이 데이터셋에 적합한 세번째 모델을 찾아보고 훈련해 봅니다."
      ]
    },
    {
      "cell_type": "markdown",
      "metadata": {
        "id": "MWPUZ_JPfFW_"
      },
      "source": [
        "### **Softmax regression**"
      ]
    },
    {
      "cell_type": "code",
      "metadata": {
        "id": "vFOB-lrRfEsy"
      },
      "source": [
        ""
      ],
      "execution_count": null,
      "outputs": []
    },
    {
      "cell_type": "markdown",
      "metadata": {
        "id": "434oKUUne5sO"
      },
      "source": [
        "### **Decision Tree**"
      ]
    },
    {
      "cell_type": "code",
      "metadata": {
        "id": "dIMZvH4_Vuvf"
      },
      "source": [
        ""
      ],
      "execution_count": null,
      "outputs": []
    },
    {
      "cell_type": "markdown",
      "metadata": {
        "id": "_kEJW2MKrxWU"
      },
      "source": [
        "### **내가찾은모델**"
      ]
    },
    {
      "cell_type": "code",
      "metadata": {
        "id": "oKjhs7Z6r0eE"
      },
      "source": [
        ""
      ],
      "execution_count": null,
      "outputs": []
    },
    {
      "cell_type": "markdown",
      "metadata": {
        "id": "B4XFRndEsAs5"
      },
      "source": [
        "## 5. 모델 비교\n",
        "---\n",
        "* 어떤 모델이 가장 좋은지 간략히 브리핑 합니다."
      ]
    },
    {
      "cell_type": "code",
      "metadata": {
        "id": "-ENHmXvAsF-U"
      },
      "source": [
        ""
      ],
      "execution_count": null,
      "outputs": []
    }
  ]
}