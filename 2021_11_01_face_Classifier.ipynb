{
  "nbformat": 4,
  "nbformat_minor": 0,
  "metadata": {
    "colab": {
      "name": "2021_11_01_face_Classifier.ipynb",
      "provenance": [],
      "authorship_tag": "ABX9TyPCR/UzLMbI4+XEal5OeSYG",
      "include_colab_link": true
    },
    "kernelspec": {
      "name": "python3",
      "display_name": "Python 3"
    },
    "language_info": {
      "name": "python"
    },
    "accelerator": "GPU"
  },
  "cells": [
    {
      "cell_type": "markdown",
      "metadata": {
        "id": "view-in-github",
        "colab_type": "text"
      },
      "source": [
        "<a href=\"https://colab.research.google.com/github/josooik/DeepLearning/blob/main/2021_11_01_face_Classifier.ipynb\" target=\"_parent\"><img src=\"https://colab.research.google.com/assets/colab-badge.svg\" alt=\"Open In Colab\"/></a>"
      ]
    },
    {
      "cell_type": "markdown",
      "metadata": {
        "id": "ftmlQN_SXd7J"
      },
      "source": [
        "### Face_Clasifier"
      ]
    },
    {
      "cell_type": "code",
      "metadata": {
        "colab": {
          "base_uri": "https://localhost:8080/"
        },
        "id": "R3OL-aCqWOsw",
        "outputId": "7c0bf2e8-3d7c-4868-9047-5e4b8d809e08"
      },
      "source": [
        "! git clone https://github.com/josooik/Face-detection-for-DSM"
      ],
      "execution_count": 7,
      "outputs": [
        {
          "output_type": "stream",
          "name": "stdout",
          "text": [
            "Cloning into 'Face-detection-for-DSM'...\n",
            "remote: Enumerating objects: 52, done.\u001b[K\n",
            "remote: Counting objects: 100% (52/52), done.\u001b[K\n",
            "remote: Compressing objects: 100% (50/50), done.\u001b[K\n",
            "remote: Total 52 (delta 9), reused 0 (delta 0), pack-reused 0\u001b[K\n",
            "Unpacking objects: 100% (52/52), done.\n"
          ]
        }
      ]
    },
    {
      "cell_type": "code",
      "metadata": {
        "colab": {
          "base_uri": "https://localhost:8080/"
        },
        "id": "mH5c6zJ_W2nC",
        "outputId": "be78710f-95e2-4f62-8938-e89f3a95c423"
      },
      "source": [
        "! git clone https://github.com/prajnasb/observations.git"
      ],
      "execution_count": 8,
      "outputs": [
        {
          "output_type": "stream",
          "name": "stdout",
          "text": [
            "Cloning into 'observations'...\n",
            "remote: Enumerating objects: 1638, done.\u001b[K\n",
            "remote: Total 1638 (delta 0), reused 0 (delta 0), pack-reused 1638\u001b[K\n",
            "Receiving objects: 100% (1638/1638), 75.94 MiB | 38.69 MiB/s, done.\n",
            "Resolving deltas: 100% (19/19), done.\n"
          ]
        }
      ]
    },
    {
      "cell_type": "code",
      "metadata": {
        "id": "aZrSK5I_YfIe"
      },
      "source": [
        "from imutils import paths\n",
        "import sys, os\n",
        "import numpy as np\n",
        "import matplotlib.pyplot as plt\n",
        "\n",
        "from tensorflow.keras.preprocessing.image import ImageDataGenerator, img_to_array, load_img\n",
        "from tensorflow.keras import applications, utils, layers, models, optimizers\n",
        "from sklearn.preprocessing import LabelBinarizer\n",
        "from sklearn.model_selection import train_test_split\n"
      ],
      "execution_count": 9,
      "outputs": []
    },
    {
      "cell_type": "markdown",
      "metadata": {
        "id": "vJG7-PCHcrU5"
      },
      "source": [
        "### 데이터"
      ]
    },
    {
      "cell_type": "code",
      "metadata": {
        "id": "AvUoH276X-Rw"
      },
      "source": [
        "def load_datasets(dataDir):\n",
        "    print(\"[INFO] Load Datasets...\")\n",
        "    imagePaths = list(paths.list_images(dataDir))\n",
        "\n",
        "    data = []\n",
        "    labels = []\n",
        "    for imagePath in imagePaths:\n",
        "    \t# extract the class label from the filename\n",
        "    \tlabel = imagePath.split(os.path.sep)[-2]\n",
        "        #print(label)\n",
        "    \n",
        "    \t# load the input image (224x224) and preprocess it\n",
        "    \timage = load_img(imagePath, target_size=(224, 224))\n",
        "    \timage = img_to_array(image)\n",
        "    \timage = applications.mobilenet_v2.preprocess_input(image)\n",
        "    \t# update the data and labels lists, respectively\n",
        "    \tdata.append(image)\n",
        "    \tlabels.append(label)\n",
        "    \n",
        "    lb = LabelBinarizer()\n",
        "    labels = lb.fit_transform(labels)\n",
        "    labels = utils.to_categorical(labels)\n",
        "    \n",
        "    data = np.array(data, dtype=\"float32\")\n",
        "    labels = np.array(labels)\n",
        "    print('* data shape:',data.shape, labels.shape)\n",
        "    \n",
        "    \n",
        "    # the data for training and the remaining 20% for testing\n",
        "    (trainX, testX, trainY, testY) = train_test_split(data, labels,\n",
        "                                     test_size=0.20, stratify=labels, random_state=42)\n",
        "    print('* splited data shape:',trainX.shape, testX.shape, trainY.shape, testY.shape)\n",
        "\n",
        "    return trainX, testX, trainY, testY\n"
      ],
      "execution_count": 10,
      "outputs": []
    },
    {
      "cell_type": "code",
      "metadata": {
        "colab": {
          "base_uri": "https://localhost:8080/"
        },
        "id": "6ABIvORyWcJa",
        "outputId": "3312bf7a-7933-4a26-9d0c-90d821d0b106"
      },
      "source": [
        "! ls observations"
      ],
      "execution_count": 11,
      "outputs": [
        {
          "output_type": "stream",
          "name": "stdout",
          "text": [
            "experiements  mask_classifier  README.md\n"
          ]
        }
      ]
    },
    {
      "cell_type": "code",
      "metadata": {
        "colab": {
          "base_uri": "https://localhost:8080/"
        },
        "id": "rwUJnLLUWcmq",
        "outputId": "b8eb858c-f8fe-4002-d9b5-5a64cebb4a00"
      },
      "source": [
        "dataDir = 'observations/experiements/data'\n",
        "trainX, testX, trainY, testY = load_datasets(dataDir)"
      ],
      "execution_count": 12,
      "outputs": [
        {
          "output_type": "stream",
          "name": "stdout",
          "text": [
            "[INFO] Load Datasets...\n",
            "* data shape: (1376, 224, 224, 3) (1376, 2)\n",
            "* splited data shape: (1100, 224, 224, 3) (276, 224, 224, 3) (1100, 2) (276, 2)\n"
          ]
        }
      ]
    },
    {
      "cell_type": "code",
      "metadata": {
        "id": "1473QwBwZe45"
      },
      "source": [
        "def train_model( trainX, testX, trainY, testY,\n",
        "                 EPOCHS=1, \n",
        "                 INIT_LR=1e-4, \n",
        "                 BS=32):\n",
        "\n",
        "    print(\"[INFO] Build  Model ...\")\n",
        "    base_model = applications.MobileNetV2( weights=\"imagenet\", \n",
        "                                           include_top=False,\n",
        "    \t                                   input_tensor=layers.Input(shape=(224, 224, 3)))\n",
        "    \n",
        "    y = base_model.output\n",
        "    y = layers.AveragePooling2D(pool_size=(7, 7))(y)\n",
        "    y = layers.Flatten(name=\"flatten\")(y)\n",
        "    y = layers.Dense(128, activation=\"relu\")(y)\n",
        "    y = layers.Dropout(0.5)(y)\n",
        "    y = layers.Dense(2, activation=\"softmax\")(y)\n",
        "    \n",
        "    model = models.Model(inputs=base_model.input, outputs=y)\n",
        "    for layer in base_model.layers:\n",
        "    \tlayer.trainable = False\n",
        "    \n",
        "\n",
        "    # compile our model\n",
        "    print(\"[INFO] Compiling  Model ...\")\n",
        "    opt = optimizers.Adam(lr=INIT_LR, decay=INIT_LR / EPOCHS)\n",
        "    model.compile(loss=\"binary_crossentropy\", optimizer=opt,\n",
        "\tmetrics=[\"accuracy\"])\n",
        "\n",
        "\n",
        "    # construct the training image generator for data augmentation\n",
        "    aug = ImageDataGenerator( rotation_range=20,\n",
        "    \t                      zoom_range=0.15,\n",
        "    \t                      width_shift_range=0.2,\n",
        "    \t                      height_shift_range=0.2,\n",
        "    \t                      shear_range=0.15,\n",
        "    \t                      horizontal_flip=True,\n",
        "    \t                      fill_mode=\"nearest\")\n",
        "\n",
        "    # train the head of the network\n",
        "    print(\"[INFO] Training  Model ...\")\n",
        "    history = model.fit( aug.flow(trainX, trainY, batch_size=BS),\n",
        "\t               steps_per_epoch=len(trainX) // BS,\n",
        "\t               validation_data=(testX, testY),\n",
        "\t               validation_steps=len(testX) // BS,\n",
        "\t               epochs=EPOCHS)\n",
        "\n",
        "    return history, model"
      ],
      "execution_count": 13,
      "outputs": []
    },
    {
      "cell_type": "code",
      "metadata": {
        "colab": {
          "base_uri": "https://localhost:8080/"
        },
        "id": "JRDD69y9Zi7x",
        "outputId": "33d18bc8-dfba-4062-c4e8-df4dfac649f1"
      },
      "source": [
        "history, model = train_model(trainX, testX, trainY, testY, EPOCHS=5)"
      ],
      "execution_count": 15,
      "outputs": [
        {
          "output_type": "stream",
          "name": "stdout",
          "text": [
            "[INFO] Build  Model ...\n",
            "WARNING:tensorflow:`input_shape` is undefined or non-square, or `rows` is not in [96, 128, 160, 192, 224]. Weights for input shape (224, 224) will be loaded as the default.\n",
            "[INFO] Compiling  Model ...\n",
            "[INFO] Training  Model ...\n"
          ]
        },
        {
          "output_type": "stream",
          "name": "stderr",
          "text": [
            "/usr/local/lib/python3.7/dist-packages/keras/optimizer_v2/optimizer_v2.py:356: UserWarning: The `lr` argument is deprecated, use `learning_rate` instead.\n",
            "  \"The `lr` argument is deprecated, use `learning_rate` instead.\")\n"
          ]
        },
        {
          "output_type": "stream",
          "name": "stdout",
          "text": [
            "Epoch 1/5\n",
            "34/34 [==============================] - 50s 1s/step - loss: 0.4947 - accuracy: 0.7968 - val_loss: 0.2407 - val_accuracy: 0.9674\n",
            "Epoch 2/5\n",
            "34/34 [==============================] - 47s 1s/step - loss: 0.1884 - accuracy: 0.9766 - val_loss: 0.1143 - val_accuracy: 0.9855\n",
            "Epoch 3/5\n",
            "34/34 [==============================] - 47s 1s/step - loss: 0.1103 - accuracy: 0.9860 - val_loss: 0.0735 - val_accuracy: 0.9855\n",
            "Epoch 4/5\n",
            "34/34 [==============================] - 47s 1s/step - loss: 0.0795 - accuracy: 0.9850 - val_loss: 0.0495 - val_accuracy: 0.9964\n",
            "Epoch 5/5\n",
            "34/34 [==============================] - 46s 1s/step - loss: 0.0579 - accuracy: 0.9934 - val_loss: 0.0429 - val_accuracy: 0.9891\n"
          ]
        }
      ]
    },
    {
      "cell_type": "code",
      "metadata": {
        "colab": {
          "base_uri": "https://localhost:8080/"
        },
        "id": "dC6snoyKfhgw",
        "outputId": "5bcb062d-3482-4d80-d1d6-825d9a9baae3"
      },
      "source": [
        "from tensorflow.keras import models\n",
        "\n",
        "\n",
        "model.save(\"my_model.h5\")"
      ],
      "execution_count": 16,
      "outputs": [
        {
          "output_type": "stream",
          "name": "stderr",
          "text": [
            "/usr/local/lib/python3.7/dist-packages/keras/utils/generic_utils.py:497: CustomMaskWarning: Custom mask layers require a config and must override get_config. When loading, the custom mask layer must be passed to the custom_objects argument.\n",
            "  category=CustomMaskWarning)\n"
          ]
        }
      ]
    },
    {
      "cell_type": "code",
      "metadata": {
        "id": "zlOLXJP5aicw"
      },
      "source": [
        "def plot_leraning_curve(H):\n",
        "    N = len(H.history[\"loss\"])\n",
        "    plt.style.use(\"ggplot\")\n",
        "    plt.figure()\n",
        "    plt.plot(np.arange(0, N),  H.history[\"loss\"], label=\"train_loss\", marker='o',)\n",
        "    plt.plot(np.arange(0, N),  H.history[\"val_loss\"], label=\"val_loss\", marker='o')\n",
        "    plt.plot(np.arange(0, N),  H.history[\"accuracy\"], label=\"train_acc\", marker='o')\n",
        "    plt.plot(np.arange(0, N),  H.history[\"val_accuracy\"], label=\"val_acc\", marker='o')\n",
        "    plt.title(\"Training Loss and Accuracy\")\n",
        "    plt.xlabel(\"Epoch #\")\n",
        "    plt.ylabel(\"Loss/Accuracy\")\n",
        "    plt.legend(loc=\"lower left\")\n",
        "    plt.savefig(\"lerning_curve\")\n",
        "    plt.show()"
      ],
      "execution_count": 17,
      "outputs": []
    },
    {
      "cell_type": "code",
      "metadata": {
        "id": "dqIkhpp2OAg-",
        "outputId": "3d4eefdf-2de5-42fc-ff8e-793661f44ea8",
        "colab": {
          "base_uri": "https://localhost:8080/",
          "height": 299
        }
      },
      "source": [
        "plot_leraning_curve(history)"
      ],
      "execution_count": 23,
      "outputs": [
        {
          "output_type": "display_data",
          "data": {
            "image/png": "[encoded data removed]",
            "text/plain": [
              "<Figure size 432x288 with 1 Axes>"
            ]
          },
          "metadata": {}
        }
      ]
    }
  ]
}