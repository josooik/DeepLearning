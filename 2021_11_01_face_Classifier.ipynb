{
  "nbformat": 4,
  "nbformat_minor": 0,
  "metadata": {
    "accelerator": "GPU",
    "colab": {
      "name": "2021_11_01_face_Classifier.ipynb",
      "provenance": [],
      "collapsed_sections": [],
      "authorship_tag": "ABX9TyNFddm0MkBI4VZnQdZve38n",
      "include_colab_link": true
    },
    "kernelspec": {
      "display_name": "Python 3",
      "name": "python3"
    },
    "language_info": {
      "name": "python"
    }
  },
  "cells": [
    {
      "cell_type": "markdown",
      "metadata": {
        "id": "view-in-github",
        "colab_type": "text"
      },
      "source": [
        "<a href=\"https://colab.research.google.com/github/josooik/DeepLearning/blob/main/2021_11_01_face_Classifier.ipynb\" target=\"_parent\"><img src=\"https://colab.research.google.com/assets/colab-badge.svg\" alt=\"Open In Colab\"/></a>"
      ]
    },
    {
      "cell_type": "markdown",
      "metadata": {
        "id": "ftmlQN_SXd7J"
      },
      "source": [
        "### Face_Clasifier"
      ]
    },
    {
      "cell_type": "code",
      "metadata": {
        "colab": {
          "base_uri": "https://localhost:8080/"
        },
        "id": "R3OL-aCqWOsw",
        "outputId": "c02f67e3-cb64-4dd8-fcdc-763675322653"
      },
      "source": [
        "! git clone https://github.com/josooik/Face-detection-for-DSM"
      ],
      "execution_count": 22,
      "outputs": [
        {
          "output_type": "stream",
          "name": "stdout",
          "text": [
            "fatal: destination path 'Face-detection-for-DSM' already exists and is not an empty directory.\n"
          ]
        }
      ]
    },
    {
      "cell_type": "code",
      "metadata": {
        "colab": {
          "base_uri": "https://localhost:8080/"
        },
        "id": "mH5c6zJ_W2nC",
        "outputId": "d169a9c5-8848-4624-d735-868dba1bdf19"
      },
      "source": [
        "! git clone https://github.com/prajnasb/observations.git"
      ],
      "execution_count": 23,
      "outputs": [
        {
          "output_type": "stream",
          "name": "stdout",
          "text": [
            "fatal: destination path 'observations' already exists and is not an empty directory.\n"
          ]
        }
      ]
    },
    {
      "cell_type": "code",
      "metadata": {
        "id": "aZrSK5I_YfIe"
      },
      "source": [
        "from imutils import paths\n",
        "import sys, os\n",
        "import numpy as np\n",
        "import matplotlib.pyplot as plt\n",
        "\n",
        "from tensorflow.keras.preprocessing.image import ImageDataGenerator, img_to_array, load_img\n",
        "from tensorflow.keras import applications, utils, layers, models, optimizers\n",
        "from sklearn.preprocessing import LabelBinarizer\n",
        "from sklearn.model_selection import train_test_split\n"
      ],
      "execution_count": 24,
      "outputs": []
    },
    {
      "cell_type": "markdown",
      "metadata": {
        "id": "vJG7-PCHcrU5"
      },
      "source": [
        "### 데이터"
      ]
    },
    {
      "cell_type": "code",
      "metadata": {
        "id": "AvUoH276X-Rw"
      },
      "source": [
        "def load_datasets(dataDir):\n",
        "    print(\"[INFO] Load Datasets...\")\n",
        "    imagePaths = list(paths.list_images(dataDir))\n",
        "\n",
        "    data = []\n",
        "    labels = []\n",
        "    for imagePath in imagePaths:\n",
        "    \t# extract the class label from the filename\n",
        "    \tlabel = imagePath.split(os.path.sep)[-2]\n",
        "        #print(label)\n",
        "    \n",
        "    \t# load the input image (224x224) and preprocess it\n",
        "    \timage = load_img(imagePath, target_size=(224, 224))\n",
        "    \timage = img_to_array(image)\n",
        "    \timage = applications.mobilenet_v2.preprocess_input(image)\n",
        "    \t# update the data and labels lists, respectively\n",
        "    \tdata.append(image)\n",
        "    \tlabels.append(label)\n",
        "    \n",
        "    lb = LabelBinarizer()\n",
        "    labels = lb.fit_transform(labels)\n",
        "    labels = utils.to_categorical(labels)\n",
        "    \n",
        "    data = np.array(data, dtype=\"float32\")\n",
        "    labels = np.array(labels)\n",
        "    print('* data shape:',data.shape, labels.shape)\n",
        "    \n",
        "    \n",
        "    # the data for training and the remaining 20% for testing\n",
        "    (trainX, testX, trainY, testY) = train_test_split(data, labels,\n",
        "                                     test_size=0.20, stratify=labels, random_state=42)\n",
        "    print('* splited data shape:',trainX.shape, testX.shape, trainY.shape, testY.shape)\n",
        "\n",
        "    return trainX, testX, trainY, testY\n"
      ],
      "execution_count": 25,
      "outputs": []
    },
    {
      "cell_type": "code",
      "metadata": {
        "colab": {
          "base_uri": "https://localhost:8080/"
        },
        "id": "6ABIvORyWcJa",
        "outputId": "e68dcd8f-6c0f-4200-ff25-a1fc9d953e85"
      },
      "source": [
        "! ls observations"
      ],
      "execution_count": 26,
      "outputs": [
        {
          "output_type": "stream",
          "name": "stdout",
          "text": [
            "experiements  mask_classifier  README.md\n"
          ]
        }
      ]
    },
    {
      "cell_type": "code",
      "metadata": {
        "colab": {
          "base_uri": "https://localhost:8080/"
        },
        "id": "rwUJnLLUWcmq",
        "outputId": "985b83ee-c5d7-43ad-ec72-13f0976fe427"
      },
      "source": [
        "dataDir = 'observations/experiements/data'\n",
        "trainX, testX, trainY, testY = load_datasets(dataDir)"
      ],
      "execution_count": 27,
      "outputs": [
        {
          "output_type": "stream",
          "name": "stdout",
          "text": [
            "[INFO] Load Datasets...\n",
            "* data shape: (1376, 224, 224, 3) (1376, 2)\n",
            "* splited data shape: (1100, 224, 224, 3) (276, 224, 224, 3) (1100, 2) (276, 2)\n"
          ]
        }
      ]
    },
    {
      "cell_type": "code",
      "metadata": {
        "id": "1473QwBwZe45"
      },
      "source": [
        "def train_model( trainX, testX, trainY, testY,\n",
        "                 EPOCHS=1, \n",
        "                 INIT_LR=1e-4, \n",
        "                 BS=32):\n",
        "\n",
        "    print(\"[INFO] Build  Model ...\")\n",
        "    base_model = applications.MobileNetV2( weights=\"imagenet\", \n",
        "                                           include_top=False,\n",
        "    \t                                   input_tensor=layers.Input(shape=(224, 224, 3)))\n",
        "    \n",
        "    y = base_model.output\n",
        "    y = layers.AveragePooling2D(pool_size=(7, 7))(y)\n",
        "    y = layers.Flatten(name=\"flatten\")(y)\n",
        "    y = layers.Dense(128, activation=\"relu\")(y)\n",
        "    y = layers.Dropout(0.5)(y)\n",
        "    y = layers.Dense(2, activation=\"softmax\")(y)\n",
        "    \n",
        "    model = models.Model(inputs=base_model.input, outputs=y)\n",
        "    for layer in base_model.layers:\n",
        "    \tlayer.trainable = False\n",
        "    \n",
        "\n",
        "    # compile our model\n",
        "    print(\"[INFO] Compiling  Model ...\")\n",
        "    opt = optimizers.Adam(lr=INIT_LR, decay=INIT_LR / EPOCHS)\n",
        "    model.compile(loss=\"binary_crossentropy\", optimizer=opt,\n",
        "\tmetrics=[\"accuracy\"])\n",
        "\n",
        "\n",
        "    # construct the training image generator for data augmentation\n",
        "    aug = ImageDataGenerator( rotation_range=20,\n",
        "    \t                      zoom_range=0.15,\n",
        "    \t                      width_shift_range=0.2,\n",
        "    \t                      height_shift_range=0.2,\n",
        "    \t                      shear_range=0.15,\n",
        "    \t                      horizontal_flip=True,\n",
        "    \t                      fill_mode=\"nearest\")\n",
        "\n",
        "    # train the head of the network\n",
        "    print(\"[INFO] Training  Model ...\")\n",
        "    history = model.fit( aug.flow(trainX, trainY, batch_size=BS),\n",
        "\t               steps_per_epoch=len(trainX) // BS,\n",
        "\t               validation_data=(testX, testY),\n",
        "\t               validation_steps=len(testX) // BS,\n",
        "\t               epochs=EPOCHS)\n",
        "\n",
        "    return history, model"
      ],
      "execution_count": 28,
      "outputs": []
    },
    {
      "cell_type": "code",
      "metadata": {
        "colab": {
          "base_uri": "https://localhost:8080/"
        },
        "id": "JRDD69y9Zi7x",
        "outputId": "0b46d595-f7b6-40dd-cbf2-2a1aa3c8e3b3"
      },
      "source": [
        "history, model = train_model(trainX, testX, trainY, testY, EPOCHS=20)"
      ],
      "execution_count": 29,
      "outputs": [
        {
          "output_type": "stream",
          "name": "stdout",
          "text": [
            "[INFO] Build  Model ...\n",
            "WARNING:tensorflow:`input_shape` is undefined or non-square, or `rows` is not in [96, 128, 160, 192, 224]. Weights for input shape (224, 224) will be loaded as the default.\n",
            "[INFO] Compiling  Model ...\n",
            "[INFO] Training  Model ...\n"
          ]
        },
        {
          "output_type": "stream",
          "name": "stderr",
          "text": [
            "/usr/local/lib/python3.7/dist-packages/keras/optimizer_v2/optimizer_v2.py:356: UserWarning: The `lr` argument is deprecated, use `learning_rate` instead.\n",
            "  \"The `lr` argument is deprecated, use `learning_rate` instead.\")\n"
          ]
        },
        {
          "output_type": "stream",
          "name": "stdout",
          "text": [
            "Epoch 1/20\n",
            "34/34 [==============================] - 18s 443ms/step - loss: 0.4845 - accuracy: 0.8193 - val_loss: 0.2087 - val_accuracy: 0.9746\n",
            "Epoch 2/20\n",
            "34/34 [==============================] - 14s 416ms/step - loss: 0.1900 - accuracy: 0.9669 - val_loss: 0.0978 - val_accuracy: 0.9783\n",
            "Epoch 3/20\n",
            "34/34 [==============================] - 14s 396ms/step - loss: 0.1243 - accuracy: 0.9747 - val_loss: 0.0637 - val_accuracy: 0.9928\n",
            "Epoch 4/20\n",
            "34/34 [==============================] - 14s 399ms/step - loss: 0.0839 - accuracy: 0.9860 - val_loss: 0.0473 - val_accuracy: 0.9964\n",
            "Epoch 5/20\n",
            "34/34 [==============================] - 14s 405ms/step - loss: 0.0541 - accuracy: 0.9944 - val_loss: 0.0382 - val_accuracy: 0.9891\n",
            "Epoch 6/20\n",
            "34/34 [==============================] - 14s 398ms/step - loss: 0.0515 - accuracy: 0.9906 - val_loss: 0.0326 - val_accuracy: 0.9964\n",
            "Epoch 7/20\n",
            "34/34 [==============================] - 14s 404ms/step - loss: 0.0442 - accuracy: 0.9888 - val_loss: 0.0282 - val_accuracy: 0.9964\n",
            "Epoch 8/20\n",
            "34/34 [==============================] - 14s 416ms/step - loss: 0.0431 - accuracy: 0.9925 - val_loss: 0.0247 - val_accuracy: 0.9964\n",
            "Epoch 9/20\n",
            "34/34 [==============================] - 14s 401ms/step - loss: 0.0353 - accuracy: 0.9916 - val_loss: 0.0239 - val_accuracy: 0.9928\n",
            "Epoch 10/20\n",
            "34/34 [==============================] - 14s 401ms/step - loss: 0.0274 - accuracy: 0.9944 - val_loss: 0.0203 - val_accuracy: 0.9964\n",
            "Epoch 11/20\n",
            "34/34 [==============================] - 14s 408ms/step - loss: 0.0236 - accuracy: 0.9963 - val_loss: 0.0192 - val_accuracy: 0.9964\n",
            "Epoch 12/20\n",
            "34/34 [==============================] - 13s 396ms/step - loss: 0.0282 - accuracy: 0.9944 - val_loss: 0.0184 - val_accuracy: 0.9964\n",
            "Epoch 13/20\n",
            "34/34 [==============================] - 14s 403ms/step - loss: 0.0229 - accuracy: 0.9963 - val_loss: 0.0173 - val_accuracy: 0.9964\n",
            "Epoch 14/20\n",
            "34/34 [==============================] - 14s 398ms/step - loss: 0.0226 - accuracy: 0.9953 - val_loss: 0.0157 - val_accuracy: 0.9964\n",
            "Epoch 15/20\n",
            "34/34 [==============================] - 13s 395ms/step - loss: 0.0238 - accuracy: 0.9944 - val_loss: 0.0162 - val_accuracy: 0.9964\n",
            "Epoch 16/20\n",
            "34/34 [==============================] - 14s 408ms/step - loss: 0.0165 - accuracy: 0.9972 - val_loss: 0.0146 - val_accuracy: 0.9964\n",
            "Epoch 17/20\n",
            "34/34 [==============================] - 13s 395ms/step - loss: 0.0204 - accuracy: 0.9944 - val_loss: 0.0142 - val_accuracy: 0.9964\n",
            "Epoch 18/20\n",
            "34/34 [==============================] - 14s 399ms/step - loss: 0.0241 - accuracy: 0.9916 - val_loss: 0.0136 - val_accuracy: 0.9964\n",
            "Epoch 19/20\n",
            "34/34 [==============================] - 13s 404ms/step - loss: 0.0099 - accuracy: 1.0000 - val_loss: 0.0134 - val_accuracy: 0.9964\n",
            "Epoch 20/20\n",
            "34/34 [==============================] - 14s 401ms/step - loss: 0.0206 - accuracy: 0.9953 - val_loss: 0.0130 - val_accuracy: 0.9964\n"
          ]
        }
      ]
    },
    {
      "cell_type": "code",
      "metadata": {
        "id": "dC6snoyKfhgw",
        "colab": {
          "base_uri": "https://localhost:8080/"
        },
        "outputId": "2927b38e-23db-4444-8942-d219e60c80af"
      },
      "source": [
        "model.save(\"my_model.h5\")"
      ],
      "execution_count": 30,
      "outputs": [
        {
          "output_type": "stream",
          "name": "stderr",
          "text": [
            "/usr/local/lib/python3.7/dist-packages/keras/utils/generic_utils.py:497: CustomMaskWarning: Custom mask layers require a config and must override get_config. When loading, the custom mask layer must be passed to the custom_objects argument.\n",
            "  category=CustomMaskWarning)\n"
          ]
        }
      ]
    },
    {
      "cell_type": "code",
      "metadata": {
        "id": "zlOLXJP5aicw"
      },
      "source": [
        "def plot_leraning_curve(H):\n",
        "    N = len(H.history[\"loss\"])\n",
        "    plt.style.use(\"ggplot\")\n",
        "    plt.figure()\n",
        "    plt.plot(np.arange(0, N),  H.history[\"loss\"], label=\"train_loss\", marker='o',)\n",
        "    plt.plot(np.arange(0, N),  H.history[\"val_loss\"], label=\"val_loss\", marker='o')\n",
        "    plt.plot(np.arange(0, N),  H.history[\"accuracy\"], label=\"train_acc\", marker='o')\n",
        "    plt.plot(np.arange(0, N),  H.history[\"val_accuracy\"], label=\"val_acc\", marker='o')\n",
        "    plt.title(\"Training Loss and Accuracy\")\n",
        "    plt.xlabel(\"Epoch #\")\n",
        "    plt.ylabel(\"Loss/Accuracy\")\n",
        "    plt.legend(loc=\"lower left\")\n",
        "    plt.savefig(\"lerning_curve\")\n",
        "    plt.show()"
      ],
      "execution_count": 31,
      "outputs": []
    },
    {
      "cell_type": "code",
      "metadata": {
        "colab": {
          "base_uri": "https://localhost:8080/",
          "height": 299
        },
        "id": "FH_7ET0OQ9uy",
        "outputId": "337be693-fd25-4445-9835-824fd023bd10"
      },
      "source": [
        "plot_leraning_curve((history))"
      ],
      "execution_count": 32,
      "outputs": [
        {
          "output_type": "display_data",
          "data": {
            "image/png": "[encoded data removed]",
            "text/plain": [
              "<Figure size 432x288 with 1 Axes>"
            ]
          },
          "metadata": {}
        }
      ]
    }
  ]
}