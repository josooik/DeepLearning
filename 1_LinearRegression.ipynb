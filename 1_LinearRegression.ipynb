{
  "nbformat": 4,
  "nbformat_minor": 0,
  "metadata": {
    "colab": {
      "name": "1_LinearRegression.ipynb",
      "provenance": [],
      "collapsed_sections": [],
      "include_colab_link": true
    },
    "kernelspec": {
      "name": "python3",
      "display_name": "Python 3"
    },
    "language_info": {
      "name": "python"
    },
    "accelerator": "GPU"
  },
  "cells": [
    {
      "cell_type": "markdown",
      "metadata": {
        "id": "view-in-github",
        "colab_type": "text"
      },
      "source": [
        "<a href=\"https://colab.research.google.com/github/josooik/DeepLearning/blob/main/1_LinearRegression.ipynb\" target=\"_parent\"><img src=\"https://colab.research.google.com/assets/colab-badge.svg\" alt=\"Open In Colab\"/></a>"
      ]
    },
    {
      "cell_type": "markdown",
      "metadata": {
        "id": "ge-fIn_z0ya8"
      },
      "source": [
        "# 선형 회귀 (Linear Regression)\n",
        ">**목차**\n",
        "1. 개념정리\n",
        "2. 손실함수: 평균제곱오차 (Mean Squared Error)\n",
        "3. 최적화: 경사하강법 (Gradient Descent) \n",
        "4. 실습1: 단순선형회귀분석(Simple Linear Regression Analysis)\n",
        "5. 실습2: 다중선형회귀분석(Multiple Linear Regression Analysis)\n"
      ]
    },
    {
      "cell_type": "code",
      "metadata": {
        "id": "Okp9mQZPQDEb"
      },
      "source": [
        "import numpy as np\n",
        "import matplotlib.pyplot as plt\n",
        "import tensorflow as tf\n",
        "from tensorflow.keras.models import Sequential\n",
        "from tensorflow.keras.layers import Dense\n",
        "from tensorflow.keras import optimizers"
      ],
      "execution_count": null,
      "outputs": []
    },
    {
      "cell_type": "markdown",
      "metadata": {
        "id": "eqNDX4kBSGWq"
      },
      "source": [
        "## 1. 개념정리\n",
        "---\n",
        "\n",
        "</br>\n",
        "\n",
        "###<center> < 가설 > </center>\n",
        "###  <center>$f(x_i)=wx_i+b$</center>\n",
        "\n",
        "</br>\n",
        "\n",
        "### <center> < 목적 > </center>\n",
        "### <center>$(w^{*}, b^{*})=arg \\; min \\sum_{i=1}^m(y_i-\\hat{y}_i)^2$</center>\n",
        "### <center>$=arg \\; min \\sum_{i=1}^m(y_i-f(x_i) )^2$</center>\n",
        "### <center>$=arg \\; min \\sum_{i=1}^m(y_i-wx_i-b)^2$</center>"
      ]
    },
    {
      "cell_type": "markdown",
      "metadata": {
        "id": "GiEFDvYc3zY-"
      },
      "source": [
        "### **구현**\n"
      ]
    },
    {
      "cell_type": "code",
      "metadata": {
        "id": "sJQVWC4K309D"
      },
      "source": [
        "def hypothesis(x, w=1, b=0):\n",
        "  return w * x + b"
      ],
      "execution_count": null,
      "outputs": []
    },
    {
      "cell_type": "markdown",
      "metadata": {
        "id": "31x3U7SB2ziD"
      },
      "source": [
        "### **예제**\n",
        "\n",
        "|공부시간|종합점수|\n",
        "|------|---|\n",
        "|1|1.1|\n",
        "|2|1.2|\n",
        "|3|2.2|\n",
        "|4|3.1|\n",
        "|5|3.7|"
      ]
    },
    {
      "cell_type": "markdown",
      "metadata": {
        "id": "F1Ir1VHqASpR"
      },
      "source": [
        "* 데이터 정의"
      ]
    },
    {
      "cell_type": "code",
      "metadata": {
        "id": "IAi3_LvS1BYj"
      },
      "source": [
        "x = np.array([1, 2, 3, 4, 5])\n",
        "y = np.array([1.1, 1.2, 2.3, 3.1, 3.7])"
      ],
      "execution_count": null,
      "outputs": []
    },
    {
      "cell_type": "markdown",
      "metadata": {
        "id": "Z_Y4XYK7UQbg"
      },
      "source": [
        "* 예측"
      ]
    },
    {
      "cell_type": "code",
      "metadata": {
        "id": "k5cqHKEbUUoG",
        "colab": {
          "base_uri": "https://localhost:8080/"
        },
        "outputId": "3c32612c-17a9-40a0-ab0b-5d458288bdd0"
      },
      "source": [
        "y_pred = hypothesis(x)\n",
        "print(y_pred)"
      ],
      "execution_count": null,
      "outputs": [
        {
          "output_type": "stream",
          "name": "stdout",
          "text": [
            "[1 2 3 4 5]\n"
          ]
        }
      ]
    },
    {
      "cell_type": "markdown",
      "metadata": {
        "id": "yXxIMAjnAT8l"
      },
      "source": [
        "* 시각화"
      ]
    },
    {
      "cell_type": "code",
      "metadata": {
        "id": "0l7xoCQu34Xs",
        "colab": {
          "base_uri": "https://localhost:8080/",
          "height": 265
        },
        "outputId": "1d776671-9468-4d4d-d212-c745081d37bb"
      },
      "source": [
        "plt.plot(x, y, marker='o', linestyle='')\n",
        "plt.plot(x, y_pred, marker='o', linestyle='--')\n",
        "plt.legend([\"data\", \"pred\"])\n",
        "plt.show()"
      ],
      "execution_count": null,
      "outputs": [
        {
          "output_type": "display_data",
          "data": {
            "image/png": "[encoded data removed]",
            "text/plain": [
              "<Figure size 432x288 with 1 Axes>"
            ]
          },
          "metadata": {
            "needs_background": "light"
          }
        }
      ]
    },
    {
      "cell_type": "markdown",
      "metadata": {
        "id": "erPNtIsT00ns"
      },
      "source": [
        "## 2. 손실함수: 평균제곱오차 (Mean Squred Error)\n",
        "---\n",
        "\n",
        "</br>\n",
        "\n",
        "### <center>$ MSE = \\sum_{i=1}^m(y_i-\\hat{y}_i)^2$</center>\n",
        "\n",
        "### <center>$=\\sum_{i=1}^m(y_i-wx_i-b)^2$"
      ]
    },
    {
      "cell_type": "markdown",
      "metadata": {
        "id": "sr4Ipnzp32yj"
      },
      "source": [
        "### **구현**"
      ]
    },
    {
      "cell_type": "code",
      "metadata": {
        "id": "UNjam_3p78U8"
      },
      "source": [
        "def MSE(y, y_predt):\n",
        "  I = 0\n",
        "  for yi, yi_pred in zip(y, y_pred):\n",
        "    I += (yi - yi_pred)**2\n",
        "  return I\n",
        "\n",
        "def MSE(y, y_pred):\n",
        "  return sum([(yi - yi_pred) ** 2 for yi, yi_pred in zip(y, y_pred)])\n"
      ],
      "execution_count": null,
      "outputs": []
    },
    {
      "cell_type": "markdown",
      "metadata": {
        "id": "v6VSVcwR4KoL"
      },
      "source": [
        "* 계산"
      ]
    },
    {
      "cell_type": "code",
      "metadata": {
        "id": "JMbisZFe4MbT",
        "colab": {
          "base_uri": "https://localhost:8080/"
        },
        "outputId": "92d5d535-07dd-425a-9216-c717eb5b960d"
      },
      "source": [
        "y, y_pred\n",
        "\n",
        "error = MSE(y, y_pred)\n",
        "print(error)"
      ],
      "execution_count": null,
      "outputs": [
        {
          "output_type": "stream",
          "name": "stdout",
          "text": [
            "3.6399999999999997\n"
          ]
        }
      ]
    },
    {
      "cell_type": "markdown",
      "metadata": {
        "id": "TfHqzAZgA6Lm"
      },
      "source": [
        "### **Error 시각화**"
      ]
    },
    {
      "cell_type": "markdown",
      "metadata": {
        "id": "MkfmKu2M9tDT"
      },
      "source": [
        "*  W 값에 따른 Error 값 변화"
      ]
    },
    {
      "cell_type": "code",
      "metadata": {
        "id": "0Vt71w435LKz",
        "colab": {
          "base_uri": "https://localhost:8080/",
          "height": 279
        },
        "outputId": "1e72c840-8a21-4c1a-adcd-61c20e1e1a94"
      },
      "source": [
        "W = np.arange(0.1, 1.5, 0.1)\n",
        "\n",
        "for w in W:\n",
        "  y_pred = hypothesis(x, w)\n",
        "  error = MSE(y, y_pred)\n",
        "  plt.plot(w, error, marker='o', color='b')\n",
        "\n",
        "plt.xlabel(\"W\")\n",
        "plt.ylabel(\"Error\")\n",
        "plt.show()"
      ],
      "execution_count": null,
      "outputs": [
        {
          "output_type": "display_data",
          "data": {
            "image/png": "[encoded data removed]",
            "text/plain": [
              "<Figure size 432x288 with 1 Axes>"
            ]
          },
          "metadata": {
            "needs_background": "light"
          }
        }
      ]
    },
    {
      "cell_type": "markdown",
      "metadata": {
        "id": "6hQg2-P342I7"
      },
      "source": [
        "## 3. 최적화: 경사하강법 ( Gradient Desent )\n",
        "---\n",
        "</br>\n",
        "\n",
        "## <center>$w^* =  w-\\alpha\\frac{\\theta }{\\theta w}Cost(w) $</center>\n",
        "\n",
        "\n",
        "<center> 기울기가 음수일 때: $\\frac{\\theta }{\\theta w}Cost(w) < 0 \\rightarrow w* = w+\\alpha*(기울기)$</center>\n",
        "<center>기울기가 음수이면 $w$는 지금보다 큰 값으로 업데이트</center>\n",
        "\n",
        "</br>\n",
        "\n",
        "<center> 기울기가 양수일 때: $\\frac{\\theta }{\\theta w}Cost(w) > 0 \\rightarrow w* = w-\\alpha*(기울기)$</center>\n",
        "<center>기울기가 양수이면 $w$는 지금보다 작은 값으로 업데이트</center>\n"
      ]
    },
    {
      "cell_type": "markdown",
      "metadata": {
        "id": "QwPBoC5ARgxz"
      },
      "source": [
        "### **구현**"
      ]
    },
    {
      "cell_type": "code",
      "metadata": {
        "colab": {
          "base_uri": "https://localhost:8080/"
        },
        "id": "JDvIJtOQHHUR",
        "outputId": "806145fd-74b1-4dc9-8573-19246bf57368"
      },
      "source": [
        "x, y"
      ],
      "execution_count": null,
      "outputs": [
        {
          "output_type": "execute_result",
          "data": {
            "text/plain": [
              "(array([1, 2, 3, 4, 5]), array([1.1, 1.2, 2.3, 3.1, 3.7]))"
            ]
          },
          "metadata": {},
          "execution_count": 69
        }
      ]
    },
    {
      "cell_type": "code",
      "metadata": {
        "id": "cD7RIUsR962D"
      },
      "source": [
        "# y_pred =f(x) = wx + b\n",
        "\n",
        "# mse = (yi - (w * xi + b)) ** 2\n",
        "\n",
        "def diff(xi, yi, w):\n",
        "  return 2 * (xi ** 2) * w - 2 * xi * yi # mse의 미분값\n",
        "\n",
        "def GD(xi, yi, w, alpha=0.01):\n",
        "  return w - (alpha * diff(xi, yi, w))"
      ],
      "execution_count": null,
      "outputs": []
    },
    {
      "cell_type": "markdown",
      "metadata": {
        "id": "U8X8G3JQRmVD"
      },
      "source": [
        "### **학습**"
      ]
    },
    {
      "cell_type": "code",
      "metadata": {
        "colab": {
          "base_uri": "https://localhost:8080/"
        },
        "id": "jGjZ3vPJLpve",
        "outputId": "e2803aaf-0a5f-49b5-8ff8-67302b174a3c"
      },
      "source": [
        "xi = x[0]\n",
        "yi = y[0]\n",
        "\n",
        "w_new = 1\n",
        "\n",
        "for xi, yi in zip(x, y):\n",
        "  w_new = GD(xi, yi, w_new)\n",
        "  print(w_new)"
      ],
      "execution_count": null,
      "outputs": [
        {
          "output_type": "stream",
          "name": "stdout",
          "text": [
            "1.002\n",
            "0.96984\n",
            "0.9332688\n",
            "0.882622784\n",
            "0.811311392\n"
          ]
        }
      ]
    },
    {
      "cell_type": "markdown",
      "metadata": {
        "id": "pF7yqCsrcqI0"
      },
      "source": [
        "### **파라미터**: $\\alpha$ 값에 따른 W 변화"
      ]
    },
    {
      "cell_type": "code",
      "metadata": {
        "id": "fdn15PclcqI3",
        "colab": {
          "base_uri": "https://localhost:8080/"
        },
        "outputId": "b2abf100-5f05-4a3c-d8d5-47489210e87c"
      },
      "source": [
        "w_new = 1\n",
        "print(w_new)\n",
        "\n",
        "for xi, yi in zip(x, y):\n",
        "  w_new = GD(xi, yi, w_new, alpha=0.1)\n",
        "  print(w_new)"
      ],
      "execution_count": null,
      "outputs": [
        {
          "output_type": "stream",
          "name": "stdout",
          "text": [
            "1\n",
            "1.02\n",
            "0.6839999999999999\n",
            "0.8327999999999999\n",
            "0.6478400000000003\n",
            "1.1086399999999985\n"
          ]
        }
      ]
    },
    {
      "cell_type": "markdown",
      "metadata": {
        "id": "jfYkZYmwO5Nl"
      },
      "source": [
        "## 4. 실습1: 단순 선형 회귀 분석(Simple Linear Regression Analysis)\n",
        "---\n",
        "\n",
        "<br>\n",
        "\n",
        "###  <center>$f(x_i)=wx_i+b$</center>\n",
        "\n"
      ]
    },
    {
      "cell_type": "markdown",
      "metadata": {
        "id": "kbuD7GBOPjhO"
      },
      "source": [
        "### **데이터**\n",
        "\n",
        "|공부시간|종합점수|\n",
        "|------|---|\n",
        "|0|0|\n",
        "|1|11|\n",
        "|2|23|\n",
        "|3|30|\n",
        "|4|44|\n",
        "|5|55|\n",
        "|6|61|\n",
        "|7|73|\n",
        "|8|84|\n",
        "|9|98|\n",
        "\n"
      ]
    },
    {
      "cell_type": "markdown",
      "metadata": {
        "id": "ojv-hk3ad4CG"
      },
      "source": [
        "* 데이터 정의"
      ]
    },
    {
      "cell_type": "code",
      "metadata": {
        "id": "daPlUy3MK75a",
        "colab": {
          "base_uri": "https://localhost:8080/"
        },
        "outputId": "a2bebbc3-7386-4993-8a17-e7e1de08acef"
      },
      "source": [
        "x = np.array([0, 1, 2, 3, 4, 5, 6, 7, 8, 9])\n",
        "y = np.array([0, 11, 23, 30, 44, 55, 61, 73, 84, 98])\n",
        "\n",
        "x.shape, y.shape"
      ],
      "execution_count": null,
      "outputs": [
        {
          "output_type": "execute_result",
          "data": {
            "text/plain": [
              "((10,), (10,))"
            ]
          },
          "metadata": {},
          "execution_count": 73
        }
      ]
    },
    {
      "cell_type": "markdown",
      "metadata": {
        "id": "pUfaI0KpdY4d"
      },
      "source": [
        "* 시각화"
      ]
    },
    {
      "cell_type": "code",
      "metadata": {
        "id": "ZbzZ-1ylLLSR",
        "colab": {
          "base_uri": "https://localhost:8080/",
          "height": 265
        },
        "outputId": "0deb7412-08e4-4e8d-8216-f433f199d9b2"
      },
      "source": [
        "plt.plot(x, y, linestyle='', marker='o')\n",
        "plt.show()"
      ],
      "execution_count": null,
      "outputs": [
        {
          "output_type": "display_data",
          "data": {
            "image/png": "[encoded data removed]",
            "text/plain": [
              "<Figure size 432x288 with 1 Axes>"
            ]
          },
          "metadata": {
            "needs_background": "light"
          }
        }
      ]
    },
    {
      "cell_type": "markdown",
      "metadata": {
        "id": "thbFTkkuRec4"
      },
      "source": [
        "### **모델 생성**"
      ]
    },
    {
      "cell_type": "markdown",
      "metadata": {
        "id": "T3hvm-LkeIfU"
      },
      "source": [
        "* 케라스를 이용한 모델 구현"
      ]
    },
    {
      "cell_type": "code",
      "metadata": {
        "id": "aUYRDZ6kLSqP",
        "colab": {
          "base_uri": "https://localhost:8080/"
        },
        "outputId": "2baa152a-2d0b-494d-e1fe-3cfd0ef54746"
      },
      "source": [
        "model = Sequential()\n",
        "model.add(Dense(1, input_dim=1, activation='linear'))\n",
        "model.summary()"
      ],
      "execution_count": null,
      "outputs": [
        {
          "output_type": "stream",
          "name": "stdout",
          "text": [
            "Model: \"sequential_4\"\n",
            "_________________________________________________________________\n",
            "Layer (type)                 Output Shape              Param #   \n",
            "=================================================================\n",
            "dense_4 (Dense)              (None, 1)                 2         \n",
            "=================================================================\n",
            "Total params: 2\n",
            "Trainable params: 2\n",
            "Non-trainable params: 0\n",
            "_________________________________________________________________\n"
          ]
        }
      ]
    },
    {
      "cell_type": "markdown",
      "metadata": {
        "id": "oWm9NLObZDMu"
      },
      "source": [
        "* 학습파라미터 확인"
      ]
    },
    {
      "cell_type": "code",
      "metadata": {
        "id": "VSQebyh5RmlB",
        "colab": {
          "base_uri": "https://localhost:8080/"
        },
        "outputId": "d48a62c2-1b2a-44d9-bace-6d35d1b5e947"
      },
      "source": [
        "print(model.get_weights())\n",
        "print(\"W : \", model.get_weights()[0], \"b : \", model.get_weights()[1])"
      ],
      "execution_count": null,
      "outputs": [
        {
          "output_type": "stream",
          "name": "stdout",
          "text": [
            "[array([[0.33880436]], dtype=float32), array([0.], dtype=float32)]\n",
            "W :  [[0.33880436]] b :  [0.]\n"
          ]
        }
      ]
    },
    {
      "cell_type": "markdown",
      "metadata": {
        "id": "7WE7NPAeZK2Y"
      },
      "source": [
        "* 학습파라미터 시각화"
      ]
    },
    {
      "cell_type": "code",
      "metadata": {
        "id": "8Tl9l8mWRwOQ",
        "colab": {
          "base_uri": "https://localhost:8080/",
          "height": 265
        },
        "outputId": "7bce48b5-3bbc-4838-d1d6-7194f7548876"
      },
      "source": [
        "y_pred = model.predict(x)\n",
        "\n",
        "plt.plot(x, y, linestyle='', marker='o')\n",
        "plt.plot(x, y_pred, linestyle='--', marker='o')\n",
        "plt.show()"
      ],
      "execution_count": null,
      "outputs": [
        {
          "output_type": "display_data",
          "data": {
            "image/png": "[encoded data removed]",
            "text/plain": [
              "<Figure size 432x288 with 1 Axes>"
            ]
          },
          "metadata": {
            "needs_background": "light"
          }
        }
      ]
    },
    {
      "cell_type": "markdown",
      "metadata": {
        "id": "eVibQb3UT9b1"
      },
      "source": [
        "### **학습**"
      ]
    },
    {
      "cell_type": "markdown",
      "metadata": {
        "id": "_xXCO5TZSqsa"
      },
      "source": [
        "* 모델 컴파일"
      ]
    },
    {
      "cell_type": "code",
      "metadata": {
        "id": "iBHMg3adRhya"
      },
      "source": [
        "model.compile(optimizer = optimizers.SGD(learning_rate=0.01),\n",
        "              loss = 'mse',\n",
        "              metrics=['mse'])"
      ],
      "execution_count": null,
      "outputs": []
    },
    {
      "cell_type": "markdown",
      "metadata": {
        "id": "IVizBMD5a4Tt"
      },
      "source": [
        "* 학습 진행"
      ]
    },
    {
      "cell_type": "code",
      "metadata": {
        "id": "gsFdfLY5Lfn3",
        "colab": {
          "base_uri": "https://localhost:8080/"
        },
        "outputId": "bd5547d5-6669-4fb4-c934-139c61d221c0"
      },
      "source": [
        "model.fit(x, y, epochs=10)"
      ],
      "execution_count": null,
      "outputs": [
        {
          "output_type": "stream",
          "name": "stdout",
          "text": [
            "Epoch 1/10\n",
            "1/1 [==============================] - 0s 297ms/step - loss: 3020.1238 - mse: 3020.1238\n",
            "Epoch 2/10\n",
            "1/1 [==============================] - 0s 15ms/step - loss: 524.5406 - mse: 524.5406\n",
            "Epoch 3/10\n",
            "1/1 [==============================] - 0s 6ms/step - loss: 93.3925 - mse: 93.3925\n",
            "Epoch 4/10\n",
            "1/1 [==============================] - 0s 4ms/step - loss: 18.9013 - mse: 18.9013\n",
            "Epoch 5/10\n",
            "1/1 [==============================] - 0s 6ms/step - loss: 6.0273 - mse: 6.0273\n",
            "Epoch 6/10\n",
            "1/1 [==============================] - 0s 9ms/step - loss: 3.7985 - mse: 3.7985\n",
            "Epoch 7/10\n",
            "1/1 [==============================] - 0s 5ms/step - loss: 3.4089 - mse: 3.4089\n",
            "Epoch 8/10\n",
            "1/1 [==============================] - 0s 6ms/step - loss: 3.3370 - mse: 3.3370\n",
            "Epoch 9/10\n",
            "1/1 [==============================] - 0s 5ms/step - loss: 3.3201 - mse: 3.3201\n",
            "Epoch 10/10\n",
            "1/1 [==============================] - 0s 9ms/step - loss: 3.3127 - mse: 3.3127\n"
          ]
        },
        {
          "output_type": "execute_result",
          "data": {
            "text/plain": [
              "<keras.callbacks.History at 0x7f69cb93f150>"
            ]
          },
          "metadata": {},
          "execution_count": 79
        }
      ]
    },
    {
      "cell_type": "markdown",
      "metadata": {
        "id": "SRXVtPpQV_Pn"
      },
      "source": [
        "### **결과**"
      ]
    },
    {
      "cell_type": "markdown",
      "metadata": {
        "id": "-kUSqu2WaJu9"
      },
      "source": [
        "* 학습 파라미터 확인"
      ]
    },
    {
      "cell_type": "code",
      "metadata": {
        "id": "lrzjoWBUaLpD",
        "colab": {
          "base_uri": "https://localhost:8080/"
        },
        "outputId": "a1586183-38e4-4698-e516-4f6d8d974343"
      },
      "source": [
        "print(model.get_weights())\n",
        "print(\"W : \", model.get_weights()[0], \"b : \", model.get_weights()[1])"
      ],
      "execution_count": null,
      "outputs": [
        {
          "output_type": "stream",
          "name": "stdout",
          "text": [
            "[array([[10.383545]], dtype=float32), array([1.5259053], dtype=float32)]\n",
            "W :  [[10.383545]] b :  [1.5259053]\n"
          ]
        }
      ]
    },
    {
      "cell_type": "markdown",
      "metadata": {
        "id": "D78RJwroaMJx"
      },
      "source": [
        "* 시각화"
      ]
    },
    {
      "cell_type": "code",
      "metadata": {
        "id": "WYOlATsiLjaT",
        "colab": {
          "base_uri": "https://localhost:8080/",
          "height": 265
        },
        "outputId": "f5b28945-349f-4b1f-dfce-c2cda456d60b"
      },
      "source": [
        "y_pred = model.predict(x)\n",
        "\n",
        "plt.plot(x, y, linestyle='', marker='o')\n",
        "plt.plot(x, y_pred, linestyle='--', marker='o')\n",
        "plt.show()"
      ],
      "execution_count": null,
      "outputs": [
        {
          "output_type": "display_data",
          "data": {
            "image/png": "[encoded data removed]",
            "text/plain": [
              "<Figure size 432x288 with 1 Axes>"
            ]
          },
          "metadata": {
            "needs_background": "light"
          }
        }
      ]
    },
    {
      "cell_type": "markdown",
      "metadata": {
        "id": "9dXLnIXocgvC"
      },
      "source": [
        "* 결과예측"
      ]
    },
    {
      "cell_type": "code",
      "metadata": {
        "id": "DNAinOdLOnGD",
        "colab": {
          "base_uri": "https://localhost:8080/"
        },
        "outputId": "5b6fa23f-4989-4fd7-d1a3-be4e1957e2d0"
      },
      "source": [
        "x= [10, 11]\n",
        "model.predict(x)"
      ],
      "execution_count": null,
      "outputs": [
        {
          "output_type": "execute_result",
          "data": {
            "text/plain": [
              "array([[105.36135 ],\n",
              "       [115.744896]], dtype=float32)"
            ]
          },
          "metadata": {},
          "execution_count": 82
        }
      ]
    },
    {
      "cell_type": "markdown",
      "metadata": {
        "id": "nt00IWxWO7U9"
      },
      "source": [
        "## 5. 실습2: 다중선형회귀 (Multiple Linear Regression Analysis)\n",
        "---\n",
        "<br>\n",
        "\n",
        "###  <center>$f(\\vec{x_i})=\\vec{x}_iW+b$</center>"
      ]
    },
    {
      "cell_type": "markdown",
      "metadata": {
        "id": "iLkrqq2dWo_i"
      },
      "source": [
        "### **데이터**\n",
        "|공부시간|집중도|수면시간|종합성적|\n",
        "|------|---|---|---|\n",
        "|0|1|9|0|\n",
        "|1|1|8.5|11|\n",
        "|2|2|8|23|\n",
        "|3|4|8|30|\n",
        "|4|3|7|44|\n",
        "|5|5|7.5|55|\n",
        "|6|6|7|61|\n",
        "|7|6|6|73|\n",
        "|8|7|7|84|\n",
        "|9|6|6.5|98|\n",
        "\n"
      ]
    },
    {
      "cell_type": "markdown",
      "metadata": {
        "id": "LQezSwWEfI0O"
      },
      "source": [
        "* 데이터 정의"
      ]
    },
    {
      "cell_type": "code",
      "metadata": {
        "id": "gaRXJzQ6O8G6",
        "colab": {
          "base_uri": "https://localhost:8080/"
        },
        "outputId": "357f14b3-609e-497e-e70d-429d2a8466ba"
      },
      "source": [
        "x = np.array([[0, 1, 9],\n",
        "              [1, 1, 8.5],\n",
        "              [2, 2, 8],\n",
        "              [3, 4, 8],\n",
        "              [4, 3, 7],\n",
        "              [5, 5, 7.5],\n",
        "              [6, 6, 7],\n",
        "              [7, 6, 6],\n",
        "              [8, 7, 7],\n",
        "              [9, 6, 6.5]])\n",
        "\n",
        "y = np.array([0, 11, 23, 30, 44, 55, 61, 73, 84, 98])\n",
        "\n",
        "x.shape, y.shape"
      ],
      "execution_count": null,
      "outputs": [
        {
          "output_type": "execute_result",
          "data": {
            "text/plain": [
              "((10, 3), (10,))"
            ]
          },
          "metadata": {},
          "execution_count": 83
        }
      ]
    },
    {
      "cell_type": "markdown",
      "metadata": {
        "id": "TZ45Zf3zZfS3"
      },
      "source": [
        "### **모델 생성**"
      ]
    },
    {
      "cell_type": "markdown",
      "metadata": {
        "id": "CZIXuAgbfMvL"
      },
      "source": [
        "* 케라스를 이용한 모델 생성"
      ]
    },
    {
      "cell_type": "code",
      "metadata": {
        "id": "0NLYa1GoZfS8",
        "colab": {
          "base_uri": "https://localhost:8080/"
        },
        "outputId": "fc8ffce6-afe2-4e10-d5f9-97333233ed13"
      },
      "source": [
        "model = Sequential()\n",
        "model.add(Dense(1, input_dim=3, activation='linear'))\n",
        "model.summary()"
      ],
      "execution_count": null,
      "outputs": [
        {
          "output_type": "stream",
          "name": "stdout",
          "text": [
            "Model: \"sequential_5\"\n",
            "_________________________________________________________________\n",
            "Layer (type)                 Output Shape              Param #   \n",
            "=================================================================\n",
            "dense_5 (Dense)              (None, 1)                 4         \n",
            "=================================================================\n",
            "Total params: 4\n",
            "Trainable params: 4\n",
            "Non-trainable params: 0\n",
            "_________________________________________________________________\n"
          ]
        }
      ]
    },
    {
      "cell_type": "markdown",
      "metadata": {
        "id": "wtqZLW2cZfS9"
      },
      "source": [
        "* 학습 파라미터 확인"
      ]
    },
    {
      "cell_type": "code",
      "metadata": {
        "id": "q4uHq2pjZfS9",
        "colab": {
          "base_uri": "https://localhost:8080/"
        },
        "outputId": "f06b5075-728d-4c37-d24d-1f950c54607a"
      },
      "source": [
        "print(model.get_weights())\n",
        "W = model.get_weights()[0]\n",
        "b = model.get_weights()[1]\n",
        "print(\"W : \", W, \"b : \", b)"
      ],
      "execution_count": null,
      "outputs": [
        {
          "output_type": "stream",
          "name": "stdout",
          "text": [
            "[array([[-0.2734087 ],\n",
            "       [ 0.48091698],\n",
            "       [ 1.1887006 ]], dtype=float32), array([0.], dtype=float32)]\n",
            "W :  [[-0.2734087 ]\n",
            " [ 0.48091698]\n",
            " [ 1.1887006 ]] b :  [0.]\n"
          ]
        }
      ]
    },
    {
      "cell_type": "markdown",
      "metadata": {
        "id": "ewHWcIt7ZfS-"
      },
      "source": [
        "### **학습**"
      ]
    },
    {
      "cell_type": "markdown",
      "metadata": {
        "id": "ahSAMANCfc-Z"
      },
      "source": [
        "* 모델 컴파일"
      ]
    },
    {
      "cell_type": "code",
      "metadata": {
        "id": "EZqkM15lZfS_"
      },
      "source": [
        "model.compile(optimizer = optimizers.SGD(learning_rate=0.01),\n",
        "              loss = 'mse',\n",
        "              metrics=['mse'])"
      ],
      "execution_count": null,
      "outputs": []
    },
    {
      "cell_type": "markdown",
      "metadata": {
        "id": "fVCQvRZyfc-t"
      },
      "source": [
        "* 학습 진행"
      ]
    },
    {
      "cell_type": "code",
      "metadata": {
        "id": "c70KTBf1ZfTA",
        "colab": {
          "base_uri": "https://localhost:8080/"
        },
        "outputId": "548df2c9-3794-49b6-b392-ab9f0a717205"
      },
      "source": [
        "model.fit(x, y, epochs = 300)"
      ],
      "execution_count": null,
      "outputs": [
        {
          "output_type": "stream",
          "name": "stdout",
          "text": [
            "Epoch 1/300\n",
            "1/1 [==============================] - 0s 285ms/step - loss: 2442.9717 - mse: 2442.9717\n",
            "Epoch 2/300\n",
            "1/1 [==============================] - 0s 7ms/step - loss: 1990.8942 - mse: 1990.8942\n",
            "Epoch 3/300\n",
            "1/1 [==============================] - 0s 4ms/step - loss: 1646.5573 - mse: 1646.5573\n",
            "Epoch 4/300\n",
            "1/1 [==============================] - 0s 8ms/step - loss: 1378.1659 - mse: 1378.1659\n",
            "Epoch 5/300\n",
            "1/1 [==============================] - 0s 5ms/step - loss: 1164.5619 - mse: 1164.5619\n",
            "Epoch 6/300\n",
            "1/1 [==============================] - 0s 9ms/step - loss: 991.4567 - mse: 991.4567\n",
            "Epoch 7/300\n",
            "1/1 [==============================] - 0s 8ms/step - loss: 849.0314 - mse: 849.0314\n",
            "Epoch 8/300\n",
            "1/1 [==============================] - 0s 10ms/step - loss: 730.3969 - mse: 730.3969\n",
            "Epoch 9/300\n",
            "1/1 [==============================] - 0s 5ms/step - loss: 630.6101 - mse: 630.6101\n",
            "Epoch 10/300\n",
            "1/1 [==============================] - 0s 10ms/step - loss: 546.0367 - mse: 546.0367\n",
            "Epoch 11/300\n",
            "1/1 [==============================] - 0s 10ms/step - loss: 473.9384 - mse: 473.9384\n",
            "Epoch 12/300\n",
            "1/1 [==============================] - 0s 8ms/step - loss: 412.2022 - mse: 412.2022\n",
            "Epoch 13/300\n",
            "1/1 [==============================] - 0s 8ms/step - loss: 359.1618 - mse: 359.1618\n",
            "Epoch 14/300\n",
            "1/1 [==============================] - 0s 8ms/step - loss: 313.4774 - mse: 313.4774\n",
            "Epoch 15/300\n",
            "1/1 [==============================] - 0s 7ms/step - loss: 274.0539 - mse: 274.0539\n",
            "Epoch 16/300\n",
            "1/1 [==============================] - 0s 8ms/step - loss: 239.9844 - mse: 239.9844\n",
            "Epoch 17/300\n",
            "1/1 [==============================] - 0s 8ms/step - loss: 210.5091 - mse: 210.5091\n",
            "Epoch 18/300\n",
            "1/1 [==============================] - 0s 7ms/step - loss: 184.9865 - mse: 184.9865\n",
            "Epoch 19/300\n",
            "1/1 [==============================] - 0s 7ms/step - loss: 162.8710 - mse: 162.8710\n",
            "Epoch 20/300\n",
            "1/1 [==============================] - 0s 9ms/step - loss: 143.6971 - mse: 143.6971\n",
            "Epoch 21/300\n",
            "1/1 [==============================] - 0s 7ms/step - loss: 127.0650 - mse: 127.0650\n",
            "Epoch 22/300\n",
            "1/1 [==============================] - 0s 5ms/step - loss: 112.6312 - mse: 112.6312\n",
            "Epoch 23/300\n",
            "1/1 [==============================] - 0s 6ms/step - loss: 100.0999 - mse: 100.0999\n",
            "Epoch 24/300\n",
            "1/1 [==============================] - 0s 7ms/step - loss: 89.2155 - mse: 89.2155\n",
            "Epoch 25/300\n",
            "1/1 [==============================] - 0s 6ms/step - loss: 79.7574 - mse: 79.7574\n",
            "Epoch 26/300\n",
            "1/1 [==============================] - 0s 8ms/step - loss: 71.5351 - mse: 71.5351\n",
            "Epoch 27/300\n",
            "1/1 [==============================] - 0s 7ms/step - loss: 64.3832 - mse: 64.3832\n",
            "Epoch 28/300\n",
            "1/1 [==============================] - 0s 6ms/step - loss: 58.1591 - mse: 58.1591\n",
            "Epoch 29/300\n",
            "1/1 [==============================] - 0s 8ms/step - loss: 52.7391 - mse: 52.7391\n",
            "Epoch 30/300\n",
            "1/1 [==============================] - 0s 8ms/step - loss: 48.0161 - mse: 48.0161\n",
            "Epoch 31/300\n",
            "1/1 [==============================] - 0s 7ms/step - loss: 43.8972 - mse: 43.8972\n",
            "Epoch 32/300\n",
            "1/1 [==============================] - 0s 9ms/step - loss: 40.3021 - mse: 40.3021\n",
            "Epoch 33/300\n",
            "1/1 [==============================] - 0s 8ms/step - loss: 37.1613 - mse: 37.1613\n",
            "Epoch 34/300\n",
            "1/1 [==============================] - 0s 9ms/step - loss: 34.4143 - mse: 34.4143\n",
            "Epoch 35/300\n",
            "1/1 [==============================] - 0s 9ms/step - loss: 32.0089 - mse: 32.0089\n",
            "Epoch 36/300\n",
            "1/1 [==============================] - 0s 6ms/step - loss: 29.8998 - mse: 29.8998\n",
            "Epoch 37/300\n",
            "1/1 [==============================] - 0s 6ms/step - loss: 28.0478 - mse: 28.0478\n",
            "Epoch 38/300\n",
            "1/1 [==============================] - 0s 5ms/step - loss: 26.4189 - mse: 26.4189\n",
            "Epoch 39/300\n",
            "1/1 [==============================] - 0s 8ms/step - loss: 24.9835 - mse: 24.9835\n",
            "Epoch 40/300\n",
            "1/1 [==============================] - 0s 4ms/step - loss: 23.7162 - mse: 23.7162\n",
            "Epoch 41/300\n",
            "1/1 [==============================] - 0s 6ms/step - loss: 22.5948 - mse: 22.5948\n",
            "Epoch 42/300\n",
            "1/1 [==============================] - 0s 11ms/step - loss: 21.6001 - mse: 21.6001\n",
            "Epoch 43/300\n",
            "1/1 [==============================] - 0s 11ms/step - loss: 20.7154 - mse: 20.7154\n",
            "Epoch 44/300\n",
            "1/1 [==============================] - 0s 9ms/step - loss: 19.9264 - mse: 19.9264\n",
            "Epoch 45/300\n",
            "1/1 [==============================] - 0s 4ms/step - loss: 19.2206 - mse: 19.2206\n",
            "Epoch 46/300\n",
            "1/1 [==============================] - 0s 12ms/step - loss: 18.5871 - mse: 18.5871\n",
            "Epoch 47/300\n",
            "1/1 [==============================] - 0s 16ms/step - loss: 18.0166 - mse: 18.0166\n",
            "Epoch 48/300\n",
            "1/1 [==============================] - 0s 5ms/step - loss: 17.5008 - mse: 17.5008\n",
            "Epoch 49/300\n",
            "1/1 [==============================] - 0s 8ms/step - loss: 17.0329 - mse: 17.0329\n",
            "Epoch 50/300\n",
            "1/1 [==============================] - 0s 8ms/step - loss: 16.6066 - mse: 16.6066\n",
            "Epoch 51/300\n",
            "1/1 [==============================] - 0s 6ms/step - loss: 16.2166 - mse: 16.2166\n",
            "Epoch 52/300\n",
            "1/1 [==============================] - 0s 5ms/step - loss: 15.8583 - mse: 15.8583\n",
            "Epoch 53/300\n",
            "1/1 [==============================] - 0s 4ms/step - loss: 15.5279 - mse: 15.5279\n",
            "Epoch 54/300\n",
            "1/1 [==============================] - 0s 10ms/step - loss: 15.2217 - mse: 15.2217\n",
            "Epoch 55/300\n",
            "1/1 [==============================] - 0s 7ms/step - loss: 14.9368 - mse: 14.9368\n",
            "Epoch 56/300\n",
            "1/1 [==============================] - 0s 10ms/step - loss: 14.6706 - mse: 14.6706\n",
            "Epoch 57/300\n",
            "1/1 [==============================] - 0s 11ms/step - loss: 14.4208 - mse: 14.4208\n",
            "Epoch 58/300\n",
            "1/1 [==============================] - 0s 8ms/step - loss: 14.1855 - mse: 14.1855\n",
            "Epoch 59/300\n",
            "1/1 [==============================] - 0s 20ms/step - loss: 13.9629 - mse: 13.9629\n",
            "Epoch 60/300\n",
            "1/1 [==============================] - 0s 10ms/step - loss: 13.7517 - mse: 13.7517\n",
            "Epoch 61/300\n",
            "1/1 [==============================] - 0s 8ms/step - loss: 13.5505 - mse: 13.5505\n",
            "Epoch 62/300\n",
            "1/1 [==============================] - 0s 16ms/step - loss: 13.3581 - mse: 13.3581\n",
            "Epoch 63/300\n",
            "1/1 [==============================] - 0s 11ms/step - loss: 13.1738 - mse: 13.1738\n",
            "Epoch 64/300\n",
            "1/1 [==============================] - 0s 14ms/step - loss: 12.9965 - mse: 12.9965\n",
            "Epoch 65/300\n",
            "1/1 [==============================] - 0s 15ms/step - loss: 12.8255 - mse: 12.8255\n",
            "Epoch 66/300\n",
            "1/1 [==============================] - 0s 11ms/step - loss: 12.6603 - mse: 12.6603\n",
            "Epoch 67/300\n",
            "1/1 [==============================] - 0s 9ms/step - loss: 12.5002 - mse: 12.5002\n",
            "Epoch 68/300\n",
            "1/1 [==============================] - 0s 6ms/step - loss: 12.3448 - mse: 12.3448\n",
            "Epoch 69/300\n",
            "1/1 [==============================] - 0s 9ms/step - loss: 12.1937 - mse: 12.1937\n",
            "Epoch 70/300\n",
            "1/1 [==============================] - 0s 7ms/step - loss: 12.0465 - mse: 12.0465\n",
            "Epoch 71/300\n",
            "1/1 [==============================] - 0s 8ms/step - loss: 11.9028 - mse: 11.9028\n",
            "Epoch 72/300\n",
            "1/1 [==============================] - 0s 6ms/step - loss: 11.7625 - mse: 11.7625\n",
            "Epoch 73/300\n",
            "1/1 [==============================] - 0s 8ms/step - loss: 11.6251 - mse: 11.6251\n",
            "Epoch 74/300\n",
            "1/1 [==============================] - 0s 7ms/step - loss: 11.4907 - mse: 11.4907\n",
            "Epoch 75/300\n",
            "1/1 [==============================] - 0s 7ms/step - loss: 11.3588 - mse: 11.3588\n",
            "Epoch 76/300\n",
            "1/1 [==============================] - 0s 8ms/step - loss: 11.2294 - mse: 11.2294\n",
            "Epoch 77/300\n",
            "1/1 [==============================] - 0s 6ms/step - loss: 11.1024 - mse: 11.1024\n",
            "Epoch 78/300\n",
            "1/1 [==============================] - 0s 7ms/step - loss: 10.9776 - mse: 10.9776\n",
            "Epoch 79/300\n",
            "1/1 [==============================] - 0s 5ms/step - loss: 10.8548 - mse: 10.8548\n",
            "Epoch 80/300\n",
            "1/1 [==============================] - 0s 12ms/step - loss: 10.7341 - mse: 10.7341\n",
            "Epoch 81/300\n",
            "1/1 [==============================] - 0s 7ms/step - loss: 10.6152 - mse: 10.6152\n",
            "Epoch 82/300\n",
            "1/1 [==============================] - 0s 5ms/step - loss: 10.4982 - mse: 10.4982\n",
            "Epoch 83/300\n",
            "1/1 [==============================] - 0s 5ms/step - loss: 10.3829 - mse: 10.3829\n",
            "Epoch 84/300\n",
            "1/1 [==============================] - 0s 16ms/step - loss: 10.2693 - mse: 10.2693\n",
            "Epoch 85/300\n",
            "1/1 [==============================] - 0s 6ms/step - loss: 10.1574 - mse: 10.1574\n",
            "Epoch 86/300\n",
            "1/1 [==============================] - 0s 4ms/step - loss: 10.0470 - mse: 10.0470\n",
            "Epoch 87/300\n",
            "1/1 [==============================] - 0s 4ms/step - loss: 9.9381 - mse: 9.9381\n",
            "Epoch 88/300\n",
            "1/1 [==============================] - 0s 8ms/step - loss: 9.8307 - mse: 9.8307\n",
            "Epoch 89/300\n",
            "1/1 [==============================] - 0s 8ms/step - loss: 9.7247 - mse: 9.7247\n",
            "Epoch 90/300\n",
            "1/1 [==============================] - 0s 6ms/step - loss: 9.6202 - mse: 9.6202\n",
            "Epoch 91/300\n",
            "1/1 [==============================] - 0s 5ms/step - loss: 9.5171 - mse: 9.5171\n",
            "Epoch 92/300\n",
            "1/1 [==============================] - 0s 10ms/step - loss: 9.4153 - mse: 9.4153\n",
            "Epoch 93/300\n",
            "1/1 [==============================] - 0s 7ms/step - loss: 9.3148 - mse: 9.3148\n",
            "Epoch 94/300\n",
            "1/1 [==============================] - 0s 6ms/step - loss: 9.2156 - mse: 9.2156\n",
            "Epoch 95/300\n",
            "1/1 [==============================] - 0s 8ms/step - loss: 9.1177 - mse: 9.1177\n",
            "Epoch 96/300\n",
            "1/1 [==============================] - 0s 5ms/step - loss: 9.0210 - mse: 9.0210\n",
            "Epoch 97/300\n",
            "1/1 [==============================] - 0s 6ms/step - loss: 8.9256 - mse: 8.9256\n",
            "Epoch 98/300\n",
            "1/1 [==============================] - 0s 14ms/step - loss: 8.8313 - mse: 8.8313\n",
            "Epoch 99/300\n",
            "1/1 [==============================] - 0s 11ms/step - loss: 8.7383 - mse: 8.7383\n",
            "Epoch 100/300\n",
            "1/1 [==============================] - 0s 7ms/step - loss: 8.6464 - mse: 8.6464\n",
            "Epoch 101/300\n",
            "1/1 [==============================] - 0s 7ms/step - loss: 8.5556 - mse: 8.5556\n",
            "Epoch 102/300\n",
            "1/1 [==============================] - 0s 9ms/step - loss: 8.4660 - mse: 8.4660\n",
            "Epoch 103/300\n",
            "1/1 [==============================] - 0s 7ms/step - loss: 8.3775 - mse: 8.3775\n",
            "Epoch 104/300\n",
            "1/1 [==============================] - 0s 8ms/step - loss: 8.2901 - mse: 8.2901\n",
            "Epoch 105/300\n",
            "1/1 [==============================] - 0s 5ms/step - loss: 8.2038 - mse: 8.2038\n",
            "Epoch 106/300\n",
            "1/1 [==============================] - 0s 5ms/step - loss: 8.1185 - mse: 8.1185\n",
            "Epoch 107/300\n",
            "1/1 [==============================] - 0s 6ms/step - loss: 8.0343 - mse: 8.0343\n",
            "Epoch 108/300\n",
            "1/1 [==============================] - 0s 5ms/step - loss: 7.9511 - mse: 7.9511\n",
            "Epoch 109/300\n",
            "1/1 [==============================] - 0s 7ms/step - loss: 7.8690 - mse: 7.8690\n",
            "Epoch 110/300\n",
            "1/1 [==============================] - 0s 5ms/step - loss: 7.7878 - mse: 7.7878\n",
            "Epoch 111/300\n",
            "1/1 [==============================] - 0s 6ms/step - loss: 7.7077 - mse: 7.7077\n",
            "Epoch 112/300\n",
            "1/1 [==============================] - 0s 14ms/step - loss: 7.6285 - mse: 7.6285\n",
            "Epoch 113/300\n",
            "1/1 [==============================] - 0s 7ms/step - loss: 7.5504 - mse: 7.5504\n",
            "Epoch 114/300\n",
            "1/1 [==============================] - 0s 11ms/step - loss: 7.4731 - mse: 7.4731\n",
            "Epoch 115/300\n",
            "1/1 [==============================] - 0s 10ms/step - loss: 7.3968 - mse: 7.3968\n",
            "Epoch 116/300\n",
            "1/1 [==============================] - 0s 8ms/step - loss: 7.3215 - mse: 7.3215\n",
            "Epoch 117/300\n",
            "1/1 [==============================] - 0s 5ms/step - loss: 7.2471 - mse: 7.2471\n",
            "Epoch 118/300\n",
            "1/1 [==============================] - 0s 7ms/step - loss: 7.1736 - mse: 7.1736\n",
            "Epoch 119/300\n",
            "1/1 [==============================] - 0s 8ms/step - loss: 7.1010 - mse: 7.1010\n",
            "Epoch 120/300\n",
            "1/1 [==============================] - 0s 11ms/step - loss: 7.0293 - mse: 7.0293\n",
            "Epoch 121/300\n",
            "1/1 [==============================] - 0s 6ms/step - loss: 6.9584 - mse: 6.9584\n",
            "Epoch 122/300\n",
            "1/1 [==============================] - 0s 4ms/step - loss: 6.8884 - mse: 6.8884\n",
            "Epoch 123/300\n",
            "1/1 [==============================] - 0s 5ms/step - loss: 6.8193 - mse: 6.8193\n",
            "Epoch 124/300\n",
            "1/1 [==============================] - 0s 7ms/step - loss: 6.7510 - mse: 6.7510\n",
            "Epoch 125/300\n",
            "1/1 [==============================] - 0s 9ms/step - loss: 6.6836 - mse: 6.6836\n",
            "Epoch 126/300\n",
            "1/1 [==============================] - 0s 6ms/step - loss: 6.6170 - mse: 6.6170\n",
            "Epoch 127/300\n",
            "1/1 [==============================] - 0s 8ms/step - loss: 6.5512 - mse: 6.5512\n",
            "Epoch 128/300\n",
            "1/1 [==============================] - 0s 6ms/step - loss: 6.4862 - mse: 6.4862\n",
            "Epoch 129/300\n",
            "1/1 [==============================] - 0s 5ms/step - loss: 6.4220 - mse: 6.4220\n",
            "Epoch 130/300\n",
            "1/1 [==============================] - 0s 7ms/step - loss: 6.3586 - mse: 6.3586\n",
            "Epoch 131/300\n",
            "1/1 [==============================] - 0s 8ms/step - loss: 6.2959 - mse: 6.2959\n",
            "Epoch 132/300\n",
            "1/1 [==============================] - 0s 7ms/step - loss: 6.2341 - mse: 6.2341\n",
            "Epoch 133/300\n",
            "1/1 [==============================] - 0s 5ms/step - loss: 6.1729 - mse: 6.1729\n",
            "Epoch 134/300\n",
            "1/1 [==============================] - 0s 12ms/step - loss: 6.1126 - mse: 6.1126\n",
            "Epoch 135/300\n",
            "1/1 [==============================] - 0s 5ms/step - loss: 6.0529 - mse: 6.0529\n",
            "Epoch 136/300\n",
            "1/1 [==============================] - 0s 6ms/step - loss: 5.9940 - mse: 5.9940\n",
            "Epoch 137/300\n",
            "1/1 [==============================] - 0s 8ms/step - loss: 5.9358 - mse: 5.9358\n",
            "Epoch 138/300\n",
            "1/1 [==============================] - 0s 11ms/step - loss: 5.8784 - mse: 5.8784\n",
            "Epoch 139/300\n",
            "1/1 [==============================] - 0s 10ms/step - loss: 5.8216 - mse: 5.8216\n",
            "Epoch 140/300\n",
            "1/1 [==============================] - 0s 5ms/step - loss: 5.7655 - mse: 5.7655\n",
            "Epoch 141/300\n",
            "1/1 [==============================] - 0s 7ms/step - loss: 5.7101 - mse: 5.7101\n",
            "Epoch 142/300\n",
            "1/1 [==============================] - 0s 16ms/step - loss: 5.6554 - mse: 5.6554\n",
            "Epoch 143/300\n",
            "1/1 [==============================] - 0s 8ms/step - loss: 5.6014 - mse: 5.6014\n",
            "Epoch 144/300\n",
            "1/1 [==============================] - 0s 5ms/step - loss: 5.5480 - mse: 5.5480\n",
            "Epoch 145/300\n",
            "1/1 [==============================] - 0s 7ms/step - loss: 5.4952 - mse: 5.4952\n",
            "Epoch 146/300\n",
            "1/1 [==============================] - 0s 5ms/step - loss: 5.4432 - mse: 5.4432\n",
            "Epoch 147/300\n",
            "1/1 [==============================] - 0s 7ms/step - loss: 5.3917 - mse: 5.3917\n",
            "Epoch 148/300\n",
            "1/1 [==============================] - 0s 12ms/step - loss: 5.3409 - mse: 5.3409\n",
            "Epoch 149/300\n",
            "1/1 [==============================] - 0s 8ms/step - loss: 5.2907 - mse: 5.2907\n",
            "Epoch 150/300\n",
            "1/1 [==============================] - 0s 17ms/step - loss: 5.2411 - mse: 5.2411\n",
            "Epoch 151/300\n",
            "1/1 [==============================] - 0s 8ms/step - loss: 5.1921 - mse: 5.1921\n",
            "Epoch 152/300\n",
            "1/1 [==============================] - 0s 8ms/step - loss: 5.1437 - mse: 5.1437\n",
            "Epoch 153/300\n",
            "1/1 [==============================] - 0s 6ms/step - loss: 5.0959 - mse: 5.0959\n",
            "Epoch 154/300\n",
            "1/1 [==============================] - 0s 8ms/step - loss: 5.0487 - mse: 5.0487\n",
            "Epoch 155/300\n",
            "1/1 [==============================] - 0s 9ms/step - loss: 5.0021 - mse: 5.0021\n",
            "Epoch 156/300\n",
            "1/1 [==============================] - 0s 12ms/step - loss: 4.9560 - mse: 4.9560\n",
            "Epoch 157/300\n",
            "1/1 [==============================] - 0s 12ms/step - loss: 4.9105 - mse: 4.9105\n",
            "Epoch 158/300\n",
            "1/1 [==============================] - 0s 10ms/step - loss: 4.8656 - mse: 4.8656\n",
            "Epoch 159/300\n",
            "1/1 [==============================] - 0s 6ms/step - loss: 4.8212 - mse: 4.8212\n",
            "Epoch 160/300\n",
            "1/1 [==============================] - 0s 8ms/step - loss: 4.7773 - mse: 4.7773\n",
            "Epoch 161/300\n",
            "1/1 [==============================] - 0s 5ms/step - loss: 4.7340 - mse: 4.7340\n",
            "Epoch 162/300\n",
            "1/1 [==============================] - 0s 11ms/step - loss: 4.6912 - mse: 4.6912\n",
            "Epoch 163/300\n",
            "1/1 [==============================] - 0s 7ms/step - loss: 4.6490 - mse: 4.6490\n",
            "Epoch 164/300\n",
            "1/1 [==============================] - 0s 5ms/step - loss: 4.6072 - mse: 4.6072\n",
            "Epoch 165/300\n",
            "1/1 [==============================] - 0s 7ms/step - loss: 4.5660 - mse: 4.5660\n",
            "Epoch 166/300\n",
            "1/1 [==============================] - 0s 5ms/step - loss: 4.5252 - mse: 4.5252\n",
            "Epoch 167/300\n",
            "1/1 [==============================] - 0s 7ms/step - loss: 4.4850 - mse: 4.4850\n",
            "Epoch 168/300\n",
            "1/1 [==============================] - 0s 9ms/step - loss: 4.4452 - mse: 4.4452\n",
            "Epoch 169/300\n",
            "1/1 [==============================] - 0s 5ms/step - loss: 4.4060 - mse: 4.4060\n",
            "Epoch 170/300\n",
            "1/1 [==============================] - 0s 5ms/step - loss: 4.3672 - mse: 4.3672\n",
            "Epoch 171/300\n",
            "1/1 [==============================] - 0s 5ms/step - loss: 4.3289 - mse: 4.3289\n",
            "Epoch 172/300\n",
            "1/1 [==============================] - 0s 10ms/step - loss: 4.2911 - mse: 4.2911\n",
            "Epoch 173/300\n",
            "1/1 [==============================] - 0s 7ms/step - loss: 4.2537 - mse: 4.2537\n",
            "Epoch 174/300\n",
            "1/1 [==============================] - 0s 5ms/step - loss: 4.2168 - mse: 4.2168\n",
            "Epoch 175/300\n",
            "1/1 [==============================] - 0s 8ms/step - loss: 4.1803 - mse: 4.1803\n",
            "Epoch 176/300\n",
            "1/1 [==============================] - 0s 11ms/step - loss: 4.1443 - mse: 4.1443\n",
            "Epoch 177/300\n",
            "1/1 [==============================] - 0s 5ms/step - loss: 4.1087 - mse: 4.1087\n",
            "Epoch 178/300\n",
            "1/1 [==============================] - 0s 5ms/step - loss: 4.0735 - mse: 4.0735\n",
            "Epoch 179/300\n",
            "1/1 [==============================] - 0s 5ms/step - loss: 4.0388 - mse: 4.0388\n",
            "Epoch 180/300\n",
            "1/1 [==============================] - 0s 9ms/step - loss: 4.0045 - mse: 4.0045\n",
            "Epoch 181/300\n",
            "1/1 [==============================] - 0s 10ms/step - loss: 3.9707 - mse: 3.9707\n",
            "Epoch 182/300\n",
            "1/1 [==============================] - 0s 7ms/step - loss: 3.9372 - mse: 3.9372\n",
            "Epoch 183/300\n",
            "1/1 [==============================] - 0s 6ms/step - loss: 3.9041 - mse: 3.9041\n",
            "Epoch 184/300\n",
            "1/1 [==============================] - 0s 6ms/step - loss: 3.8715 - mse: 3.8715\n",
            "Epoch 185/300\n",
            "1/1 [==============================] - 0s 28ms/step - loss: 3.8392 - mse: 3.8392\n",
            "Epoch 186/300\n",
            "1/1 [==============================] - 0s 8ms/step - loss: 3.8074 - mse: 3.8074\n",
            "Epoch 187/300\n",
            "1/1 [==============================] - 0s 10ms/step - loss: 3.7759 - mse: 3.7759\n",
            "Epoch 188/300\n",
            "1/1 [==============================] - 0s 6ms/step - loss: 3.7448 - mse: 3.7448\n",
            "Epoch 189/300\n",
            "1/1 [==============================] - 0s 22ms/step - loss: 3.7141 - mse: 3.7141\n",
            "Epoch 190/300\n",
            "1/1 [==============================] - 0s 10ms/step - loss: 3.6838 - mse: 3.6838\n",
            "Epoch 191/300\n",
            "1/1 [==============================] - 0s 9ms/step - loss: 3.6539 - mse: 3.6539\n",
            "Epoch 192/300\n",
            "1/1 [==============================] - 0s 5ms/step - loss: 3.6243 - mse: 3.6243\n",
            "Epoch 193/300\n",
            "1/1 [==============================] - 0s 5ms/step - loss: 3.5950 - mse: 3.5950\n",
            "Epoch 194/300\n",
            "1/1 [==============================] - 0s 11ms/step - loss: 3.5662 - mse: 3.5662\n",
            "Epoch 195/300\n",
            "1/1 [==============================] - 0s 22ms/step - loss: 3.5376 - mse: 3.5376\n",
            "Epoch 196/300\n",
            "1/1 [==============================] - 0s 17ms/step - loss: 3.5095 - mse: 3.5095\n",
            "Epoch 197/300\n",
            "1/1 [==============================] - 0s 10ms/step - loss: 3.4816 - mse: 3.4816\n",
            "Epoch 198/300\n",
            "1/1 [==============================] - 0s 5ms/step - loss: 3.4542 - mse: 3.4542\n",
            "Epoch 199/300\n",
            "1/1 [==============================] - 0s 12ms/step - loss: 3.4270 - mse: 3.4270\n",
            "Epoch 200/300\n",
            "1/1 [==============================] - 0s 16ms/step - loss: 3.4002 - mse: 3.4002\n",
            "Epoch 201/300\n",
            "1/1 [==============================] - 0s 8ms/step - loss: 3.3737 - mse: 3.3737\n",
            "Epoch 202/300\n",
            "1/1 [==============================] - 0s 18ms/step - loss: 3.3475 - mse: 3.3475\n",
            "Epoch 203/300\n",
            "1/1 [==============================] - 0s 9ms/step - loss: 3.3217 - mse: 3.3217\n",
            "Epoch 204/300\n",
            "1/1 [==============================] - 0s 5ms/step - loss: 3.2962 - mse: 3.2962\n",
            "Epoch 205/300\n",
            "1/1 [==============================] - 0s 10ms/step - loss: 3.2709 - mse: 3.2709\n",
            "Epoch 206/300\n",
            "1/1 [==============================] - 0s 6ms/step - loss: 3.2460 - mse: 3.2460\n",
            "Epoch 207/300\n",
            "1/1 [==============================] - 0s 10ms/step - loss: 3.2214 - mse: 3.2214\n",
            "Epoch 208/300\n",
            "1/1 [==============================] - 0s 6ms/step - loss: 3.1971 - mse: 3.1971\n",
            "Epoch 209/300\n",
            "1/1 [==============================] - 0s 10ms/step - loss: 3.1731 - mse: 3.1731\n",
            "Epoch 210/300\n",
            "1/1 [==============================] - 0s 6ms/step - loss: 3.1494 - mse: 3.1494\n",
            "Epoch 211/300\n",
            "1/1 [==============================] - 0s 7ms/step - loss: 3.1260 - mse: 3.1260\n",
            "Epoch 212/300\n",
            "1/1 [==============================] - 0s 9ms/step - loss: 3.1028 - mse: 3.1028\n",
            "Epoch 213/300\n",
            "1/1 [==============================] - 0s 24ms/step - loss: 3.0799 - mse: 3.0799\n",
            "Epoch 214/300\n",
            "1/1 [==============================] - 0s 25ms/step - loss: 3.0574 - mse: 3.0574\n",
            "Epoch 215/300\n",
            "1/1 [==============================] - 0s 8ms/step - loss: 3.0351 - mse: 3.0351\n",
            "Epoch 216/300\n",
            "1/1 [==============================] - 0s 5ms/step - loss: 3.0130 - mse: 3.0130\n",
            "Epoch 217/300\n",
            "1/1 [==============================] - 0s 28ms/step - loss: 2.9913 - mse: 2.9913\n",
            "Epoch 218/300\n",
            "1/1 [==============================] - 0s 34ms/step - loss: 2.9698 - mse: 2.9698\n",
            "Epoch 219/300\n",
            "1/1 [==============================] - 0s 21ms/step - loss: 2.9486 - mse: 2.9486\n",
            "Epoch 220/300\n",
            "1/1 [==============================] - 0s 9ms/step - loss: 2.9276 - mse: 2.9276\n",
            "Epoch 221/300\n",
            "1/1 [==============================] - 0s 10ms/step - loss: 2.9069 - mse: 2.9069\n",
            "Epoch 222/300\n",
            "1/1 [==============================] - 0s 11ms/step - loss: 2.8864 - mse: 2.8864\n",
            "Epoch 223/300\n",
            "1/1 [==============================] - 0s 10ms/step - loss: 2.8662 - mse: 2.8662\n",
            "Epoch 224/300\n",
            "1/1 [==============================] - 0s 22ms/step - loss: 2.8462 - mse: 2.8462\n",
            "Epoch 225/300\n",
            "1/1 [==============================] - 0s 5ms/step - loss: 2.8265 - mse: 2.8265\n",
            "Epoch 226/300\n",
            "1/1 [==============================] - 0s 11ms/step - loss: 2.8070 - mse: 2.8070\n",
            "Epoch 227/300\n",
            "1/1 [==============================] - 0s 10ms/step - loss: 2.7878 - mse: 2.7878\n",
            "Epoch 228/300\n",
            "1/1 [==============================] - 0s 11ms/step - loss: 2.7688 - mse: 2.7688\n",
            "Epoch 229/300\n",
            "1/1 [==============================] - 0s 13ms/step - loss: 2.7500 - mse: 2.7500\n",
            "Epoch 230/300\n",
            "1/1 [==============================] - 0s 5ms/step - loss: 2.7314 - mse: 2.7314\n",
            "Epoch 231/300\n",
            "1/1 [==============================] - 0s 8ms/step - loss: 2.7131 - mse: 2.7131\n",
            "Epoch 232/300\n",
            "1/1 [==============================] - 0s 7ms/step - loss: 2.6950 - mse: 2.6950\n",
            "Epoch 233/300\n",
            "1/1 [==============================] - 0s 10ms/step - loss: 2.6771 - mse: 2.6771\n",
            "Epoch 234/300\n",
            "1/1 [==============================] - 0s 6ms/step - loss: 2.6595 - mse: 2.6595\n",
            "Epoch 235/300\n",
            "1/1 [==============================] - 0s 12ms/step - loss: 2.6420 - mse: 2.6420\n",
            "Epoch 236/300\n",
            "1/1 [==============================] - 0s 12ms/step - loss: 2.6248 - mse: 2.6248\n",
            "Epoch 237/300\n",
            "1/1 [==============================] - 0s 5ms/step - loss: 2.6078 - mse: 2.6078\n",
            "Epoch 238/300\n",
            "1/1 [==============================] - 0s 8ms/step - loss: 2.5910 - mse: 2.5910\n",
            "Epoch 239/300\n",
            "1/1 [==============================] - 0s 6ms/step - loss: 2.5744 - mse: 2.5744\n",
            "Epoch 240/300\n",
            "1/1 [==============================] - 0s 8ms/step - loss: 2.5580 - mse: 2.5580\n",
            "Epoch 241/300\n",
            "1/1 [==============================] - 0s 13ms/step - loss: 2.5418 - mse: 2.5418\n",
            "Epoch 242/300\n",
            "1/1 [==============================] - 0s 5ms/step - loss: 2.5258 - mse: 2.5258\n",
            "Epoch 243/300\n",
            "1/1 [==============================] - 0s 6ms/step - loss: 2.5100 - mse: 2.5100\n",
            "Epoch 244/300\n",
            "1/1 [==============================] - 0s 10ms/step - loss: 2.4944 - mse: 2.4944\n",
            "Epoch 245/300\n",
            "1/1 [==============================] - 0s 7ms/step - loss: 2.4789 - mse: 2.4789\n",
            "Epoch 246/300\n",
            "1/1 [==============================] - 0s 10ms/step - loss: 2.4637 - mse: 2.4637\n",
            "Epoch 247/300\n",
            "1/1 [==============================] - 0s 7ms/step - loss: 2.4487 - mse: 2.4487\n",
            "Epoch 248/300\n",
            "1/1 [==============================] - 0s 10ms/step - loss: 2.4338 - mse: 2.4338\n",
            "Epoch 249/300\n",
            "1/1 [==============================] - 0s 7ms/step - loss: 2.4191 - mse: 2.4191\n",
            "Epoch 250/300\n",
            "1/1 [==============================] - 0s 9ms/step - loss: 2.4046 - mse: 2.4046\n",
            "Epoch 251/300\n",
            "1/1 [==============================] - 0s 6ms/step - loss: 2.3903 - mse: 2.3903\n",
            "Epoch 252/300\n",
            "1/1 [==============================] - 0s 9ms/step - loss: 2.3761 - mse: 2.3761\n",
            "Epoch 253/300\n",
            "1/1 [==============================] - 0s 6ms/step - loss: 2.3621 - mse: 2.3621\n",
            "Epoch 254/300\n",
            "1/1 [==============================] - 0s 6ms/step - loss: 2.3483 - mse: 2.3483\n",
            "Epoch 255/300\n",
            "1/1 [==============================] - 0s 13ms/step - loss: 2.3347 - mse: 2.3347\n",
            "Epoch 256/300\n",
            "1/1 [==============================] - 0s 11ms/step - loss: 2.3212 - mse: 2.3212\n",
            "Epoch 257/300\n",
            "1/1 [==============================] - 0s 9ms/step - loss: 2.3079 - mse: 2.3079\n",
            "Epoch 258/300\n",
            "1/1 [==============================] - 0s 22ms/step - loss: 2.2948 - mse: 2.2948\n",
            "Epoch 259/300\n",
            "1/1 [==============================] - 0s 18ms/step - loss: 2.2818 - mse: 2.2818\n",
            "Epoch 260/300\n",
            "1/1 [==============================] - 0s 31ms/step - loss: 2.2689 - mse: 2.2689\n",
            "Epoch 261/300\n",
            "1/1 [==============================] - 0s 7ms/step - loss: 2.2563 - mse: 2.2563\n",
            "Epoch 262/300\n",
            "1/1 [==============================] - 0s 7ms/step - loss: 2.2438 - mse: 2.2438\n",
            "Epoch 263/300\n",
            "1/1 [==============================] - 0s 11ms/step - loss: 2.2314 - mse: 2.2314\n",
            "Epoch 264/300\n",
            "1/1 [==============================] - 0s 28ms/step - loss: 2.2192 - mse: 2.2192\n",
            "Epoch 265/300\n",
            "1/1 [==============================] - 0s 9ms/step - loss: 2.2071 - mse: 2.2071\n",
            "Epoch 266/300\n",
            "1/1 [==============================] - 0s 15ms/step - loss: 2.1952 - mse: 2.1952\n",
            "Epoch 267/300\n",
            "1/1 [==============================] - 0s 11ms/step - loss: 2.1834 - mse: 2.1834\n",
            "Epoch 268/300\n",
            "1/1 [==============================] - 0s 9ms/step - loss: 2.1718 - mse: 2.1718\n",
            "Epoch 269/300\n",
            "1/1 [==============================] - 0s 11ms/step - loss: 2.1603 - mse: 2.1603\n",
            "Epoch 270/300\n",
            "1/1 [==============================] - 0s 6ms/step - loss: 2.1490 - mse: 2.1490\n",
            "Epoch 271/300\n",
            "1/1 [==============================] - 0s 9ms/step - loss: 2.1378 - mse: 2.1378\n",
            "Epoch 272/300\n",
            "1/1 [==============================] - 0s 8ms/step - loss: 2.1267 - mse: 2.1267\n",
            "Epoch 273/300\n",
            "1/1 [==============================] - 0s 18ms/step - loss: 2.1158 - mse: 2.1158\n",
            "Epoch 274/300\n",
            "1/1 [==============================] - 0s 25ms/step - loss: 2.1050 - mse: 2.1050\n",
            "Epoch 275/300\n",
            "1/1 [==============================] - 0s 8ms/step - loss: 2.0943 - mse: 2.0943\n",
            "Epoch 276/300\n",
            "1/1 [==============================] - 0s 10ms/step - loss: 2.0838 - mse: 2.0838\n",
            "Epoch 277/300\n",
            "1/1 [==============================] - 0s 10ms/step - loss: 2.0734 - mse: 2.0734\n",
            "Epoch 278/300\n",
            "1/1 [==============================] - 0s 10ms/step - loss: 2.0631 - mse: 2.0631\n",
            "Epoch 279/300\n",
            "1/1 [==============================] - 0s 11ms/step - loss: 2.0529 - mse: 2.0529\n",
            "Epoch 280/300\n",
            "1/1 [==============================] - 0s 14ms/step - loss: 2.0429 - mse: 2.0429\n",
            "Epoch 281/300\n",
            "1/1 [==============================] - 0s 8ms/step - loss: 2.0330 - mse: 2.0330\n",
            "Epoch 282/300\n",
            "1/1 [==============================] - 0s 9ms/step - loss: 2.0232 - mse: 2.0232\n",
            "Epoch 283/300\n",
            "1/1 [==============================] - 0s 7ms/step - loss: 2.0135 - mse: 2.0135\n",
            "Epoch 284/300\n",
            "1/1 [==============================] - 0s 9ms/step - loss: 2.0040 - mse: 2.0040\n",
            "Epoch 285/300\n",
            "1/1 [==============================] - 0s 10ms/step - loss: 1.9946 - mse: 1.9946\n",
            "Epoch 286/300\n",
            "1/1 [==============================] - 0s 11ms/step - loss: 1.9852 - mse: 1.9852\n",
            "Epoch 287/300\n",
            "1/1 [==============================] - 0s 6ms/step - loss: 1.9760 - mse: 1.9760\n",
            "Epoch 288/300\n",
            "1/1 [==============================] - 0s 11ms/step - loss: 1.9669 - mse: 1.9669\n",
            "Epoch 289/300\n",
            "1/1 [==============================] - 0s 15ms/step - loss: 1.9580 - mse: 1.9580\n",
            "Epoch 290/300\n",
            "1/1 [==============================] - 0s 11ms/step - loss: 1.9491 - mse: 1.9491\n",
            "Epoch 291/300\n",
            "1/1 [==============================] - 0s 6ms/step - loss: 1.9403 - mse: 1.9403\n",
            "Epoch 292/300\n",
            "1/1 [==============================] - 0s 9ms/step - loss: 1.9317 - mse: 1.9317\n",
            "Epoch 293/300\n",
            "1/1 [==============================] - 0s 10ms/step - loss: 1.9231 - mse: 1.9231\n",
            "Epoch 294/300\n",
            "1/1 [==============================] - 0s 8ms/step - loss: 1.9147 - mse: 1.9147\n",
            "Epoch 295/300\n",
            "1/1 [==============================] - 0s 33ms/step - loss: 1.9063 - mse: 1.9063\n",
            "Epoch 296/300\n",
            "1/1 [==============================] - 0s 14ms/step - loss: 1.8981 - mse: 1.8981\n",
            "Epoch 297/300\n",
            "1/1 [==============================] - 0s 24ms/step - loss: 1.8899 - mse: 1.8899\n",
            "Epoch 298/300\n",
            "1/1 [==============================] - 0s 5ms/step - loss: 1.8819 - mse: 1.8819\n",
            "Epoch 299/300\n",
            "1/1 [==============================] - 0s 8ms/step - loss: 1.8740 - mse: 1.8740\n",
            "Epoch 300/300\n",
            "1/1 [==============================] - 0s 5ms/step - loss: 1.8661 - mse: 1.8661\n"
          ]
        },
        {
          "output_type": "execute_result",
          "data": {
            "text/plain": [
              "<keras.callbacks.History at 0x7f69ce145950>"
            ]
          },
          "metadata": {},
          "execution_count": 87
        }
      ]
    },
    {
      "cell_type": "markdown",
      "metadata": {
        "id": "mAc14-qWfDDV"
      },
      "source": [
        "### **결과**"
      ]
    },
    {
      "cell_type": "markdown",
      "metadata": {
        "id": "ZmCT32fefDDW"
      },
      "source": [
        "* 학습 파라미터 확인"
      ]
    },
    {
      "cell_type": "code",
      "metadata": {
        "id": "-b5GFbL8fDDW",
        "colab": {
          "base_uri": "https://localhost:8080/"
        },
        "outputId": "40f604dc-ae30-48fd-b9bf-0b09f72d4ee9"
      },
      "source": [
        "print(model.get_weights())\n",
        "W = model.get_weights()[0]\n",
        "b = model.get_weights()[1]\n",
        "print(\"W : \", W, \"b : \", b)"
      ],
      "execution_count": null,
      "outputs": [
        {
          "output_type": "stream",
          "name": "stdout",
          "text": [
            "[array([[11.069854  ],\n",
            "       [-0.6952591 ],\n",
            "       [ 0.09167183]], dtype=float32), array([0.24641548], dtype=float32)]\n",
            "W :  [[11.069854  ]\n",
            " [-0.6952591 ]\n",
            " [ 0.09167183]] b :  [0.24641548]\n"
          ]
        }
      ]
    },
    {
      "cell_type": "markdown",
      "metadata": {
        "id": "LFSBLKgyfDDX"
      },
      "source": [
        "* 결과 예측"
      ]
    },
    {
      "cell_type": "code",
      "metadata": {
        "id": "D0yOWDosfDDX",
        "colab": {
          "base_uri": "https://localhost:8080/"
        },
        "outputId": "0309561f-2ee3-469f-f7bf-07efb00e34f2"
      },
      "source": [
        "sample = [[11, 4, 6]]\n",
        "print(model.predict(sample))"
      ],
      "execution_count": null,
      "outputs": [
        {
          "output_type": "stream",
          "name": "stdout",
          "text": [
            "[[119.783806]]\n"
          ]
        }
      ]
    }
  ]
}