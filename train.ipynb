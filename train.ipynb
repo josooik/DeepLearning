{
  "nbformat": 4,
  "nbformat_minor": 0,
  "metadata": {
    "colab": {
      "name": "train.ipynb",
      "provenance": [],
      "authorship_tag": "ABX9TyMTaNtdQrCADCZ5RwgUQkdG",
      "include_colab_link": true
    },
    "kernelspec": {
      "name": "python3",
      "display_name": "Python 3"
    },
    "language_info": {
      "name": "python"
    },
    "accelerator": "GPU"
  },
  "cells": [
    {
      "cell_type": "markdown",
      "metadata": {
        "id": "view-in-github",
        "colab_type": "text"
      },
      "source": [
        "<a href=\"https://colab.research.google.com/github/josooik/DeepLearning/blob/main/train.ipynb\" target=\"_parent\"><img src=\"https://colab.research.google.com/assets/colab-badge.svg\" alt=\"Open In Colab\"/></a>"
      ]
    },
    {
      "cell_type": "code",
      "metadata": {
        "id": "4jSMs61fXzus"
      },
      "source": [
        "from imutils import paths\n",
        "import sys, os\n",
        "import numpy as np\n",
        "import matplotlib.pyplot as plt\n",
        "\n",
        "from tensorflow.keras.preprocessing.image import ImageDataGenerator, img_to_array, load_img\n",
        "from tensorflow.keras import applications, utils, layers, models, optimizers\n",
        "from sklearn.preprocessing import LabelBinarizer\n",
        "from sklearn.model_selection import train_test_split"
      ],
      "execution_count": 3,
      "outputs": []
    },
    {
      "cell_type": "markdown",
      "metadata": {
        "id": "XGrgRAVSYB5h"
      },
      "source": [
        "### 데이터"
      ]
    },
    {
      "cell_type": "markdown",
      "metadata": {
        "id": "7tvo0cunYYEa"
      },
      "source": [
        "- 데이터 불러오기"
      ]
    },
    {
      "cell_type": "code",
      "metadata": {
        "colab": {
          "base_uri": "https://localhost:8080/"
        },
        "id": "mGWT7sLrYaRh",
        "outputId": "43ba5fbb-e7a4-4ce0-c975-969ba8ba0096"
      },
      "source": [
        "from google.colab import drive\n",
        "drive.mount('/content/drive/')"
      ],
      "execution_count": 4,
      "outputs": [
        {
          "output_type": "stream",
          "name": "stdout",
          "text": [
            "Drive already mounted at /content/drive/; to attempt to forcibly remount, call drive.mount(\"/content/drive/\", force_remount=True).\n"
          ]
        }
      ]
    },
    {
      "cell_type": "code",
      "metadata": {
        "colab": {
          "base_uri": "https://localhost:8080/"
        },
        "id": "C-QZOWb9Yb8Q",
        "outputId": "6cc72237-8aa9-4850-a028-993245e024d0"
      },
      "source": [
        "from google.colab.patches import cv2_imshow\n",
        "import cv2\n",
        "import numpy as np\n",
        "import os\n",
        "\n",
        "train_dir = '/content/drive/MyDrive/딥러닝/Lecture_deeplearning_basic-main/프로젝트/dataset/tt'\n",
        "train_img = os.listdir(train_dir)\n",
        "print(train_img)\n",
        "\n",
        "model_dir = '/content/drive/MyDrive/딥러닝/Lecture_deeplearning_basic-main/프로젝트/dataset/model'"
      ],
      "execution_count": 5,
      "outputs": [
        {
          "output_type": "stream",
          "name": "stdout",
          "text": [
            "['normal', 'abnormal']\n"
          ]
        }
      ]
    },
    {
      "cell_type": "markdown",
      "metadata": {
        "id": "VYhZVIUcYr4X"
      },
      "source": [
        "- 데이터 처리"
      ]
    },
    {
      "cell_type": "code",
      "metadata": {
        "id": "h1zyWEvOYBcZ"
      },
      "source": [
        "def load_datasets(train_dir):\n",
        "    print(\"[INFO] Load Datasets...\")\n",
        "    imagePaths = list(paths.list_images(train_dir))\n",
        "\n",
        "    data = []\n",
        "    labels = []\n",
        "    for imagePath in imagePaths:\n",
        "    \t# extract the class label from the filename\n",
        "    \tlabel = imagePath.split(os.path.sep)[-2]\n",
        "        #print(label)\n",
        "    \n",
        "    \t# load the input image (224x224) and preprocess it\n",
        "    \timage = load_img(imagePath, target_size=(224, 224))\n",
        "    \timage = img_to_array(image)\n",
        "    \timage = applications.mobilenet_v2.preprocess_input(image)\n",
        "    \t# update the data and labels lists, respectively\n",
        "    \tdata.append(image)\n",
        "    \tlabels.append(label)\n",
        "    \n",
        "    lb = LabelBinarizer()\n",
        "    labels = lb.fit_transform(labels)\n",
        "    labels = utils.to_categorical(labels)\n",
        "    \n",
        "    data = np.array(data, dtype=\"float32\")\n",
        "    labels = np.array(labels)\n",
        "    print('* data shape:',data.shape, labels.shape)\n",
        "    \n",
        "    \n",
        "    # the data for training and the remaining 20% for testing\n",
        "    (trainX, testX, trainY, testY) = train_test_split(data, labels,\n",
        "                                     test_size=0.20, stratify=labels, random_state=42)\n",
        "    print('* splited data shape:',trainX.shape, testX.shape, trainY.shape, testY.shape)\n",
        "\n",
        "    return trainX, testX, trainY, testY"
      ],
      "execution_count": 6,
      "outputs": []
    },
    {
      "cell_type": "code",
      "metadata": {
        "colab": {
          "base_uri": "https://localhost:8080/"
        },
        "id": "7SpxNzQjYG_4",
        "outputId": "6320c7e5-abb6-446b-99a0-7341b00317bc"
      },
      "source": [
        "trainX, testX, trainY, testY = load_datasets(train_dir)"
      ],
      "execution_count": 7,
      "outputs": [
        {
          "output_type": "stream",
          "name": "stdout",
          "text": [
            "[INFO] Load Datasets...\n",
            "* data shape: (4600, 224, 224, 3) (4600, 2)\n",
            "* splited data shape: (3680, 224, 224, 3) (920, 224, 224, 3) (3680, 2) (920, 2)\n"
          ]
        }
      ]
    },
    {
      "cell_type": "code",
      "metadata": {
        "id": "Dwm_FBAnYLnA"
      },
      "source": [
        "def train_model( trainX, testX, trainY, testY,\n",
        "                 EPOCHS=1, \n",
        "                 INIT_LR=1e-4, \n",
        "                 BS=32):\n",
        "\n",
        "    print(\"[INFO] Build  Model ...\")\n",
        "    base_model = applications.MobileNetV2( weights=\"imagenet\", \n",
        "                                           include_top=False,\n",
        "    \t                                   input_tensor=layers.Input(shape=(224, 224, 3)))\n",
        "    \n",
        "    y = base_model.output\n",
        "    y = layers.AveragePooling2D(pool_size=(7, 7))(y)\n",
        "    y = layers.Flatten(name=\"flatten\")(y)\n",
        "    y = layers.Dense(128, activation=\"relu\")(y)\n",
        "    y = layers.Dropout(0.5)(y)\n",
        "    y = layers.Dense(2, activation=\"softmax\")(y)\n",
        "    \n",
        "    model = models.Model(inputs=base_model.input, outputs=y)\n",
        "    for layer in base_model.layers:\n",
        "    \tlayer.trainable = False\n",
        "    \n",
        "\n",
        "    # compile our model\n",
        "    print(\"[INFO] Compiling  Model ...\")\n",
        "    opt = optimizers.Adam(lr=INIT_LR, decay=INIT_LR / EPOCHS)\n",
        "    model.compile(loss=\"binary_crossentropy\", optimizer=opt,\n",
        "\tmetrics=[\"accuracy\"])\n",
        "\n",
        "\n",
        "    # construct the training image generator for data augmentation\n",
        "    aug = ImageDataGenerator( rotation_range=20,\n",
        "    \t                      zoom_range=0.15,\n",
        "    \t                      width_shift_range=0.2,\n",
        "    \t                      height_shift_range=0.2,\n",
        "    \t                      shear_range=0.15,\n",
        "    \t                      horizontal_flip=True,\n",
        "    \t                      fill_mode=\"nearest\")\n",
        "\n",
        "    # train the head of the network\n",
        "    print(\"[INFO] Training  Model ...\")\n",
        "    history = model.fit( aug.flow(trainX, trainY, batch_size=BS),\n",
        "\t               steps_per_epoch=len(trainX) // BS,\n",
        "\t               validation_data=(testX, testY),\n",
        "\t               validation_steps=len(testX) // BS,\n",
        "\t               epochs=EPOCHS)\n",
        "\n",
        "    return history, model"
      ],
      "execution_count": 8,
      "outputs": []
    },
    {
      "cell_type": "code",
      "metadata": {
        "colab": {
          "base_uri": "https://localhost:8080/"
        },
        "id": "6bFjKOeiYNVn",
        "outputId": "25bcccdf-c031-45fa-b8a9-6d57d2b45941"
      },
      "source": [
        "history, model = train_model(trainX, testX, trainY, testY, EPOCHS=100)"
      ],
      "execution_count": 9,
      "outputs": [
        {
          "output_type": "stream",
          "name": "stdout",
          "text": [
            "[INFO] Build  Model ...\n",
            "WARNING:tensorflow:`input_shape` is undefined or non-square, or `rows` is not in [96, 128, 160, 192, 224]. Weights for input shape (224, 224) will be loaded as the default.\n",
            "Downloading data from https://storage.googleapis.com/tensorflow/keras-applications/mobilenet_v2/mobilenet_v2_weights_tf_dim_ordering_tf_kernels_1.0_224_no_top.h5\n",
            "9412608/9406464 [==============================] - 0s 0us/step\n",
            "9420800/9406464 [==============================] - 0s 0us/step\n",
            "[INFO] Compiling  Model ...\n",
            "[INFO] Training  Model ...\n"
          ]
        },
        {
          "output_type": "stream",
          "name": "stderr",
          "text": [
            "/usr/local/lib/python3.7/dist-packages/keras/optimizer_v2/optimizer_v2.py:356: UserWarning: The `lr` argument is deprecated, use `learning_rate` instead.\n",
            "  \"The `lr` argument is deprecated, use `learning_rate` instead.\")\n"
          ]
        },
        {
          "output_type": "stream",
          "name": "stdout",
          "text": [
            "Epoch 1/100\n",
            "115/115 [==============================] - 81s 429ms/step - loss: 0.5419 - accuracy: 0.7804 - val_loss: 0.4346 - val_accuracy: 0.7957\n",
            "Epoch 2/100\n",
            "115/115 [==============================] - 47s 409ms/step - loss: 0.4570 - accuracy: 0.8043 - val_loss: 0.3874 - val_accuracy: 0.8207\n",
            "Epoch 3/100\n",
            "115/115 [==============================] - 47s 408ms/step - loss: 0.4218 - accuracy: 0.8204 - val_loss: 0.3539 - val_accuracy: 0.8489\n",
            "Epoch 4/100\n",
            "115/115 [==============================] - 47s 407ms/step - loss: 0.3974 - accuracy: 0.8310 - val_loss: 0.3277 - val_accuracy: 0.8630\n",
            "Epoch 5/100\n",
            "115/115 [==============================] - 47s 404ms/step - loss: 0.3894 - accuracy: 0.8375 - val_loss: 0.3257 - val_accuracy: 0.8554\n",
            "Epoch 6/100\n",
            "115/115 [==============================] - 46s 403ms/step - loss: 0.3638 - accuracy: 0.8489 - val_loss: 0.3127 - val_accuracy: 0.8674\n",
            "Epoch 7/100\n",
            "115/115 [==============================] - 46s 401ms/step - loss: 0.3429 - accuracy: 0.8620 - val_loss: 0.2965 - val_accuracy: 0.8739\n",
            "Epoch 8/100\n",
            "115/115 [==============================] - 46s 401ms/step - loss: 0.3325 - accuracy: 0.8625 - val_loss: 0.2727 - val_accuracy: 0.8848\n",
            "Epoch 9/100\n",
            "115/115 [==============================] - 46s 402ms/step - loss: 0.3305 - accuracy: 0.8668 - val_loss: 0.2609 - val_accuracy: 0.8967\n",
            "Epoch 10/100\n",
            "115/115 [==============================] - 46s 400ms/step - loss: 0.3162 - accuracy: 0.8698 - val_loss: 0.2661 - val_accuracy: 0.8891\n",
            "Epoch 11/100\n",
            "115/115 [==============================] - 46s 400ms/step - loss: 0.3159 - accuracy: 0.8726 - val_loss: 0.2569 - val_accuracy: 0.8946\n",
            "Epoch 12/100\n",
            "115/115 [==============================] - 46s 398ms/step - loss: 0.3103 - accuracy: 0.8826 - val_loss: 0.2445 - val_accuracy: 0.9054\n",
            "Epoch 13/100\n",
            "115/115 [==============================] - 47s 406ms/step - loss: 0.2953 - accuracy: 0.8793 - val_loss: 0.2383 - val_accuracy: 0.9120\n",
            "Epoch 14/100\n",
            "115/115 [==============================] - 46s 403ms/step - loss: 0.2954 - accuracy: 0.8840 - val_loss: 0.2388 - val_accuracy: 0.9065\n",
            "Epoch 15/100\n",
            "115/115 [==============================] - 46s 401ms/step - loss: 0.2869 - accuracy: 0.8867 - val_loss: 0.2302 - val_accuracy: 0.9163\n",
            "Epoch 16/100\n",
            "115/115 [==============================] - 46s 400ms/step - loss: 0.2804 - accuracy: 0.8978 - val_loss: 0.2267 - val_accuracy: 0.9141\n",
            "Epoch 17/100\n",
            "115/115 [==============================] - 46s 400ms/step - loss: 0.2853 - accuracy: 0.8842 - val_loss: 0.2244 - val_accuracy: 0.9130\n",
            "Epoch 18/100\n",
            "115/115 [==============================] - 46s 399ms/step - loss: 0.2719 - accuracy: 0.8918 - val_loss: 0.2188 - val_accuracy: 0.9196\n",
            "Epoch 19/100\n",
            "115/115 [==============================] - 46s 400ms/step - loss: 0.2762 - accuracy: 0.8913 - val_loss: 0.2204 - val_accuracy: 0.9217\n",
            "Epoch 20/100\n",
            "115/115 [==============================] - 46s 401ms/step - loss: 0.2640 - accuracy: 0.9052 - val_loss: 0.2184 - val_accuracy: 0.9163\n",
            "Epoch 21/100\n",
            "115/115 [==============================] - 46s 399ms/step - loss: 0.2575 - accuracy: 0.8976 - val_loss: 0.2128 - val_accuracy: 0.9228\n",
            "Epoch 22/100\n",
            "115/115 [==============================] - 46s 401ms/step - loss: 0.2506 - accuracy: 0.9046 - val_loss: 0.2112 - val_accuracy: 0.9239\n",
            "Epoch 23/100\n",
            "115/115 [==============================] - 46s 400ms/step - loss: 0.2640 - accuracy: 0.8986 - val_loss: 0.2103 - val_accuracy: 0.9217\n",
            "Epoch 24/100\n",
            "115/115 [==============================] - 46s 399ms/step - loss: 0.2614 - accuracy: 0.9027 - val_loss: 0.2084 - val_accuracy: 0.9272\n",
            "Epoch 25/100\n",
            "115/115 [==============================] - 47s 404ms/step - loss: 0.2648 - accuracy: 0.8957 - val_loss: 0.2160 - val_accuracy: 0.9163\n",
            "Epoch 26/100\n",
            "115/115 [==============================] - 47s 409ms/step - loss: 0.2523 - accuracy: 0.8973 - val_loss: 0.2041 - val_accuracy: 0.9261\n",
            "Epoch 27/100\n",
            "115/115 [==============================] - 47s 407ms/step - loss: 0.2470 - accuracy: 0.9060 - val_loss: 0.2088 - val_accuracy: 0.9250\n",
            "Epoch 28/100\n",
            "115/115 [==============================] - 47s 407ms/step - loss: 0.2507 - accuracy: 0.9076 - val_loss: 0.2040 - val_accuracy: 0.9315\n",
            "Epoch 29/100\n",
            "115/115 [==============================] - 47s 409ms/step - loss: 0.2501 - accuracy: 0.9011 - val_loss: 0.2031 - val_accuracy: 0.9337\n",
            "Epoch 30/100\n",
            "115/115 [==============================] - 47s 406ms/step - loss: 0.2438 - accuracy: 0.9109 - val_loss: 0.2011 - val_accuracy: 0.9250\n",
            "Epoch 31/100\n",
            "115/115 [==============================] - 46s 404ms/step - loss: 0.2409 - accuracy: 0.9076 - val_loss: 0.2015 - val_accuracy: 0.9272\n",
            "Epoch 32/100\n",
            "115/115 [==============================] - 48s 414ms/step - loss: 0.2401 - accuracy: 0.9057 - val_loss: 0.2040 - val_accuracy: 0.9283\n",
            "Epoch 33/100\n",
            "115/115 [==============================] - 47s 408ms/step - loss: 0.2424 - accuracy: 0.9062 - val_loss: 0.2034 - val_accuracy: 0.9250\n",
            "Epoch 34/100\n",
            "115/115 [==============================] - 47s 407ms/step - loss: 0.2356 - accuracy: 0.9057 - val_loss: 0.2006 - val_accuracy: 0.9196\n",
            "Epoch 35/100\n",
            "115/115 [==============================] - 47s 406ms/step - loss: 0.2354 - accuracy: 0.9087 - val_loss: 0.2027 - val_accuracy: 0.9283\n",
            "Epoch 36/100\n",
            "115/115 [==============================] - 47s 408ms/step - loss: 0.2272 - accuracy: 0.9139 - val_loss: 0.1961 - val_accuracy: 0.9239\n",
            "Epoch 37/100\n",
            "115/115 [==============================] - 47s 408ms/step - loss: 0.2251 - accuracy: 0.9122 - val_loss: 0.1979 - val_accuracy: 0.9239\n",
            "Epoch 38/100\n",
            "115/115 [==============================] - 47s 405ms/step - loss: 0.2386 - accuracy: 0.9062 - val_loss: 0.2001 - val_accuracy: 0.9261\n",
            "Epoch 39/100\n",
            "115/115 [==============================] - 46s 403ms/step - loss: 0.2295 - accuracy: 0.9109 - val_loss: 0.1991 - val_accuracy: 0.9228\n",
            "Epoch 40/100\n",
            "115/115 [==============================] - 46s 403ms/step - loss: 0.2313 - accuracy: 0.9141 - val_loss: 0.2008 - val_accuracy: 0.9293\n",
            "Epoch 41/100\n",
            "115/115 [==============================] - 46s 402ms/step - loss: 0.2374 - accuracy: 0.9106 - val_loss: 0.2007 - val_accuracy: 0.9315\n",
            "Epoch 42/100\n",
            "115/115 [==============================] - 46s 400ms/step - loss: 0.2324 - accuracy: 0.9128 - val_loss: 0.1967 - val_accuracy: 0.9326\n",
            "Epoch 43/100\n",
            "115/115 [==============================] - 46s 402ms/step - loss: 0.2228 - accuracy: 0.9120 - val_loss: 0.1921 - val_accuracy: 0.9337\n",
            "Epoch 44/100\n",
            "115/115 [==============================] - 46s 403ms/step - loss: 0.2317 - accuracy: 0.9065 - val_loss: 0.1915 - val_accuracy: 0.9315\n",
            "Epoch 45/100\n",
            "115/115 [==============================] - 46s 400ms/step - loss: 0.2232 - accuracy: 0.9171 - val_loss: 0.1945 - val_accuracy: 0.9293\n",
            "Epoch 46/100\n",
            "115/115 [==============================] - 46s 398ms/step - loss: 0.2219 - accuracy: 0.9179 - val_loss: 0.2002 - val_accuracy: 0.9228\n",
            "Epoch 47/100\n",
            "115/115 [==============================] - 46s 398ms/step - loss: 0.2250 - accuracy: 0.9130 - val_loss: 0.2023 - val_accuracy: 0.9293\n",
            "Epoch 48/100\n",
            "115/115 [==============================] - 46s 400ms/step - loss: 0.2271 - accuracy: 0.9128 - val_loss: 0.1994 - val_accuracy: 0.9239\n",
            "Epoch 49/100\n",
            "115/115 [==============================] - 46s 399ms/step - loss: 0.2171 - accuracy: 0.9177 - val_loss: 0.2035 - val_accuracy: 0.9228\n",
            "Epoch 50/100\n",
            "115/115 [==============================] - 46s 397ms/step - loss: 0.2132 - accuracy: 0.9196 - val_loss: 0.1899 - val_accuracy: 0.9348\n",
            "Epoch 51/100\n",
            "115/115 [==============================] - 46s 399ms/step - loss: 0.2159 - accuracy: 0.9128 - val_loss: 0.1911 - val_accuracy: 0.9359\n",
            "Epoch 52/100\n",
            "115/115 [==============================] - 46s 397ms/step - loss: 0.2244 - accuracy: 0.9136 - val_loss: 0.1873 - val_accuracy: 0.9315\n",
            "Epoch 53/100\n",
            "115/115 [==============================] - 46s 396ms/step - loss: 0.2075 - accuracy: 0.9204 - val_loss: 0.1843 - val_accuracy: 0.9283\n",
            "Epoch 54/100\n",
            "115/115 [==============================] - 46s 397ms/step - loss: 0.2203 - accuracy: 0.9133 - val_loss: 0.1893 - val_accuracy: 0.9359\n",
            "Epoch 55/100\n",
            "115/115 [==============================] - 45s 393ms/step - loss: 0.2169 - accuracy: 0.9182 - val_loss: 0.1876 - val_accuracy: 0.9304\n",
            "Epoch 56/100\n",
            "115/115 [==============================] - 45s 394ms/step - loss: 0.2069 - accuracy: 0.9247 - val_loss: 0.1851 - val_accuracy: 0.9293\n",
            "Epoch 57/100\n",
            "115/115 [==============================] - 45s 395ms/step - loss: 0.2121 - accuracy: 0.9223 - val_loss: 0.1851 - val_accuracy: 0.9380\n",
            "Epoch 58/100\n",
            "115/115 [==============================] - 45s 395ms/step - loss: 0.2201 - accuracy: 0.9125 - val_loss: 0.1940 - val_accuracy: 0.9304\n",
            "Epoch 59/100\n",
            "115/115 [==============================] - 46s 396ms/step - loss: 0.2122 - accuracy: 0.9187 - val_loss: 0.1867 - val_accuracy: 0.9359\n",
            "Epoch 60/100\n",
            "115/115 [==============================] - 46s 396ms/step - loss: 0.2105 - accuracy: 0.9207 - val_loss: 0.1828 - val_accuracy: 0.9402\n",
            "Epoch 61/100\n",
            "115/115 [==============================] - 45s 394ms/step - loss: 0.2021 - accuracy: 0.9226 - val_loss: 0.1921 - val_accuracy: 0.9293\n",
            "Epoch 62/100\n",
            "115/115 [==============================] - 46s 395ms/step - loss: 0.2178 - accuracy: 0.9196 - val_loss: 0.1983 - val_accuracy: 0.9293\n",
            "Epoch 63/100\n",
            "115/115 [==============================] - 45s 395ms/step - loss: 0.2073 - accuracy: 0.9198 - val_loss: 0.1876 - val_accuracy: 0.9359\n",
            "Epoch 64/100\n",
            "115/115 [==============================] - 45s 395ms/step - loss: 0.2033 - accuracy: 0.9231 - val_loss: 0.1957 - val_accuracy: 0.9337\n",
            "Epoch 65/100\n",
            "115/115 [==============================] - 46s 403ms/step - loss: 0.1950 - accuracy: 0.9266 - val_loss: 0.1830 - val_accuracy: 0.9348\n",
            "Epoch 66/100\n",
            "115/115 [==============================] - 47s 409ms/step - loss: 0.2101 - accuracy: 0.9223 - val_loss: 0.1823 - val_accuracy: 0.9326\n",
            "Epoch 67/100\n",
            "115/115 [==============================] - 47s 411ms/step - loss: 0.2070 - accuracy: 0.9190 - val_loss: 0.1899 - val_accuracy: 0.9283\n",
            "Epoch 68/100\n",
            "115/115 [==============================] - 46s 401ms/step - loss: 0.2009 - accuracy: 0.9223 - val_loss: 0.1858 - val_accuracy: 0.9337\n",
            "Epoch 69/100\n",
            "115/115 [==============================] - 46s 401ms/step - loss: 0.2025 - accuracy: 0.9204 - val_loss: 0.1859 - val_accuracy: 0.9337\n",
            "Epoch 70/100\n",
            "115/115 [==============================] - 46s 399ms/step - loss: 0.2055 - accuracy: 0.9196 - val_loss: 0.1885 - val_accuracy: 0.9315\n",
            "Epoch 71/100\n",
            "115/115 [==============================] - 46s 402ms/step - loss: 0.2040 - accuracy: 0.9177 - val_loss: 0.1833 - val_accuracy: 0.9359\n",
            "Epoch 72/100\n",
            "115/115 [==============================] - 46s 400ms/step - loss: 0.1983 - accuracy: 0.9283 - val_loss: 0.1847 - val_accuracy: 0.9370\n",
            "Epoch 73/100\n",
            "115/115 [==============================] - 46s 398ms/step - loss: 0.1992 - accuracy: 0.9236 - val_loss: 0.1816 - val_accuracy: 0.9391\n",
            "Epoch 74/100\n",
            "115/115 [==============================] - 46s 399ms/step - loss: 0.1994 - accuracy: 0.9277 - val_loss: 0.1870 - val_accuracy: 0.9348\n",
            "Epoch 75/100\n",
            "115/115 [==============================] - 46s 399ms/step - loss: 0.1916 - accuracy: 0.9272 - val_loss: 0.1835 - val_accuracy: 0.9380\n",
            "Epoch 76/100\n",
            "115/115 [==============================] - 46s 402ms/step - loss: 0.1909 - accuracy: 0.9261 - val_loss: 0.1855 - val_accuracy: 0.9315\n",
            "Epoch 77/100\n",
            "115/115 [==============================] - 46s 397ms/step - loss: 0.1993 - accuracy: 0.9196 - val_loss: 0.2020 - val_accuracy: 0.9228\n",
            "Epoch 78/100\n",
            "115/115 [==============================] - 46s 396ms/step - loss: 0.1951 - accuracy: 0.9215 - val_loss: 0.1828 - val_accuracy: 0.9359\n",
            "Epoch 79/100\n",
            "115/115 [==============================] - 45s 394ms/step - loss: 0.1968 - accuracy: 0.9223 - val_loss: 0.1894 - val_accuracy: 0.9370\n",
            "Epoch 80/100\n",
            "115/115 [==============================] - 45s 395ms/step - loss: 0.1830 - accuracy: 0.9293 - val_loss: 0.1811 - val_accuracy: 0.9326\n",
            "Epoch 81/100\n",
            "115/115 [==============================] - 45s 393ms/step - loss: 0.1972 - accuracy: 0.9266 - val_loss: 0.1813 - val_accuracy: 0.9359\n",
            "Epoch 82/100\n",
            "115/115 [==============================] - 45s 393ms/step - loss: 0.1917 - accuracy: 0.9253 - val_loss: 0.1841 - val_accuracy: 0.9348\n",
            "Epoch 83/100\n",
            "115/115 [==============================] - 46s 397ms/step - loss: 0.1962 - accuracy: 0.9285 - val_loss: 0.1825 - val_accuracy: 0.9337\n",
            "Epoch 84/100\n",
            "115/115 [==============================] - 46s 396ms/step - loss: 0.1848 - accuracy: 0.9291 - val_loss: 0.1796 - val_accuracy: 0.9370\n",
            "Epoch 85/100\n",
            "115/115 [==============================] - 46s 398ms/step - loss: 0.1918 - accuracy: 0.9302 - val_loss: 0.1797 - val_accuracy: 0.9337\n",
            "Epoch 86/100\n",
            "115/115 [==============================] - 46s 399ms/step - loss: 0.1845 - accuracy: 0.9329 - val_loss: 0.1819 - val_accuracy: 0.9370\n",
            "Epoch 87/100\n",
            "115/115 [==============================] - 47s 409ms/step - loss: 0.1907 - accuracy: 0.9299 - val_loss: 0.1821 - val_accuracy: 0.9337\n",
            "Epoch 88/100\n",
            "115/115 [==============================] - 46s 403ms/step - loss: 0.1842 - accuracy: 0.9340 - val_loss: 0.1855 - val_accuracy: 0.9337\n",
            "Epoch 89/100\n",
            "115/115 [==============================] - 46s 400ms/step - loss: 0.1832 - accuracy: 0.9272 - val_loss: 0.1888 - val_accuracy: 0.9326\n",
            "Epoch 90/100\n",
            "115/115 [==============================] - 46s 402ms/step - loss: 0.1893 - accuracy: 0.9258 - val_loss: 0.1809 - val_accuracy: 0.9348\n",
            "Epoch 91/100\n",
            "115/115 [==============================] - 46s 399ms/step - loss: 0.1885 - accuracy: 0.9266 - val_loss: 0.1799 - val_accuracy: 0.9391\n",
            "Epoch 92/100\n",
            "115/115 [==============================] - 47s 404ms/step - loss: 0.1885 - accuracy: 0.9272 - val_loss: 0.1820 - val_accuracy: 0.9380\n",
            "Epoch 93/100\n",
            "115/115 [==============================] - 47s 406ms/step - loss: 0.1791 - accuracy: 0.9340 - val_loss: 0.1803 - val_accuracy: 0.9402\n",
            "Epoch 94/100\n",
            "115/115 [==============================] - 46s 402ms/step - loss: 0.1826 - accuracy: 0.9293 - val_loss: 0.1773 - val_accuracy: 0.9424\n",
            "Epoch 95/100\n",
            "115/115 [==============================] - 46s 401ms/step - loss: 0.1919 - accuracy: 0.9304 - val_loss: 0.1809 - val_accuracy: 0.9359\n",
            "Epoch 96/100\n",
            "115/115 [==============================] - 46s 400ms/step - loss: 0.1841 - accuracy: 0.9272 - val_loss: 0.1888 - val_accuracy: 0.9304\n",
            "Epoch 97/100\n",
            "115/115 [==============================] - 46s 399ms/step - loss: 0.1879 - accuracy: 0.9304 - val_loss: 0.1832 - val_accuracy: 0.9348\n",
            "Epoch 98/100\n",
            "115/115 [==============================] - 46s 398ms/step - loss: 0.1770 - accuracy: 0.9288 - val_loss: 0.1813 - val_accuracy: 0.9348\n",
            "Epoch 99/100\n",
            "115/115 [==============================] - 46s 399ms/step - loss: 0.1896 - accuracy: 0.9261 - val_loss: 0.1837 - val_accuracy: 0.9391\n",
            "Epoch 100/100\n",
            "115/115 [==============================] - 46s 402ms/step - loss: 0.1871 - accuracy: 0.9280 - val_loss: 0.1822 - val_accuracy: 0.9370\n"
          ]
        }
      ]
    },
    {
      "cell_type": "code",
      "metadata": {
        "colab": {
          "base_uri": "https://localhost:8080/"
        },
        "id": "KrGCmNp2YOxI",
        "outputId": "b766ff49-e8f7-4114-e659-5fde4ed86330"
      },
      "source": [
        "model.save(\"my_model1.h5\")"
      ],
      "execution_count": 10,
      "outputs": [
        {
          "output_type": "stream",
          "name": "stderr",
          "text": [
            "/usr/local/lib/python3.7/dist-packages/keras/utils/generic_utils.py:497: CustomMaskWarning: Custom mask layers require a config and must override get_config. When loading, the custom mask layer must be passed to the custom_objects argument.\n",
            "  category=CustomMaskWarning)\n"
          ]
        }
      ]
    },
    {
      "cell_type": "code",
      "metadata": {
        "id": "inONlN7PYQOn"
      },
      "source": [
        "def plot_leraning_curve(H):\n",
        "    N = len(H.history[\"loss\"])\n",
        "    plt.style.use(\"ggplot\")\n",
        "    plt.figure()\n",
        "    plt.plot(np.arange(0, N),  H.history[\"loss\"], label=\"train_loss\", marker='o',)\n",
        "    plt.plot(np.arange(0, N),  H.history[\"val_loss\"], label=\"val_loss\", marker='o')\n",
        "    plt.plot(np.arange(0, N),  H.history[\"accuracy\"], label=\"train_acc\", marker='o')\n",
        "    plt.plot(np.arange(0, N),  H.history[\"val_accuracy\"], label=\"val_acc\", marker='o')\n",
        "    plt.title(\"Training Loss and Accuracy\")\n",
        "    plt.xlabel(\"Epoch #\")\n",
        "    plt.ylabel(\"Loss/Accuracy\")\n",
        "    plt.legend(loc=\"lower left\")\n",
        "    plt.savefig(\"lerning_curve\")\n",
        "    plt.show()"
      ],
      "execution_count": 11,
      "outputs": []
    },
    {
      "cell_type": "code",
      "metadata": {
        "colab": {
          "base_uri": "https://localhost:8080/",
          "height": 299
        },
        "id": "EYTseV0oYR5X",
        "outputId": "e4df676e-6103-4fde-e42a-0c2db4c61bd2"
      },
      "source": [
        "plot_leraning_curve((history))"
      ],
      "execution_count": 12,
      "outputs": [
        {
          "output_type": "display_data",
          "data": {
            "image/png": "[encoded data removed]",
            "text/plain": [
              "<Figure size 432x288 with 1 Axes>"
            ]
          },
          "metadata": {}
        }
      ]
    },
    {
      "cell_type": "code",
      "metadata": {
        "colab": {
          "base_uri": "https://localhost:8080/"
        },
        "id": "yWXCal21uW9W",
        "outputId": "bc1ba1f9-5d2b-4e16-fbd5-af32a1b2548d"
      },
      "source": [
        "model.evaluate(testX, testY)"
      ],
      "execution_count": 13,
      "outputs": [
        {
          "output_type": "stream",
          "name": "stdout",
          "text": [
            "29/29 [==============================] - 3s 98ms/step - loss: 0.1822 - accuracy: 0.9370\n"
          ]
        },
        {
          "output_type": "execute_result",
          "data": {
            "text/plain": [
              "[0.18216314911842346, 0.936956524848938]"
            ]
          },
          "metadata": {},
          "execution_count": 13
        }
      ]
    }
  ]
}