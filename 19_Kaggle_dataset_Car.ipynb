{
  "nbformat": 4,
  "nbformat_minor": 0,
  "metadata": {
    "colab": {
      "name": "19_Kaggle_dataset_Car.ipynb",
      "provenance": [],
      "authorship_tag": "ABX9TyMhllLnRZaVMHvgpH0ohm9w",
      "include_colab_link": true
    },
    "kernelspec": {
      "name": "python3",
      "display_name": "Python 3"
    },
    "language_info": {
      "name": "python"
    },
    "accelerator": "GPU"
  },
  "cells": [
    {
      "cell_type": "markdown",
      "metadata": {
        "id": "view-in-github",
        "colab_type": "text"
      },
      "source": [
        "<a href=\"https://colab.research.google.com/github/josooik/DeepLearning/blob/main/19_Kaggle_dataset_Car.ipynb\" target=\"_parent\"><img src=\"https://colab.research.google.com/assets/colab-badge.svg\" alt=\"Open In Colab\"/></a>"
      ]
    },
    {
      "cell_type": "markdown",
      "metadata": {
        "id": "n0GXfTSscF3l"
      },
      "source": [
        "# Kaggle Training Set: Self Driving Cars\n",
        "https://www.kaggle.com/roydatascience/training-car"
      ]
    },
    {
      "cell_type": "markdown",
      "metadata": {
        "id": "fSBwvYTmgh8-"
      },
      "source": [
        "### 데이터 읽어오기"
      ]
    },
    {
      "cell_type": "code",
      "metadata": {
        "colab": {
          "base_uri": "https://localhost:8080/",
          "height": 394
        },
        "id": "-6YMHIOwaf7E",
        "outputId": "e2521e3d-1d87-41d0-b52f-9e196b4cb66e"
      },
      "source": [
        "! gdown https://drive.google.com/u/0/uc?id=1X8OFchk1JsJS2j66nos-E77MG_KoHXuv&export=download"
      ],
      "execution_count": null,
      "outputs": [
        {
          "output_type": "stream",
          "name": "stdout",
          "text": [
            "Downloading...\n",
            "From: https://drive.google.com/u/0/uc?id=1X8OFchk1JsJS2j66nos-E77MG_KoHXuv\n",
            "To: /content/archive.zip\n",
            "100% 650M/650M [00:16<00:00, 38.3MB/s]\n"
          ]
        },
        {
          "output_type": "error",
          "ename": "KeyboardInterrupt",
          "evalue": "ignored",
          "traceback": [
            "\u001b[0;31m---------------------------------------------------------------------------\u001b[0m",
            "\u001b[0;31mKeyboardInterrupt\u001b[0m                         Traceback (most recent call last)",
            "\u001b[0;32m<ipython-input-42-5e9bd25e7701>\u001b[0m in \u001b[0;36m<module>\u001b[0;34m()\u001b[0m\n\u001b[0;32m----> 1\u001b[0;31m \u001b[0mget_ipython\u001b[0m\u001b[0;34m(\u001b[0m\u001b[0;34m)\u001b[0m\u001b[0;34m.\u001b[0m\u001b[0msystem\u001b[0m\u001b[0;34m(\u001b[0m\u001b[0;34m' gdown https://drive.google.com/u/0/uc?id=1X8OFchk1JsJS2j66nos-E77MG_KoHXuv&export=download'\u001b[0m\u001b[0;34m)\u001b[0m\u001b[0;34m\u001b[0m\u001b[0;34m\u001b[0m\u001b[0m\n\u001b[0m",
            "\u001b[0;32m/usr/local/lib/python3.7/dist-packages/google/colab/_shell.py\u001b[0m in \u001b[0;36msystem\u001b[0;34m(self, *args, **kwargs)\u001b[0m\n\u001b[1;32m    100\u001b[0m       \u001b[0mkwargs\u001b[0m\u001b[0;34m.\u001b[0m\u001b[0mupdate\u001b[0m\u001b[0;34m(\u001b[0m\u001b[0;34m{\u001b[0m\u001b[0;34m'also_return_output'\u001b[0m\u001b[0;34m:\u001b[0m \u001b[0;32mTrue\u001b[0m\u001b[0;34m}\u001b[0m\u001b[0;34m)\u001b[0m\u001b[0;34m\u001b[0m\u001b[0;34m\u001b[0m\u001b[0m\n\u001b[1;32m    101\u001b[0m \u001b[0;34m\u001b[0m\u001b[0m\n\u001b[0;32m--> 102\u001b[0;31m     \u001b[0moutput\u001b[0m \u001b[0;34m=\u001b[0m \u001b[0m_system_commands\u001b[0m\u001b[0;34m.\u001b[0m\u001b[0m_system_compat\u001b[0m\u001b[0;34m(\u001b[0m\u001b[0mself\u001b[0m\u001b[0;34m,\u001b[0m \u001b[0;34m*\u001b[0m\u001b[0margs\u001b[0m\u001b[0;34m,\u001b[0m \u001b[0;34m**\u001b[0m\u001b[0mkwargs\u001b[0m\u001b[0;34m)\u001b[0m  \u001b[0;31m# pylint:disable=protected-access\u001b[0m\u001b[0;34m\u001b[0m\u001b[0;34m\u001b[0m\u001b[0m\n\u001b[0m\u001b[1;32m    103\u001b[0m \u001b[0;34m\u001b[0m\u001b[0m\n\u001b[1;32m    104\u001b[0m     \u001b[0;32mif\u001b[0m \u001b[0mpip_warn\u001b[0m\u001b[0;34m:\u001b[0m\u001b[0;34m\u001b[0m\u001b[0;34m\u001b[0m\u001b[0m\n",
            "\u001b[0;32m/usr/local/lib/python3.7/dist-packages/google/colab/_system_commands.py\u001b[0m in \u001b[0;36m_system_compat\u001b[0;34m(shell, cmd, also_return_output)\u001b[0m\n\u001b[1;32m    445\u001b[0m   \u001b[0;31m# stack.\u001b[0m\u001b[0;34m\u001b[0m\u001b[0;34m\u001b[0m\u001b[0;34m\u001b[0m\u001b[0m\n\u001b[1;32m    446\u001b[0m   result = _run_command(\n\u001b[0;32m--> 447\u001b[0;31m       shell.var_expand(cmd, depth=2), clear_streamed_output=False)\n\u001b[0m\u001b[1;32m    448\u001b[0m   \u001b[0mshell\u001b[0m\u001b[0;34m.\u001b[0m\u001b[0muser_ns\u001b[0m\u001b[0;34m[\u001b[0m\u001b[0;34m'_exit_code'\u001b[0m\u001b[0;34m]\u001b[0m \u001b[0;34m=\u001b[0m \u001b[0mresult\u001b[0m\u001b[0;34m.\u001b[0m\u001b[0mreturncode\u001b[0m\u001b[0;34m\u001b[0m\u001b[0;34m\u001b[0m\u001b[0m\n\u001b[1;32m    449\u001b[0m   \u001b[0;32mif\u001b[0m \u001b[0;34m-\u001b[0m\u001b[0mresult\u001b[0m\u001b[0;34m.\u001b[0m\u001b[0mreturncode\u001b[0m \u001b[0;32min\u001b[0m \u001b[0m_INTERRUPTED_SIGNALS\u001b[0m\u001b[0;34m:\u001b[0m\u001b[0;34m\u001b[0m\u001b[0;34m\u001b[0m\u001b[0m\n",
            "\u001b[0;32m/usr/local/lib/python3.7/dist-packages/google/colab/_system_commands.py\u001b[0m in \u001b[0;36m_run_command\u001b[0;34m(cmd, clear_streamed_output)\u001b[0m\n\u001b[1;32m    197\u001b[0m       \u001b[0mos\u001b[0m\u001b[0;34m.\u001b[0m\u001b[0mclose\u001b[0m\u001b[0;34m(\u001b[0m\u001b[0mchild_pty\u001b[0m\u001b[0;34m)\u001b[0m\u001b[0;34m\u001b[0m\u001b[0;34m\u001b[0m\u001b[0m\n\u001b[1;32m    198\u001b[0m \u001b[0;34m\u001b[0m\u001b[0m\n\u001b[0;32m--> 199\u001b[0;31m       \u001b[0;32mreturn\u001b[0m \u001b[0m_monitor_process\u001b[0m\u001b[0;34m(\u001b[0m\u001b[0mparent_pty\u001b[0m\u001b[0;34m,\u001b[0m \u001b[0mepoll\u001b[0m\u001b[0;34m,\u001b[0m \u001b[0mp\u001b[0m\u001b[0;34m,\u001b[0m \u001b[0mcmd\u001b[0m\u001b[0;34m,\u001b[0m \u001b[0mupdate_stdin_widget\u001b[0m\u001b[0;34m)\u001b[0m\u001b[0;34m\u001b[0m\u001b[0;34m\u001b[0m\u001b[0m\n\u001b[0m\u001b[1;32m    200\u001b[0m   \u001b[0;32mfinally\u001b[0m\u001b[0;34m:\u001b[0m\u001b[0;34m\u001b[0m\u001b[0;34m\u001b[0m\u001b[0m\n\u001b[1;32m    201\u001b[0m     \u001b[0mepoll\u001b[0m\u001b[0;34m.\u001b[0m\u001b[0mclose\u001b[0m\u001b[0;34m(\u001b[0m\u001b[0;34m)\u001b[0m\u001b[0;34m\u001b[0m\u001b[0;34m\u001b[0m\u001b[0m\n",
            "\u001b[0;32m/usr/local/lib/python3.7/dist-packages/google/colab/_system_commands.py\u001b[0m in \u001b[0;36m_monitor_process\u001b[0;34m(parent_pty, epoll, p, cmd, update_stdin_widget)\u001b[0m\n\u001b[1;32m    227\u001b[0m   \u001b[0;32mwhile\u001b[0m \u001b[0;32mTrue\u001b[0m\u001b[0;34m:\u001b[0m\u001b[0;34m\u001b[0m\u001b[0;34m\u001b[0m\u001b[0m\n\u001b[1;32m    228\u001b[0m     \u001b[0;32mtry\u001b[0m\u001b[0;34m:\u001b[0m\u001b[0;34m\u001b[0m\u001b[0;34m\u001b[0m\u001b[0m\n\u001b[0;32m--> 229\u001b[0;31m       \u001b[0mresult\u001b[0m \u001b[0;34m=\u001b[0m \u001b[0m_poll_process\u001b[0m\u001b[0;34m(\u001b[0m\u001b[0mparent_pty\u001b[0m\u001b[0;34m,\u001b[0m \u001b[0mepoll\u001b[0m\u001b[0;34m,\u001b[0m \u001b[0mp\u001b[0m\u001b[0;34m,\u001b[0m \u001b[0mcmd\u001b[0m\u001b[0;34m,\u001b[0m \u001b[0mdecoder\u001b[0m\u001b[0;34m,\u001b[0m \u001b[0mstate\u001b[0m\u001b[0;34m)\u001b[0m\u001b[0;34m\u001b[0m\u001b[0;34m\u001b[0m\u001b[0m\n\u001b[0m\u001b[1;32m    230\u001b[0m       \u001b[0;32mif\u001b[0m \u001b[0mresult\u001b[0m \u001b[0;32mis\u001b[0m \u001b[0;32mnot\u001b[0m \u001b[0;32mNone\u001b[0m\u001b[0;34m:\u001b[0m\u001b[0;34m\u001b[0m\u001b[0;34m\u001b[0m\u001b[0m\n\u001b[1;32m    231\u001b[0m         \u001b[0;32mreturn\u001b[0m \u001b[0mresult\u001b[0m\u001b[0;34m\u001b[0m\u001b[0;34m\u001b[0m\u001b[0m\n",
            "\u001b[0;32m/usr/local/lib/python3.7/dist-packages/google/colab/_system_commands.py\u001b[0m in \u001b[0;36m_poll_process\u001b[0;34m(parent_pty, epoll, p, cmd, decoder, state)\u001b[0m\n\u001b[1;32m    274\u001b[0m   \u001b[0moutput_available\u001b[0m \u001b[0;34m=\u001b[0m \u001b[0;32mFalse\u001b[0m\u001b[0;34m\u001b[0m\u001b[0;34m\u001b[0m\u001b[0m\n\u001b[1;32m    275\u001b[0m \u001b[0;34m\u001b[0m\u001b[0m\n\u001b[0;32m--> 276\u001b[0;31m   \u001b[0mevents\u001b[0m \u001b[0;34m=\u001b[0m \u001b[0mepoll\u001b[0m\u001b[0;34m.\u001b[0m\u001b[0mpoll\u001b[0m\u001b[0;34m(\u001b[0m\u001b[0;34m)\u001b[0m\u001b[0;34m\u001b[0m\u001b[0;34m\u001b[0m\u001b[0m\n\u001b[0m\u001b[1;32m    277\u001b[0m   \u001b[0minput_events\u001b[0m \u001b[0;34m=\u001b[0m \u001b[0;34m[\u001b[0m\u001b[0;34m]\u001b[0m\u001b[0;34m\u001b[0m\u001b[0;34m\u001b[0m\u001b[0m\n\u001b[1;32m    278\u001b[0m   \u001b[0;32mfor\u001b[0m \u001b[0m_\u001b[0m\u001b[0;34m,\u001b[0m \u001b[0mevent\u001b[0m \u001b[0;32min\u001b[0m \u001b[0mevents\u001b[0m\u001b[0;34m:\u001b[0m\u001b[0;34m\u001b[0m\u001b[0;34m\u001b[0m\u001b[0m\n",
            "\u001b[0;31mKeyboardInterrupt\u001b[0m: "
          ]
        }
      ]
    },
    {
      "cell_type": "code",
      "metadata": {
        "id": "HAya1Y7Ia3qQ"
      },
      "source": [
        "!unzip -q archive.zip"
      ],
      "execution_count": null,
      "outputs": []
    },
    {
      "cell_type": "markdown",
      "metadata": {
        "id": "eu7kfEAzgkn_"
      },
      "source": [
        "### 데이터 경로 설정"
      ]
    },
    {
      "cell_type": "code",
      "metadata": {
        "id": "TDpl-yArb98I"
      },
      "source": [
        "import numpy as np\n",
        "import pandas as pd\n",
        "import cv2\n",
        "import os\n",
        "from glob import glob\n",
        "import matplotlib.pyplot as plt\n",
        "from tensorflow.keras import layers, models\n",
        "\n",
        "path = './self driving car training data/data/'\n",
        "\n",
        "PATH_IMG = sorted(glob(os.path.join(path, 'IMG/*.jpg')))\n",
        "PATH_CSV = os.path.join(path, 'driving_log.csv')\n",
        "\n",
        "print(\"* PATH_IMG :\", PATH_IMG)\n",
        "print(\"* PATH_IMG 갯수 :\", len(PATH_IMG))\n",
        "\n",
        "print(\"\\n\")\n",
        "\n",
        "print(\"* PATH_CSV :\", PATH_CSV)\n",
        "print(\"* PATH_CSV 갯수 :\", len(PATH_CSV))"
      ],
      "execution_count": null,
      "outputs": []
    },
    {
      "cell_type": "markdown",
      "metadata": {
        "id": "A22mVcHCgdre"
      },
      "source": [
        "### 로그파일 경로"
      ]
    },
    {
      "cell_type": "code",
      "metadata": {
        "id": "J9G2Noxugf0e"
      },
      "source": [
        "data_frame = pd.read_csv(PATH_CSV)\n",
        "data_frame"
      ],
      "execution_count": null,
      "outputs": []
    },
    {
      "cell_type": "markdown",
      "metadata": {
        "id": "FW0KWYvlgYGm"
      },
      "source": [
        "### 라벨값 히스토그램\n",
        "* steering\n",
        "* throttle\n",
        "* break\n",
        "* speed"
      ]
    },
    {
      "cell_type": "code",
      "metadata": {
        "id": "SnLqtAMTiShu"
      },
      "source": [
        "streering = data_frame[data_frame.columns[3]].values\n",
        "throttle = data_frame[data_frame.columns[4]].values\n",
        "brak = data_frame[data_frame.columns[5]].values\n",
        "speed = data_frame[data_frame.columns[6]].values"
      ],
      "execution_count": null,
      "outputs": []
    },
    {
      "cell_type": "code",
      "metadata": {
        "id": "Mdz52Y54irUG"
      },
      "source": [
        "plt.style.use('ggplot')\n",
        "plt.figure(figsize=(12, 4))\n",
        "\n",
        "plot_list = [steering, throttle, brak, speed]\n",
        "plot_name = ['steering', 'throttle', 'brak', 'speed' ]\n",
        "\n",
        "for i in range(len(plot_list)):\n",
        "  plt.subplot(1, len(plot_list), i+1)\n",
        "  plt.title(plot_name[i])\n",
        "  plt.hist(plot_list[i])\n",
        "\n",
        "plt.show()"
      ],
      "execution_count": null,
      "outputs": []
    },
    {
      "cell_type": "markdown",
      "metadata": {
        "id": "JKbsTGHEjaFN"
      },
      "source": [
        "### Data Generator with augmentation"
      ]
    },
    {
      "cell_type": "code",
      "metadata": {
        "id": "y8-DylB9jdT1"
      },
      "source": [
        "import tensorflow as tf\n",
        "from tensorflow.keras.preprocessing.image import load_img, img_to_array\n",
        "\n",
        "class DataGenerator():\n",
        "  def __init__(self, img_size, batch_size):\n",
        "    self.img_size = img_size\n",
        "    self.batch_size = batch_size\n",
        "\n",
        "  def path2arr(self, path, mask=False):\n",
        "    # img 일때\n",
        "    if not mask:\n",
        "      # path -> img\n",
        "      img = load_img(path, color_mode='rgb', target_size=(self.img_size, self.img_size))\n",
        "      # img -> arr\n",
        "      arr = img_to_array(img, dtype='uint8')\n",
        "\n",
        "    return arr\n",
        "  \n",
        "  def load_datasets(self, img_paths, mask_paths):\n",
        "    img_arrs = []\n",
        "\n",
        "    img_arr = self.path2arr(img_path)\n",
        "    img_arrs.append(img_arr)\n",
        "\n",
        "    return np.array(img_arrs)\n",
        "\n",
        "  def preprocess(self, img_arr, mask_arr):\n",
        "    img_arr = (img_arr / 127.5) -1\n",
        "\n",
        "    return img_arr\n",
        "\n",
        "  def tf_preprocess(self, img_arr, mask_arr):\n",
        "    img_arr = (tf.cast(img_arr, tf.float32) / 127.5)\n",
        "\n",
        "    return img_arrs\n",
        "\n",
        "  def augment(slef, img, mask):\n",
        "    # 밝기랜덤조절\n",
        "    img = tf.image.random_brightness(img, max_delta=0.2)\n",
        "\n",
        "    img = tf.image.random_contrast(img, 0.5, 2.0)\n",
        "    img = tf.image.random_saturation(img, 0.75, 1.25)\n",
        "\n",
        "    img = tf.clip_by_value(img, -1, 1)\n",
        "\n",
        "    # 좌우랜덤반전 / 상하랜덤반전\n",
        "    ds = tf.image.random_flip_left_right(ds)\n",
        "    #ds = tf.image.random_flip_up_down(ds)\n",
        "    \n",
        "    # 이미지 사이즈 증가(padding)\n",
        "    #pd_size = 50\n",
        "    #img = tf.image.resize_with_crop_or_pad(img, self.img_size + pad_size, self.img_size + pad_size)\n",
        "\n",
        "    # 랜덤크롭\n",
        "    #ds = tf.cncat((img, mask), axis=2)\n",
        "    #ds = tf.image.random_crop(ds, size=[self.img_size, self.img_size, 4])\n",
        "    #img = (256, 256, 3)\n",
        "\n",
        "    return img\n",
        "\n",
        "  def generate(self, img_paths, mask_paths, aug=False):\n",
        "    # 기존 Numpy 이용한 데이터셋 처리\n",
        "    img_arrs, mask_arrs = self.load_datasets(img_paths, mask_paths)\n",
        "\n",
        "    # tensorflow dataset 라이브러리 사용 여기서부터는 Numpy가 아니라 Tensor 이용\n",
        "    dataset = tf.data.Dataset.from_tensor_slices((img_arrs, mask_arrs))\n",
        "    # shuffle\n",
        "    dataset = dataset.shuffle(1)\n",
        "    dataset = dataset.map(self.tf_preprocess, num_parallel_calls=tf.data.AUTOTUNE) # 전처리, num_parallel_calls=tf.data.AUTOTUNE -> 병렬처리\n",
        "    \n",
        "    if aug:\n",
        "      dataset.map(self.augment, num_parallel_calls=tf.data.AUTOTUNE)\n",
        "\n",
        "    dataset = dataset.batch(self.batch_size, drop_remainder=True) # batch 사이즈 지정\n",
        "\n",
        "    print(dataset)\n",
        "\n",
        "    return dataset"
      ],
      "execution_count": null,
      "outputs": []
    },
    {
      "cell_type": "code",
      "metadata": {
        "id": "LEcBuPz1tEpj"
      },
      "source": [
        "train_x = []\n",
        "train_y = []\n",
        "\n",
        "path = './self driving car training data/data/IMG'\n",
        "stear_adjust_factor = 0.2\n",
        "IMAGE_HEIGHT = 100 \n",
        "IMAGE_WIDTH = 100\n",
        "\n",
        "for i in range(no_of_examples):\n",
        "    \n",
        "    for choice in range(3):\n",
        "        \n",
        "        if choice == 0: #Center\n",
        "            img = cv2.imread(os.path.join(path, center[i].split('IMG/')[1]))\n",
        "            steering_angle = steering[i]\n",
        "\n",
        "        elif choice == 1: #Left\n",
        "            img = cv2.imread(os.path.join(path, left[i].split('IMG/')[1]))\n",
        "            steering_angle = steering[i] + stear_adjust_factor\n",
        "\n",
        "        elif choice == 2: #Right\n",
        "            img = cv2.imread(os.path.join(ipath, right[i].split('IMG/')[1]))\n",
        "            steering_angle = steering[i] - stear_adjust_factor\n",
        "        \n",
        "        img = cv2.cvtColor(img, cv2.COLOR_RGB2HSV)[:,:,1]\n",
        "        img = cv2.resize(img,(IMAGE_HEIGHT,IMAGE_WIDTH))\n",
        "        \n",
        "        train_x.append(img)\n",
        "        train_y.append(steering_angle)\n",
        "        \n",
        "        flip_img,steering_angle = random_flip(img,steering_angle)\n",
        "                \n",
        "        train_x.append(flip_img)\n",
        "        train_y.append(steering_angle)\n",
        "        \n",
        "\n",
        "train_x = np.array(train_x)\n",
        "train_x = np.reshape(train_x,[train_x.shape[0],train_x.shape[1],train_x.shape[2],1])\n",
        "\n",
        "train_y = np.array(train_y)\n",
        "train_y = np.reshape(train_y,[train_y.shape[0],1])\n",
        "\n",
        "print(train_x.shape)\n",
        "print(train_y.shape)"
      ],
      "execution_count": null,
      "outputs": []
    },
    {
      "cell_type": "markdown",
      "metadata": {
        "id": "VW6WyclckJSE"
      },
      "source": [
        "# 1. 데이터셋 확보 후 알려주시고"
      ]
    },
    {
      "cell_type": "markdown",
      "metadata": {
        "id": "BTiF3PbjkNwM"
      },
      "source": [
        "# 2. 모델 만들고나서 알려주시고"
      ]
    },
    {
      "cell_type": "markdown",
      "metadata": {
        "id": "9pV91W2Ejwdk"
      },
      "source": [
        "### 모델"
      ]
    },
    {
      "cell_type": "code",
      "metadata": {
        "id": "XJJaBwBUjxps"
      },
      "source": [
        "# 전이학습\n",
        "# 모델 가져온후\n",
        "# 끝부분에 Flatten + Dense + 마지막에 값하나 예측"
      ],
      "execution_count": null,
      "outputs": []
    }
  ]
}